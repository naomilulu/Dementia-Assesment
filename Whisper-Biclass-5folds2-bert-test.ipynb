{
 "cells": [
  {
   "cell_type": "code",
   "execution_count": 2,
   "id": "heavy-exercise",
   "metadata": {},
   "outputs": [
    {
     "name": "stderr",
     "output_type": "stream",
     "text": [
      "'export' ���O�����Υ~���R�O�B�i���檺�{���Χ妸�ɡC\n"
     ]
    }
   ],
   "source": [
    "!export CUDA_VISIBLE_DEVICES=0"
   ]
  },
  {
   "cell_type": "code",
   "execution_count": 3,
   "id": "convertible-fight",
   "metadata": {},
   "outputs": [
    {
     "name": "stdout",
     "output_type": "stream",
     "text": [
      "0\n"
     ]
    }
   ],
   "source": [
    "import os\n",
    "os.environ['CUDA_VISIBLE_DEVICES']='0'\n",
    "# os.environ['CUDA_VISIBLE_DEVICES']='0,1'\n",
    "os.environ['CUDA_LAUNCH_BLOCKING']='1'\n",
    "import torch\n",
    "# torch.cuda.set_device(0)\n",
    "print(torch.cuda.current_device())\n"
   ]
  },
  {
   "cell_type": "code",
   "execution_count": 4,
   "id": "assured-participation",
   "metadata": {},
   "outputs": [
    {
     "data": {
      "text/plain": [
       "True"
      ]
     },
     "execution_count": 4,
     "metadata": {},
     "output_type": "execute_result"
    }
   ],
   "source": [
    "torch.cuda.is_available()"
   ]
  },
  {
   "cell_type": "code",
   "execution_count": 5,
   "id": "legal-responsibility",
   "metadata": {},
   "outputs": [
    {
     "data": {
      "text/plain": [
       "1"
      ]
     },
     "execution_count": 5,
     "metadata": {},
     "output_type": "execute_result"
    }
   ],
   "source": [
    "torch.cuda.device_count()"
   ]
  },
  {
   "cell_type": "code",
   "execution_count": 6,
   "id": "caroline-baking",
   "metadata": {},
   "outputs": [
    {
     "data": {
      "text/plain": [
       "0"
      ]
     },
     "execution_count": 6,
     "metadata": {},
     "output_type": "execute_result"
    }
   ],
   "source": [
    "torch.cuda.current_device()"
   ]
  },
  {
   "cell_type": "code",
   "execution_count": 7,
   "id": "cordless-compiler",
   "metadata": {},
   "outputs": [],
   "source": [
    "# cudaSetDevice(0)\n",
    "#dataset transcript要在dataset資好夾調\n",
    "#cuda 在basesolver init調\n",
    "#dataset要在data.py設定"
   ]
  },
  {
   "cell_type": "code",
   "execution_count": 1,
   "id": "champion-kingston",
   "metadata": {},
   "outputs": [
    {
     "name": "stdout",
     "output_type": "stream",
     "text": [
      "0\n"
     ]
    }
   ],
   "source": [
    "import torch\n",
    "torch.cuda.is_available()\n",
    "import os\n",
    "os.environ['CUDA_VISIBLE_DEVICES']='1'\n",
    "# os.environ['CUDA_VISIBLE_DEVICES']='0,1'\n",
    "os.environ['CUDA_LAUNCH_BLOCKING']='1'\n",
    "import torch\n",
    "# torch.cuda.set_device(0)\n",
    "print(torch.cuda.current_device())\n",
    "#! python\n",
    "# -*- coding: utf-8 -*-\n",
    "# Author: kun\n",
    "# @Time: 2019-10-29 20:29\n",
    "\n",
    "import yaml\n",
    "import torch\n",
    "import argparse\n",
    "import numpy as np\n",
    "import pandas as pd\n",
    "\n",
    "dfs = []\n",
    "alldf =pd.DataFrame()\n",
    "\n",
    "class Para(object):\n",
    "    a=1\n",
    "\n",
    "def force_cudnn_initialization():\n",
    "    s = 32\n",
    "    dev = torch.device('cuda:0')\n",
    "    torch.nn.functional.conv2d(torch.zeros(s, s, s, s, device=dev), torch.zeros(s, s, s, s, device=dev))\n",
    "    \n",
    "#force_cudnn_initialization()\n",
    "def main():\n",
    "    # For reproducibility, comment these may speed up training\n",
    "    torch.backends.cudnn.deterministic = True\n",
    "    torch.backends.cudnn.benchmark = False\n",
    "\n",
    "    # Arguments\n",
    "#     parser = argparse.ArgumentParser(description='Training E2E asr.')\n",
    "#     parser.add_argument('--config', type=str, help='Path to experiment config.')\n",
    "#     parser.add_argument('--name', default=None, type=str, help='Name for logging.')\n",
    "#     parser.add_argument('--logdir', default='log/', type=str,\n",
    "#                         help='Logging path.', required=False)\n",
    "#     parser.add_argument('--ckpdir', default='ckpt/', type=str,\n",
    "#                         help='Checkpoint path.', required=False)\n",
    "#     parser.add_argument('--outdir', default='result/', type=str,\n",
    "#                         help='Decode output path.', required=False)\n",
    "#     parser.add_argument('--load', default=None, type=str,\n",
    "#                         help='Load pre-trained model (for training only)', required=False)\n",
    "#     parser.add_argument('--seed', default=0, type=int,\n",
    "#                         help='Random seed for reproducable results.', required=False)\n",
    "#     parser.add_argument('--cudnn-ctc', action='store_true',\n",
    "#                         help='Switches CTC backend from torch to cudnn')\n",
    "#     parser.add_argument('--njobs', default=32, type=int,\n",
    "#                         help='Number of threads for dataloader/decoding.', required=False)\n",
    "#     parser.add_argument('--cpu', action='store_true', help='Disable GPU training.')\n",
    "#     parser.add_argument('--no-pin', action='store_true',\n",
    "#                         help='Disable pin-memory for dataloader')\n",
    "#     parser.add_argument('--test', action='store_true', help='Test the model.')\n",
    "#     parser.add_argument('--no-msg', action='store_true', help='Hide all messages.')\n",
    "#     parser.add_argument('--lm', action='store_true',\n",
    "#                         help='Option for training RNNLM.')\n",
    "#     # Following features in development.\n",
    "#     parser.add_argument('--amp', action='store_true', help='Option to enable AMP.')\n",
    "#     parser.add_argument('--reserve-gpu', default=0, type=float,\n",
    "#                         help='Option to reserve GPU ram for training.')\n",
    "#     parser.add_argument('--jit', action='store_true',\n",
    "#                         help='Option for enabling jit in pytorch. (feature in development)')\n",
    "#     ###\n",
    "#     paras = parser.parse_args()\n",
    "    paras = Para()\n",
    "#     paras.config = './config/aishell_asr_example_lstm4atthead1-test.yaml'\n",
    "#     paras.name = None\n",
    "#     paras.logdir = 'log/'\n",
    "#     paras.ckpdir = 'ckpt/'\n",
    "#     paras.outdir = 'result/'\n",
    "#     paras.load = None\n",
    "#     paras.seed = 0\n",
    "#     paras.cudnn_ctc = False\n",
    "#     paras.cpu = False\n",
    "#     paras.no_pin = False\n",
    "#     paras.test = True\n",
    "#     paras.no_msg = False\n",
    "#     paras.lm = False\n",
    "#     paras.amp = False\n",
    "#     paras.reserve_gpu = 0\n",
    "#     paras.jit = False\n",
    "    setattr(paras, 'config', './config/cv11Lu_asr_lstm4atthead_allvocab-bertclass-test.yaml')\n",
    "    setattr(paras, 'name', None)\n",
    "    setattr(paras, 'logdir', 'log/')\n",
    "    setattr(paras, 'ckpdir', 'ckpt/')\n",
    "    setattr(paras, 'outdir', 'result/')\n",
    "    setattr(paras, 'load', None)\n",
    "    setattr(paras, 'seed', 0)\n",
    "    setattr(paras, 'cudnn_ctc', False)\n",
    "    setattr(paras, 'njobs',0)\n",
    "    setattr(paras, 'cpu', False)\n",
    "    setattr(paras, 'no_pin', False)\n",
    "    setattr(paras, 'test', True)\n",
    "    setattr(paras, 'no_msg', False)\n",
    "    setattr(paras, 'lm', False)\n",
    "    setattr(paras, 'amp', False)\n",
    "    setattr(paras, 'reserve_gpu', 9)\n",
    "    setattr(paras, 'jit', False)\n",
    "    setattr(paras, 'gpu', not paras.cpu)\n",
    "    setattr(paras, 'pin_memory', not paras.no_pin)\n",
    "    setattr(paras, 'verbose', not paras.no_msg)\n",
    "    setattr(paras, 'finetune', False)\n",
    "    setattr(paras, 'binaryClass', True)\n",
    "    force_cudnn_initialization()\n",
    "\n",
    "    config = yaml.load(open(paras.config, 'r'), Loader=yaml.FullLoader)\n",
    "\n",
    "    np.random.seed(paras.seed)\n",
    "    torch.manual_seed(paras.seed)\n",
    "    if torch.cuda.is_available():\n",
    "        torch.cuda.manual_seed_all(paras.seed)\n",
    "\n",
    "    # Hack to preserve GPU ram just incase OOM later on server\n",
    "    if paras.gpu and paras.reserve_gpu > 0:\n",
    "        buff = torch.randn(int(paras.reserve_gpu * 1e9 // 4)).cuda()\n",
    "        del buff\n",
    "\n",
    "    if paras.lm:\n",
    "        # Train RNNLM\n",
    "        from train_lm import Solver\n",
    "\n",
    "        mode = 'train'\n",
    "    else:\n",
    "        if paras.test:\n",
    "            # Test ASR\n",
    "            assert paras.load is None, 'Load option is mutually exclusive to --test'\n",
    "            # from test_bertclass import Solver\n",
    "            from Whisper_Biclass_bert_test import Solver\n",
    "\n",
    "            mode = 'test'\n",
    "        elif paras.finetune:\n",
    "            assert paras.load is not None\n",
    "            from finetune_asr import Solver\n",
    "            mode = 'train'\n",
    "        elif paras.binaryClass:\n",
    "            assert paras.load is not None\n",
    "            from Whisper_Biclass_bert_train import Solver\n",
    "            mode = 'train'\n",
    "        else:\n",
    "            # Train ASR\n",
    "            from train_asr import Solver\n",
    "\n",
    "            mode = 'train'\n",
    "\n",
    "    print(\"\\nUsing {} mode\\n\".format(mode))\n",
    "    for idx in range(5):\n",
    "        paras.config = f'./config/cv11Lu_asr_lstm4atthead_allvocab-biclass-test-5-{idx+1}.yaml'\n",
    "        config = yaml.load(open(paras.config, 'r'), Loader=yaml.FullLoader)\n",
    "        config['core']['ckpt'] = f'LAS_ckpt/cv11Lu_asr_lstm4atthead_allvocab-biclass2-5fold-{idx+1}_sd0/bert-v2-15k-r-a-final-s12.pth'\n",
    "        solver = Solver(config, paras, mode)\n",
    "\n",
    "        solver.load_data()\n",
    "    #     solver.print_model()\n",
    "        solver.set_model()\n",
    "        names, hyps, txts, ans = solver.exec()\n",
    "        dfs.append(pd.DataFrame(\n",
    "            {'name': names,\n",
    "             'hyps': hyps,\n",
    "             'truth': txts,\n",
    "             'ifcorrect': ans\n",
    "            }))\n",
    "        print(dfs[idx])\n",
    "        print(names)\n",
    "        print(hyps)\n",
    "        print(txts)\n",
    "        print(ans)\n",
    "        del solver\n"
   ]
  },
  {
   "cell_type": "code",
   "execution_count": 2,
   "id": "metric-twenty",
   "metadata": {},
   "outputs": [
    {
     "name": "stdout",
     "output_type": "stream",
     "text": [
      "\n",
      "Using test mode\n",
      "\n",
      "[INFO] Evaluating result of tr. config @ ../LAS_Mandarin_PyTorch-master/config/cv11Lu_asr_lstm4atthead_allvocab-biclass2-5fold-1.yaml\n",
      "[INFO] Evaluating result of tr. ckpt @ LAS_ckpt/cv11Lu_asr_lstm4atthead_allvocab-biclass2-5fold-1_sd0/bert-v2-15k-r-a-final-s12.pth\n"
     ]
    },
    {
     "name": "stderr",
     "output_type": "stream",
     "text": [
      "Some weights of the model checkpoint at google-bert/bert-base-chinese were not used when initializing BertForMaskedLM: ['bert.pooler.dense.bias', 'bert.pooler.dense.weight', 'cls.seq_relationship.bias', 'cls.seq_relationship.weight']\n",
      "- This IS expected if you are initializing BertForMaskedLM from the checkpoint of a model trained on another task or with another architecture (e.g. initializing a BertForSequenceClassification model from a BertForPreTraining model).\n",
      "- This IS NOT expected if you are initializing BertForMaskedLM from the checkpoint of a model that you expect to be exactly identical (initializing a BertForSequenceClassification model from a BertForSequenceClassification model).\n"
     ]
    },
    {
     "name": "stdout",
     "output_type": "stream",
     "text": [
      "Load data for training/validation, store tokenizer and input/output shape\n",
      "Prepare dataloader for training/validation\n",
      "Interface for creating all kinds of dataset\n",
      "import VAGDataset as Dataset\n",
      "[VAGDataset] path: data_process, split: ['CTT5-1-16']\n",
      "Mozillacv11Dataset CTT5-1-16 found wav data: 17\n",
      "text len: 17\n",
      "remove None, then wav data: 17, text len: 17\n",
      "[VAGDataset] path: data_process, split: ['CTTsegment_remove']\n",
      "Mozillacv11Dataset CTTsegment_remove found wav data: 100\n",
      "text len: 100\n",
      "remove None, then wav data: 99, text len: 99\n",
      "Setup ASR model and optimizer \n",
      "('15',)   0.819206714630127   0.0   False\n",
      "('16',)   0.4743093252182007   1.0   False\n",
      "('22',)   0.37050679326057434   0.0   True\n",
      "('28',)   0.5112345814704895   1.0   True\n",
      "('34',)   0.08283716440200806   0.0   True\n",
      "('35',)   0.4790976941585541   1.0   False\n",
      "('40',)   0.9470027089118958   1.0   True\n",
      "('42',)   0.21387498080730438   0.0   True\n",
      "('51',)   0.44306302070617676   0.0   True\n",
      "('53',)   0.07446487247943878   0.0   True\n",
      "('55',)   0.0641312375664711   0.0   True\n",
      "('70',)   0.012505995109677315   0.0   True\n",
      "('83',)   0.14919140934944153   0.0   True\n",
      "('84',)   0.0412873849272728   0.0   True\n",
      "('85',)   0.036684028804302216   0.0   True\n",
      "('97',)   0.11078527569770813   0.0   True\n",
      "('99',)   0.26027923822402954   0.0   True\n",
      "[INFO] All done !                                                                                          \n",
      "   name      hyps  truth  ifcorrect\n",
      "0    15  0.819207    0.0      False\n",
      "1    16  0.474309    1.0      False\n",
      "2    22  0.370507    0.0       True\n",
      "3    28  0.511235    1.0       True\n",
      "4    34  0.082837    0.0       True\n",
      "5    35  0.479098    1.0      False\n",
      "6    40  0.947003    1.0       True\n",
      "7    42  0.213875    0.0       True\n",
      "8    51  0.443063    0.0       True\n",
      "9    53  0.074465    0.0       True\n",
      "10   55  0.064131    0.0       True\n",
      "11   70  0.012506    0.0       True\n",
      "12   83  0.149191    0.0       True\n",
      "13   84  0.041287    0.0       True\n",
      "14   85  0.036684    0.0       True\n",
      "15   97  0.110785    0.0       True\n",
      "16   99  0.260279    0.0       True\n",
      "['15', '16', '22', '28', '34', '35', '40', '42', '51', '53', '55', '70', '83', '84', '85', '97', '99']\n",
      "[0.819206714630127, 0.4743093252182007, 0.37050679326057434, 0.5112345814704895, 0.08283716440200806, 0.4790976941585541, 0.9470027089118958, 0.21387498080730438, 0.44306302070617676, 0.07446487247943878, 0.0641312375664711, 0.012505995109677315, 0.14919140934944153, 0.0412873849272728, 0.036684028804302216, 0.11078527569770813, 0.26027923822402954]\n",
      "[0.0, 1.0, 0.0, 1.0, 0.0, 1.0, 1.0, 0.0, 0.0, 0.0, 0.0, 0.0, 0.0, 0.0, 0.0, 0.0, 0.0]\n",
      "[False, False, True, True, True, False, True, True, True, True, True, True, True, True, True, True, True]\n",
      "[INFO] Evaluating result of tr. config @ ../LAS_Mandarin_PyTorch-master/config/cv11Lu_asr_lstm4atthead_allvocab-biclass2-5fold-2.yaml\n",
      "[INFO] Evaluating result of tr. ckpt @ LAS_ckpt/cv11Lu_asr_lstm4atthead_allvocab-biclass2-5fold-2_sd0/bert-v2-15k-r-a-final-s12.pth\n"
     ]
    },
    {
     "name": "stderr",
     "output_type": "stream",
     "text": [
      "Some weights of the model checkpoint at google-bert/bert-base-chinese were not used when initializing BertForMaskedLM: ['bert.pooler.dense.bias', 'bert.pooler.dense.weight', 'cls.seq_relationship.bias', 'cls.seq_relationship.weight']\n",
      "- This IS expected if you are initializing BertForMaskedLM from the checkpoint of a model trained on another task or with another architecture (e.g. initializing a BertForSequenceClassification model from a BertForPreTraining model).\n",
      "- This IS NOT expected if you are initializing BertForMaskedLM from the checkpoint of a model that you expect to be exactly identical (initializing a BertForSequenceClassification model from a BertForSequenceClassification model).\n"
     ]
    },
    {
     "name": "stdout",
     "output_type": "stream",
     "text": [
      "Load data for training/validation, store tokenizer and input/output shape\n",
      "Prepare dataloader for training/validation\n",
      "Interface for creating all kinds of dataset\n",
      "import VAGDataset as Dataset\n",
      "[VAGDataset] path: data_process, split: ['CTT5-2-16']\n",
      "Mozillacv11Dataset CTT5-2-16 found wav data: 18\n",
      "text len: 18\n",
      "remove None, then wav data: 18, text len: 18\n",
      "[VAGDataset] path: data_process, split: ['CTTsegment_remove']\n",
      "Mozillacv11Dataset CTTsegment_remove found wav data: 100\n",
      "text len: 100\n",
      "remove None, then wav data: 99, text len: 99\n",
      "Setup ASR model and optimizer \n",
      "('11',)   0.903518795967102   1.0   True\n",
      "('25',)   0.19898059964179993   1.0   False\n",
      "('2',)   0.010419154539704323   0.0   True\n",
      "('37',)   0.2594561278820038   1.0   False\n",
      "('39',)   0.997884213924408   1.0   True\n",
      "('45',)   0.24165275692939758   1.0   False\n",
      "('46',)   0.970781683921814   1.0   True\n",
      "('65',)   0.4213246703147888   1.0   False\n",
      "('67',)   0.6454043984413147   1.0   True\n",
      "('68',)   0.9548993110656738   0.0   False\n",
      "('71',)   0.3837537467479706   0.0   True\n",
      "('74',)   0.010769026353955269   0.0   True\n",
      "('76',)   0.010746090672910213   0.0   True\n",
      "('77',)   0.015894178301095963   0.0   True\n",
      "('78',)   0.255718469619751   0.0   True\n",
      "('80',)   0.35147613286972046   0.0   True\n",
      "('91',)   0.08147095888853073   0.0   True\n",
      "('94',)   0.006062795408070087   0.0   True\n",
      "[INFO] All done !                                                                                          \n",
      "   name      hyps  truth  ifcorrect\n",
      "0    11  0.903519    1.0       True\n",
      "1    25  0.198981    1.0      False\n",
      "2     2  0.010419    0.0       True\n",
      "3    37  0.259456    1.0      False\n",
      "4    39  0.997884    1.0       True\n",
      "5    45  0.241653    1.0      False\n",
      "6    46  0.970782    1.0       True\n",
      "7    65  0.421325    1.0      False\n",
      "8    67  0.645404    1.0       True\n",
      "9    68  0.954899    0.0      False\n",
      "10   71  0.383754    0.0       True\n",
      "11   74  0.010769    0.0       True\n",
      "12   76  0.010746    0.0       True\n",
      "13   77  0.015894    0.0       True\n",
      "14   78  0.255718    0.0       True\n",
      "15   80  0.351476    0.0       True\n",
      "16   91  0.081471    0.0       True\n",
      "17   94  0.006063    0.0       True\n",
      "['11', '25', '2', '37', '39', '45', '46', '65', '67', '68', '71', '74', '76', '77', '78', '80', '91', '94']\n",
      "[0.903518795967102, 0.19898059964179993, 0.010419154539704323, 0.2594561278820038, 0.997884213924408, 0.24165275692939758, 0.970781683921814, 0.4213246703147888, 0.6454043984413147, 0.9548993110656738, 0.3837537467479706, 0.010769026353955269, 0.010746090672910213, 0.015894178301095963, 0.255718469619751, 0.35147613286972046, 0.08147095888853073, 0.006062795408070087]\n",
      "[1.0, 1.0, 0.0, 1.0, 1.0, 1.0, 1.0, 1.0, 1.0, 0.0, 0.0, 0.0, 0.0, 0.0, 0.0, 0.0, 0.0, 0.0]\n",
      "[True, False, True, False, True, False, True, False, True, False, True, True, True, True, True, True, True, True]\n",
      "[INFO] Evaluating result of tr. config @ ../LAS_Mandarin_PyTorch-master/config/cv11Lu_asr_lstm4atthead_allvocab-biclass2-5fold-3.yaml\n",
      "[INFO] Evaluating result of tr. ckpt @ LAS_ckpt/cv11Lu_asr_lstm4atthead_allvocab-biclass2-5fold-3_sd0/bert-v2-15k-r-a-final-s12.pth\n"
     ]
    },
    {
     "name": "stderr",
     "output_type": "stream",
     "text": [
      "Some weights of the model checkpoint at google-bert/bert-base-chinese were not used when initializing BertForMaskedLM: ['bert.pooler.dense.bias', 'bert.pooler.dense.weight', 'cls.seq_relationship.bias', 'cls.seq_relationship.weight']\n",
      "- This IS expected if you are initializing BertForMaskedLM from the checkpoint of a model trained on another task or with another architecture (e.g. initializing a BertForSequenceClassification model from a BertForPreTraining model).\n",
      "- This IS NOT expected if you are initializing BertForMaskedLM from the checkpoint of a model that you expect to be exactly identical (initializing a BertForSequenceClassification model from a BertForSequenceClassification model).\n"
     ]
    },
    {
     "name": "stdout",
     "output_type": "stream",
     "text": [
      "Load data for training/validation, store tokenizer and input/output shape\n",
      "Prepare dataloader for training/validation\n",
      "Interface for creating all kinds of dataset\n",
      "import VAGDataset as Dataset\n",
      "[VAGDataset] path: data_process, split: ['CTT5-3-16']\n",
      "Mozillacv11Dataset CTT5-3-16 found wav data: 17\n",
      "text len: 17\n",
      "remove None, then wav data: 17, text len: 17\n",
      "[VAGDataset] path: data_process, split: ['CTTsegment_remove']\n",
      "Mozillacv11Dataset CTTsegment_remove found wav data: 100\n",
      "text len: 100\n",
      "remove None, then wav data: 99, text len: 99\n",
      "Setup ASR model and optimizer \n",
      "('18',)   0.21773295104503632   1.0   False\n",
      "('1',)   0.06277923285961151   0.0   True\n",
      "('20',)   0.38756898045539856   1.0   False\n",
      "('30',)   0.009022320620715618   0.0   True\n",
      "('32',)   0.1245959997177124   1.0   False\n",
      "('38',)   0.49307405948638916   1.0   False\n",
      "('3',)   0.0309127364307642   0.0   True\n",
      "('43',)   0.03194970265030861   0.0   True\n",
      "('52',)   0.2529307007789612   0.0   True\n",
      "('57',)   0.021242694929242134   1.0   False\n",
      "('58',)   0.19356006383895874   1.0   False\n",
      "('75',)   0.014308668673038483   0.0   True\n",
      "('81',)   0.06382079422473907   0.0   True\n",
      "('82',)   0.04612863436341286   0.0   True\n",
      "('87',)   0.006391772534698248   0.0   True\n",
      "('93',)   0.027789147570729256   0.0   True\n",
      "('98',)   0.061845652759075165   0.0   True\n",
      "[INFO] All done !                                                                                          \n",
      "   name      hyps  truth  ifcorrect\n",
      "0    18  0.217733    1.0      False\n",
      "1     1  0.062779    0.0       True\n",
      "2    20  0.387569    1.0      False\n",
      "3    30  0.009022    0.0       True\n",
      "4    32  0.124596    1.0      False\n",
      "5    38  0.493074    1.0      False\n",
      "6     3  0.030913    0.0       True\n",
      "7    43  0.031950    0.0       True\n",
      "8    52  0.252931    0.0       True\n",
      "9    57  0.021243    1.0      False\n",
      "10   58  0.193560    1.0      False\n",
      "11   75  0.014309    0.0       True\n",
      "12   81  0.063821    0.0       True\n",
      "13   82  0.046129    0.0       True\n",
      "14   87  0.006392    0.0       True\n",
      "15   93  0.027789    0.0       True\n",
      "16   98  0.061846    0.0       True\n",
      "['18', '1', '20', '30', '32', '38', '3', '43', '52', '57', '58', '75', '81', '82', '87', '93', '98']\n",
      "[0.21773295104503632, 0.06277923285961151, 0.38756898045539856, 0.009022320620715618, 0.1245959997177124, 0.49307405948638916, 0.0309127364307642, 0.03194970265030861, 0.2529307007789612, 0.021242694929242134, 0.19356006383895874, 0.014308668673038483, 0.06382079422473907, 0.04612863436341286, 0.006391772534698248, 0.027789147570729256, 0.061845652759075165]\n",
      "[1.0, 0.0, 1.0, 0.0, 1.0, 1.0, 0.0, 0.0, 0.0, 1.0, 1.0, 0.0, 0.0, 0.0, 0.0, 0.0, 0.0]\n",
      "[False, True, False, True, False, False, True, True, True, False, False, True, True, True, True, True, True]\n",
      "[INFO] Evaluating result of tr. config @ ../LAS_Mandarin_PyTorch-master/config/cv11Lu_asr_lstm4atthead_allvocab-biclass2-5fold-4.yaml\n",
      "[INFO] Evaluating result of tr. ckpt @ LAS_ckpt/cv11Lu_asr_lstm4atthead_allvocab-biclass2-5fold-4_sd0/bert-v2-15k-r-a-final-s12.pth\n"
     ]
    },
    {
     "name": "stderr",
     "output_type": "stream",
     "text": [
      "Some weights of the model checkpoint at google-bert/bert-base-chinese were not used when initializing BertForMaskedLM: ['bert.pooler.dense.bias', 'bert.pooler.dense.weight', 'cls.seq_relationship.bias', 'cls.seq_relationship.weight']\n",
      "- This IS expected if you are initializing BertForMaskedLM from the checkpoint of a model trained on another task or with another architecture (e.g. initializing a BertForSequenceClassification model from a BertForPreTraining model).\n",
      "- This IS NOT expected if you are initializing BertForMaskedLM from the checkpoint of a model that you expect to be exactly identical (initializing a BertForSequenceClassification model from a BertForSequenceClassification model).\n"
     ]
    },
    {
     "name": "stdout",
     "output_type": "stream",
     "text": [
      "Load data for training/validation, store tokenizer and input/output shape\n",
      "Prepare dataloader for training/validation\n",
      "Interface for creating all kinds of dataset\n",
      "import VAGDataset as Dataset\n",
      "[VAGDataset] path: data_process, split: ['CTT5-4-16']\n",
      "Mozillacv11Dataset CTT5-4-16 found wav data: 17\n",
      "text len: 17\n",
      "remove None, then wav data: 17, text len: 17\n",
      "[VAGDataset] path: data_process, split: ['CTTsegment_remove']\n",
      "Mozillacv11Dataset CTTsegment_remove found wav data: 100\n",
      "text len: 100\n",
      "remove None, then wav data: 99, text len: 99\n",
      "Setup ASR model and optimizer \n",
      "('100',)   0.028600512072443962   0.0   True\n",
      "('12',)   0.787111222743988   1.0   True\n",
      "('17',)   0.8725988864898682   1.0   True\n",
      "('21',)   0.29837700724601746   0.0   True\n",
      "('29',)   0.051589906215667725   0.0   True\n",
      "('4',)   0.7856533527374268   1.0   True\n",
      "('54',)   0.03437100723385811   0.0   True\n",
      "('56',)   0.029669761657714844   0.0   True\n",
      "('63',)   0.285675048828125   1.0   False\n",
      "('6',)   0.06031308323144913   0.0   True\n",
      "('7',)   0.020984411239624023   0.0   True\n",
      "('86',)   0.05693056806921959   0.0   True\n",
      "('88',)   0.41522490978240967   0.0   True\n",
      "('89',)   0.08006174862384796   0.0   True\n",
      "('92',)   0.008914205245673656   0.0   True\n",
      "('96',)   0.061190009117126465   0.0   True\n",
      "('9',)   0.9754128456115723   1.0   True\n",
      "[INFO] All done !                                                                                          \n",
      "   name      hyps  truth  ifcorrect\n",
      "0   100  0.028601    0.0       True\n",
      "1    12  0.787111    1.0       True\n",
      "2    17  0.872599    1.0       True\n",
      "3    21  0.298377    0.0       True\n",
      "4    29  0.051590    0.0       True\n",
      "5     4  0.785653    1.0       True\n",
      "6    54  0.034371    0.0       True\n",
      "7    56  0.029670    0.0       True\n",
      "8    63  0.285675    1.0      False\n",
      "9     6  0.060313    0.0       True\n",
      "10    7  0.020984    0.0       True\n",
      "11   86  0.056931    0.0       True\n",
      "12   88  0.415225    0.0       True\n",
      "13   89  0.080062    0.0       True\n",
      "14   92  0.008914    0.0       True\n",
      "15   96  0.061190    0.0       True\n",
      "16    9  0.975413    1.0       True\n",
      "['100', '12', '17', '21', '29', '4', '54', '56', '63', '6', '7', '86', '88', '89', '92', '96', '9']\n",
      "[0.028600512072443962, 0.787111222743988, 0.8725988864898682, 0.29837700724601746, 0.051589906215667725, 0.7856533527374268, 0.03437100723385811, 0.029669761657714844, 0.285675048828125, 0.06031308323144913, 0.020984411239624023, 0.05693056806921959, 0.41522490978240967, 0.08006174862384796, 0.008914205245673656, 0.061190009117126465, 0.9754128456115723]\n",
      "[0.0, 1.0, 1.0, 0.0, 0.0, 1.0, 0.0, 0.0, 1.0, 0.0, 0.0, 0.0, 0.0, 0.0, 0.0, 0.0, 1.0]\n",
      "[True, True, True, True, True, True, True, True, False, True, True, True, True, True, True, True, True]\n",
      "[INFO] Evaluating result of tr. config @ ../LAS_Mandarin_PyTorch-master/config/cv11Lu_asr_lstm4atthead_allvocab-biclass2-5fold-5.yaml\n",
      "[INFO] Evaluating result of tr. ckpt @ LAS_ckpt/cv11Lu_asr_lstm4atthead_allvocab-biclass2-5fold-5_sd0/bert-v2-15k-r-a-final-s12.pth\n"
     ]
    },
    {
     "name": "stderr",
     "output_type": "stream",
     "text": [
      "Some weights of the model checkpoint at google-bert/bert-base-chinese were not used when initializing BertForMaskedLM: ['bert.pooler.dense.bias', 'bert.pooler.dense.weight', 'cls.seq_relationship.bias', 'cls.seq_relationship.weight']\n",
      "- This IS expected if you are initializing BertForMaskedLM from the checkpoint of a model trained on another task or with another architecture (e.g. initializing a BertForSequenceClassification model from a BertForPreTraining model).\n",
      "- This IS NOT expected if you are initializing BertForMaskedLM from the checkpoint of a model that you expect to be exactly identical (initializing a BertForSequenceClassification model from a BertForSequenceClassification model).\n"
     ]
    },
    {
     "name": "stdout",
     "output_type": "stream",
     "text": [
      "Load data for training/validation, store tokenizer and input/output shape\n",
      "Prepare dataloader for training/validation\n",
      "Interface for creating all kinds of dataset\n",
      "import VAGDataset as Dataset\n",
      "[VAGDataset] path: data_process, split: ['CTT5-5-16']\n",
      "Mozillacv11Dataset CTT5-5-16 found wav data: 17\n",
      "text len: 17\n",
      "remove None, then wav data: 17, text len: 17\n",
      "[VAGDataset] path: data_process, split: ['CTTsegment_remove']\n",
      "Mozillacv11Dataset CTTsegment_remove found wav data: 100\n",
      "text len: 100\n",
      "remove None, then wav data: 99, text len: 99\n",
      "Setup ASR model and optimizer \n",
      "('10',)   0.3048495352268219   1.0   False\n",
      "('13',)   0.41156837344169617   0.0   True\n",
      "('14',)   0.011722947470843792   0.0   True\n",
      "('24',)   0.9183430075645447   1.0   True\n",
      "('31',)   0.46399256587028503   1.0   False\n",
      "('44',)   0.048655588179826736   0.0   True\n",
      "('47',)   0.29054588079452515   0.0   True\n",
      "('50',)   0.09732697159051895   0.0   True\n",
      "('5',)   0.4932619333267212   1.0   False\n",
      "('64',)   0.6036778688430786   1.0   True\n",
      "('69',)   0.03413628414273262   0.0   True\n",
      "('72',)   0.06491245329380035   0.0   True\n",
      "('73',)   0.03482919558882713   0.0   True\n",
      "('79',)   0.2982921898365021   0.0   True\n",
      "('8',)   0.24606312811374664   0.0   True\n",
      "('90',)   0.08787626773118973   0.0   True\n",
      "('95',)   0.0392402745783329   0.0   True\n",
      "[INFO] All done !                                                                                          \n",
      "   name      hyps  truth  ifcorrect\n",
      "0    10  0.304850    1.0      False\n",
      "1    13  0.411568    0.0       True\n",
      "2    14  0.011723    0.0       True\n",
      "3    24  0.918343    1.0       True\n",
      "4    31  0.463993    1.0      False\n",
      "5    44  0.048656    0.0       True\n",
      "6    47  0.290546    0.0       True\n",
      "7    50  0.097327    0.0       True\n",
      "8     5  0.493262    1.0      False\n",
      "9    64  0.603678    1.0       True\n",
      "10   69  0.034136    0.0       True\n",
      "11   72  0.064912    0.0       True\n",
      "12   73  0.034829    0.0       True\n",
      "13   79  0.298292    0.0       True\n",
      "14    8  0.246063    0.0       True\n",
      "15   90  0.087876    0.0       True\n",
      "16   95  0.039240    0.0       True\n",
      "['10', '13', '14', '24', '31', '44', '47', '50', '5', '64', '69', '72', '73', '79', '8', '90', '95']\n",
      "[0.3048495352268219, 0.41156837344169617, 0.011722947470843792, 0.9183430075645447, 0.46399256587028503, 0.048655588179826736, 0.29054588079452515, 0.09732697159051895, 0.4932619333267212, 0.6036778688430786, 0.03413628414273262, 0.06491245329380035, 0.03482919558882713, 0.2982921898365021, 0.24606312811374664, 0.08787626773118973, 0.0392402745783329]\n",
      "[1.0, 0.0, 0.0, 1.0, 1.0, 0.0, 0.0, 0.0, 1.0, 1.0, 0.0, 0.0, 0.0, 0.0, 0.0, 0.0, 0.0]\n",
      "[False, True, True, True, False, True, True, True, False, True, True, True, True, True, True, True, True]\n"
     ]
    }
   ],
   "source": [
    "main()"
   ]
  },
  {
   "cell_type": "code",
   "execution_count": 3,
   "id": "exact-color",
   "metadata": {},
   "outputs": [],
   "source": [
    "for idx, df in enumerate(dfs):\n",
    "    alldf = pd.concat([alldf, df])\n",
    "    # df.to_csv(f'./biclass_result/bert15k-{idx+1}_2', index=False)\n",
    "alldf.to_csv(f'./biclass_result/bert-v2-15k-r-a-final-s12.csv', index=False)"
   ]
  },
  {
   "cell_type": "code",
   "execution_count": null,
   "id": "gentle-share",
   "metadata": {},
   "outputs": [],
   "source": [
    "print('asd')"
   ]
  },
  {
   "cell_type": "code",
   "execution_count": null,
   "id": "atlantic-marble",
   "metadata": {},
   "outputs": [
    {
     "name": "stderr",
     "output_type": "stream",
     "text": [
      "Traceback (most recent call last):\n",
      "  File \"eval.py\", line 33, in <module>\n",
      "    result['hyp_char_cnt'] = result.apply(lambda x: len(x.hyp), axis=1)\n",
      "  File \"c:\\Users\\naomi\\anaconda3\\envs\\230917\\lib\\site-packages\\pandas\\core\\frame.py\", line 9423, in apply\n",
      "    return op.apply().__finalize__(self, method=\"apply\")\n",
      "  File \"c:\\Users\\naomi\\anaconda3\\envs\\230917\\lib\\site-packages\\pandas\\core\\apply.py\", line 678, in apply\n",
      "    return self.apply_standard()\n",
      "  File \"c:\\Users\\naomi\\anaconda3\\envs\\230917\\lib\\site-packages\\pandas\\core\\apply.py\", line 798, in apply_standard\n",
      "    results, res_index = self.apply_series_generator()\n",
      "  File \"c:\\Users\\naomi\\anaconda3\\envs\\230917\\lib\\site-packages\\pandas\\core\\apply.py\", line 814, in apply_series_generator\n",
      "    results[i] = self.f(v)\n",
      "  File \"eval.py\", line 33, in <lambda>\n",
      "    result['hyp_char_cnt'] = result.apply(lambda x: len(x.hyp), axis=1)\n",
      "  File \"c:\\Users\\naomi\\anaconda3\\envs\\230917\\lib\\site-packages\\pandas\\core\\generic.py\", line 5989, in __getattr__\n",
      "    return object.__getattribute__(self, name)\n",
      "AttributeError: 'Series' object has no attribute 'hyp'\n"
     ]
    }
   ],
   "source": [
    "!python eval.py --file ~/LAS_Mandarin_PyTorch-master/result/mozillacv11_asr_stm4atthead-test_test_output.csv"
   ]
  },
  {
   "cell_type": "code",
   "execution_count": null,
   "id": "collectible-upset",
   "metadata": {},
   "outputs": [
    {
     "name": "stdout",
     "output_type": "stream",
     "text": [
      "              precision    recall  f1-score   support\n",
      "\n",
      " non-patient       0.80      0.92      0.86        13\n",
      "     patient       0.83      0.62      0.71         8\n",
      "\n",
      "    accuracy                           0.81        21\n",
      "   macro avg       0.82      0.77      0.79        21\n",
      "weighted avg       0.81      0.81      0.80        21\n",
      "\n",
      "sensitivity:  0.625\n",
      "specificity:  0.9230769230769231\n",
      "AUC:  0.5288461538461539\n"
     ]
    }
   ],
   "source": [
    "from sklearn.metrics import classification_report, confusion_matrix\n",
    "from sklearn import metrics\n",
    "import numpy as np\n",
    "y_true = [0, 0, 1, 0, 1, 0, 0, 1, 0, 1, 1, 0, 0, 1, 0, 0, 1, 0, 0, 1, 0] \n",
    "y_pred = [0, 0, 1, 1, 1, 0, 0, 0, 0, 0, 0, 0, 0, 1, 0, 0, 1, 0, 0, 1, 0]\n",
    "target_names = ['non-patient', 'patient']\n",
    "print(classification_report(y_true, y_pred, target_names=target_names))\n",
    "tn, fp, fn, tp = confusion_matrix(y_true, y_pred).ravel()\n",
    "print('sensitivity: ',tp / (fn+tp))\n",
    "print('specificity: ',tn / (fp+tn))\n",
    "pred = np.array([0.0443, 0.0140, 0.3337, 0.0560, 0.0385, 0.5118, 0.1961, 0.1746, 0.0268, 0.2939, 0.0169, 0.6525, 0.3661, 0.1010, 0.0077, 0.0994, 0.2264, 0.6143, 0.0750, 0.4048, 0.2368])\n",
    "fpr, tpr, thresholds = metrics.roc_curve(np.array(y_true), np.array(pred), pos_label=1)\n",
    "print('AUC: ',metrics.auc(fpr, tpr))"
   ]
  },
  {
   "cell_type": "code",
   "execution_count": null,
   "id": "democratic-training",
   "metadata": {},
   "outputs": [],
   "source": []
  }
 ],
 "metadata": {
  "kernelspec": {
   "display_name": "Python 3",
   "language": "python",
   "name": "python3"
  },
  "language_info": {
   "codemirror_mode": {
    "name": "ipython",
    "version": 3
   },
   "file_extension": ".py",
   "mimetype": "text/x-python",
   "name": "python",
   "nbconvert_exporter": "python",
   "pygments_lexer": "ipython3",
   "version": "3.8.18"
  }
 },
 "nbformat": 4,
 "nbformat_minor": 5
}
