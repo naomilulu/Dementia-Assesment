{
 "cells": [
  {
   "cell_type": "code",
   "execution_count": 3,
   "id": "comfortable-powder",
   "metadata": {},
   "outputs": [
    {
     "name": "stderr",
     "output_type": "stream",
     "text": [
      "'export' ���O�����Υ~���R�O�B�i���檺�{���Χ妸�ɡC\n"
     ]
    }
   ],
   "source": [
    "!export CUDA_VISIBLE_DEVICES=0"
   ]
  },
  {
   "cell_type": "code",
   "execution_count": 4,
   "id": "particular-health",
   "metadata": {},
   "outputs": [
    {
     "name": "stdout",
     "output_type": "stream",
     "text": [
      "0\n"
     ]
    }
   ],
   "source": [
    "import os\n",
    "os.environ['CUDA_VISIBLE_DEVICES']='0'\n",
    "# os.environ['CUDA_VISIBLE_DEVICES']='0,1'\n",
    "os.environ['CUDA_LAUNCH_BLOCKING']='1'\n",
    "import torch\n",
    "# torch.cuda.set_device(0)\n",
    "print(torch.cuda.current_device())\n"
   ]
  },
  {
   "cell_type": "code",
   "execution_count": 5,
   "id": "determined-ebony",
   "metadata": {},
   "outputs": [
    {
     "data": {
      "text/plain": [
       "True"
      ]
     },
     "execution_count": 5,
     "metadata": {},
     "output_type": "execute_result"
    }
   ],
   "source": [
    "torch.cuda.is_available()"
   ]
  },
  {
   "cell_type": "code",
   "execution_count": 6,
   "id": "documentary-guatemala",
   "metadata": {},
   "outputs": [
    {
     "data": {
      "text/plain": [
       "1"
      ]
     },
     "execution_count": 6,
     "metadata": {},
     "output_type": "execute_result"
    }
   ],
   "source": [
    "torch.cuda.device_count()"
   ]
  },
  {
   "cell_type": "code",
   "execution_count": 7,
   "id": "parliamentary-spring",
   "metadata": {},
   "outputs": [
    {
     "data": {
      "text/plain": [
       "0"
      ]
     },
     "execution_count": 7,
     "metadata": {},
     "output_type": "execute_result"
    }
   ],
   "source": [
    "torch.cuda.current_device()"
   ]
  },
  {
   "cell_type": "code",
   "execution_count": 8,
   "id": "controversial-charleston",
   "metadata": {},
   "outputs": [],
   "source": [
    "# cudaSetDevice(0)\n",
    "#dataset transcript要在dataset資好夾調\n",
    "#cuda 在basesolver init調\n",
    "#dataset要在data.py設定"
   ]
  },
  {
   "cell_type": "code",
   "execution_count": 9,
   "id": "electoral-north",
   "metadata": {},
   "outputs": [],
   "source": [
    "# %pip install soundfile\n",
    "# %pip install transformers"
   ]
  },
  {
   "cell_type": "code",
   "execution_count": 1,
   "id": "breeding-auction",
   "metadata": {},
   "outputs": [
    {
     "name": "stdout",
     "output_type": "stream",
     "text": [
      "0\n"
     ]
    }
   ],
   "source": [
    "import os\n",
    "os.environ['CUDA_VISIBLE_DEVICES']='0'\n",
    "# os.environ['CUDA_VISIBLE_DEVICES']='0,1'\n",
    "os.environ['CUDA_LAUNCH_BLOCKING']='1'\n",
    "import torch\n",
    "# torch.cuda.set_device(0)\n",
    "print(torch.cuda.current_device())\n",
    "#! python\n",
    "# -*- coding: utf-8 -*-\n",
    "# Author: kun\n",
    "# @Time: 2019-10-29 20:29\n",
    "\n",
    "import yaml\n",
    "import torch\n",
    "import argparse\n",
    "import numpy as np\n",
    "import pandas as pd\n",
    "\n",
    "dfs = []\n",
    "alldf =pd.DataFrame()\n",
    "\n",
    "class Para(object):\n",
    "    a=1\n",
    "\n",
    "def force_cudnn_initialization():\n",
    "    s = 32\n",
    "    dev = torch.device('cuda:0')\n",
    "    torch.nn.functional.conv2d(torch.zeros(s, s, s, s, device=dev), torch.zeros(s, s, s, s, device=dev))\n",
    "    \n",
    "#force_cudnn_initialization()\n",
    "def main():\n",
    "    # For reproducibility, comment these may speed up training\n",
    "    torch.backends.cudnn.deterministic = True\n",
    "    torch.backends.cudnn.benchmark = False\n",
    "\n",
    "    # Arguments\n",
    "#     parser = argparse.ArgumentParser(description='Training E2E asr.')\n",
    "#     parser.add_argument('--config', type=str, help='Path to experiment config.')\n",
    "#     parser.add_argument('--name', default=None, type=str, help='Name for logging.')\n",
    "#     parser.add_argument('--logdir', default='log/', type=str,\n",
    "#                         help='Logging path.', required=False)\n",
    "#     parser.add_argument('--ckpdir', default='ckpt/', type=str,\n",
    "#                         help='Checkpoint path.', required=False)\n",
    "#     parser.add_argument('--outdir', default='result/', type=str,\n",
    "#                         help='Decode output path.', required=False)\n",
    "#     parser.add_argument('--load', default=None, type=str,\n",
    "#                         help='Load pre-trained model (for training only)', required=False)\n",
    "#     parser.add_argument('--seed', default=0, type=int,\n",
    "#                         help='Random seed for reproducable results.', required=False)\n",
    "#     parser.add_argument('--cudnn-ctc', action='store_true',\n",
    "#                         help='Switches CTC backend from torch to cudnn')\n",
    "#     parser.add_argument('--njobs', default=32, type=int,\n",
    "#                         help='Number of threads for dataloader/decoding.', required=False)\n",
    "#     parser.add_argument('--cpu', action='store_true', help='Disable GPU training.')\n",
    "#     parser.add_argument('--no-pin', action='store_true',\n",
    "#                         help='Disable pin-memory for dataloader')\n",
    "#     parser.add_argument('--test', action='store_true', help='Test the model.')\n",
    "#     parser.add_argument('--no-msg', action='store_true', help='Hide all messages.')\n",
    "#     parser.add_argument('--lm', action='store_true',\n",
    "#                         help='Option for training RNNLM.')\n",
    "#     # Following features in development.\n",
    "#     parser.add_argument('--amp', action='store_true', help='Option to enable AMP.')\n",
    "#     parser.add_argument('--reserve-gpu', default=0, type=float,\n",
    "#                         help='Option to reserve GPU ram for training.')\n",
    "#     parser.add_argument('--jit', action='store_true',\n",
    "#                         help='Option for enabling jit in pytorch. (feature in development)')\n",
    "#     ###\n",
    "#     paras = parser.parse_args()\n",
    "    paras = Para()\n",
    "#     paras.config = './config/aishell_asr_example_lstm4atthead1-test.yaml'\n",
    "#     paras.name = None\n",
    "#     paras.logdir = 'log/'\n",
    "#     paras.ckpdir = 'ckpt/'\n",
    "#     paras.outdir = 'result/'\n",
    "#     paras.load = None\n",
    "#     paras.seed = 0\n",
    "#     paras.cudnn_ctc = False\n",
    "#     paras.cpu = False\n",
    "#     paras.no_pin = False\n",
    "#     paras.test = True\n",
    "#     paras.no_msg = False\n",
    "#     paras.lm = False\n",
    "#     paras.amp = False\n",
    "#     paras.reserve_gpu = 0\n",
    "#     paras.jit = False\n",
    "    setattr(paras, 'config', 'config/cv11Lu_asr_lstm4atthead_allvocab-CDRSOB-test-5-1.yaml')\n",
    "    setattr(paras, 'name', None)\n",
    "    setattr(paras, 'logdir', 'log/')\n",
    "    setattr(paras, 'ckpdir', 'LAS_ckpt')\n",
    "    setattr(paras, 'outdir', 'result/')\n",
    "    setattr(paras, 'load', None)\n",
    "    setattr(paras, 'seed', 0)\n",
    "    setattr(paras, 'cudnn_ctc', False)\n",
    "    setattr(paras, 'njobs',0)\n",
    "    setattr(paras, 'cpu', False)\n",
    "    setattr(paras, 'no_pin', False)\n",
    "    setattr(paras, 'test', True)\n",
    "    setattr(paras, 'no_msg', False)\n",
    "    setattr(paras, 'lm', False)\n",
    "    setattr(paras, 'amp', False)\n",
    "    setattr(paras, 'reserve_gpu', 9)\n",
    "    setattr(paras, 'jit', False)\n",
    "    setattr(paras, 'gpu', not paras.cpu)\n",
    "    setattr(paras, 'pin_memory', not paras.no_pin)\n",
    "    setattr(paras, 'verbose', not paras.no_msg)\n",
    "    setattr(paras, 'finetune', False)\n",
    "    setattr(paras, 'binaryClass', True)\n",
    "#     force_cudnn_initialization()\n",
    "\n",
    "    config = yaml.load(open(paras.config, 'r'), Loader=yaml.FullLoader)\n",
    "\n",
    "    np.random.seed(paras.seed)\n",
    "    torch.manual_seed(paras.seed)\n",
    "    if torch.cuda.is_available():\n",
    "        torch.cuda.manual_seed_all(paras.seed)\n",
    "\n",
    "    # Hack to preserve GPU ram just incase OOM later on server\n",
    "    if paras.gpu and paras.reserve_gpu > 0:\n",
    "        buff = torch.randn(int(paras.reserve_gpu * 1e9 // 4)).cuda()\n",
    "        del buff\n",
    "\n",
    "    if paras.lm:\n",
    "        # Train RNNLM\n",
    "        from train_lm import Solver\n",
    "\n",
    "        mode = 'train'\n",
    "    else:\n",
    "        if paras.test:\n",
    "            # Test ASR\n",
    "            assert paras.load is None, 'Load option is mutually exclusive to --test'\n",
    "            from Whisper_CDRSOB_test import Solver\n",
    "\n",
    "            mode = 'test'\n",
    "        elif paras.finetune:\n",
    "            assert paras.load is not None\n",
    "            from finetune_asr import Solver\n",
    "            mode = 'train'\n",
    "        elif paras.binaryClass:\n",
    "            assert paras.load is not None\n",
    "            from Whisper_CDRSOB_train import Solver\n",
    "            mode = 'train'\n",
    "        else:\n",
    "            # Train ASR\n",
    "            from train_asr import Solver\n",
    "\n",
    "            mode = 'train'\n",
    "\n",
    "    print(\"\\nUsing {} mode\\n\".format(mode))\n",
    "    for times in range (15,16):\n",
    "        alldf =pd.DataFrame()\n",
    "        for idx in range(5):\n",
    "            paras.config = f'config/cv11Lu_asr_lstm4atthead_allvocab-CDRSOB-test-5-{idx+1}.yaml'\n",
    "            config = yaml.load(open(paras.config, 'r'), Loader=yaml.FullLoader)\n",
    "            config['core']['ckpt'] = f'LAS_ckpt/cv11Lu_asr_lstm4atthead_allvocab-CDRSOB-5fold-{idx+1}_sd0/whisper-v2-15k-r-final-fix.pth'\n",
    "            solver = Solver(config, paras, mode)\n",
    "\n",
    "            solver.load_data()\n",
    "        #     solver.print_model()\n",
    "            solver.set_model()\n",
    "            names, hyps, txts, ans = solver.exec()\n",
    "            dfs.append(pd.DataFrame(\n",
    "                {'name': names,\n",
    "                 'hyps': hyps,\n",
    "                 'truth': txts,\n",
    "                 'ifcorrect': ans\n",
    "                }))\n",
    "            print(dfs[idx])\n",
    "            print(names)\n",
    "            print(hyps)\n",
    "            print(txts)\n",
    "            print(ans)\n",
    "            del solver\n",
    "        for idx, df in enumerate(dfs):\n",
    "            alldf = pd.concat([alldf, df])#\n",
    "        #     df.to_csv(f'CDRSOB_result/whisper-WhisperForAudioClassification-v2-{times}k{idx+1}.csv', index=False)\n",
    "        # alldf.to_csv(f'CDRSOB_result/whisper-WhisperForAudioClassification-v2-{times}k.csv', index=False) \n",
    "#             df.to_csv(f'./CDR_result/5folds{times}k_oldASR_4LSTM{idx+1}.csv', index=False)\n",
    "#         alldf.to_csv(f'./CDR_result/5folds{times}k_oldASR_4LSTM.csv', index=False) \n"
   ]
  },
  {
   "cell_type": "code",
   "execution_count": 2,
   "id": "32e9f4fe",
   "metadata": {},
   "outputs": [
    {
     "name": "stdout",
     "output_type": "stream",
     "text": [
      "\n",
      "Using test mode\n",
      "\n",
      "[INFO] Evaluating result of tr. config @ ../LAS_Mandarin_PyTorch-master/config/cv11Lu_asr_lstm4atthead_allvocab-CDRSOB-5fold-1.yaml\n",
      "[INFO] Evaluating result of tr. ckpt @ LAS_ckpt/cv11Lu_asr_lstm4atthead_allvocab-CDRSOB-5fold-1_sd0/whisper-v2-15k-r-final-fix.pth\n"
     ]
    },
    {
     "name": "stderr",
     "output_type": "stream",
     "text": [
      "c:\\Users\\naomi\\anaconda3\\envs\\230917\\lib\\site-packages\\torch\\_utils.py:776: UserWarning: TypedStorage is deprecated. It will be removed in the future and UntypedStorage will be the only storage class. This should only matter to you if you are using storages directly.  To access UntypedStorage directly, use tensor.untyped_storage() instead of tensor.storage()\n",
      "  return self.fget.__get__(instance, owner)()\n",
      "Some weights of WhisperForAudioClassification were not initialized from the model checkpoint at sanchit-gandhi/whisper-large-v2-ft-ls-960h and are newly initialized: ['model.classifier.bias', 'model.classifier.weight', 'model.projector.bias', 'model.projector.weight']\n",
      "You should probably TRAIN this model on a down-stream task to be able to use it for predictions and inference.\n"
     ]
    },
    {
     "name": "stdout",
     "output_type": "stream",
     "text": [
      "Load data for training/validation, store tokenizer and input/output shape\n",
      "Prepare dataloader for training/validation\n",
      "Interface for creating all kinds of dataset\n",
      "import VAGDatasetCDRSOB as Dataset\n",
      "[VAGDataset] path: data_process, split: ['CTT5-1-16']\n",
      "Mozillacv11Dataset CTT5-1-16 found wav data: 17\n",
      "text len: 17\n",
      "remove None, then wav data: 16, text len: 16\n",
      "[VAGDataset] path: data_process, split: ['CTTsegment_remove']\n",
      "Mozillacv11Dataset CTTsegment_remove found wav data: 99\n",
      "text len: 99\n",
      "remove None, then wav data: 85, text len: 85\n",
      "Setup ASR model and optimizer \n",
      "('data_process\\\\CTT5-1-16\\\\15CTT.wav',)   0.649317741394043   0.0   False\n",
      "('data_process\\\\CTT5-1-16\\\\16CTT.wav',)   0.5942329168319702   3.0   False\n",
      "('data_process\\\\CTT5-1-16\\\\22CTT.wav',)   0.1799914538860321   0.0   False\n",
      "('data_process\\\\CTT5-1-16\\\\28CTT.wav',)   0.4723232388496399   0.5   False\n",
      "('data_process\\\\CTT5-1-16\\\\34CTT.wav',)   0.5695444345474243   0.0   False\n",
      "('data_process\\\\CTT5-1-16\\\\35CTT.wav',)   0.42199063301086426   2.5   False\n",
      "('data_process\\\\CTT5-1-16\\\\40CTT.wav',)   0.3514772951602936   1.0   False\n",
      "('data_process\\\\CTT5-1-16\\\\51CTT.wav',)   0.22444987297058105   0.0   False\n",
      "('data_process\\\\CTT5-1-16\\\\53CTT.wav',)   0.5236383080482483   0.0   False\n",
      "('data_process\\\\CTT5-1-16\\\\55CTT.wav',)   0.2236575484275818   0.0   False\n",
      "('data_process\\\\CTT5-1-16\\\\70CTT.wav',)   0.1814279854297638   0.0   False\n",
      "('data_process\\\\CTT5-1-16\\\\83CTT.wav',)   0.39872586727142334   0.0   False\n",
      "('data_process\\\\CTT5-1-16\\\\84CTT.wav',)   0.2759793996810913   0.0   False\n",
      "('data_process\\\\CTT5-1-16\\\\85CTT.wav',)   0.34595951437950134   0.0   False\n",
      "('data_process\\\\CTT5-1-16\\\\97CTT.wav',)   0.21686893701553345   0.0   False\n",
      "('data_process\\\\CTT5-1-16\\\\99CTT.wav',)   0.4817999005317688   0.0   False\n",
      "[INFO] All done !                                                                                          \n",
      "                                name      hyps  truth  ifcorrect\n",
      "0   data_process\\CTT5-1-16\\15CTT.wav  0.649318    0.0      False\n",
      "1   data_process\\CTT5-1-16\\16CTT.wav  0.594233    3.0      False\n",
      "2   data_process\\CTT5-1-16\\22CTT.wav  0.179991    0.0      False\n",
      "3   data_process\\CTT5-1-16\\28CTT.wav  0.472323    0.5      False\n",
      "4   data_process\\CTT5-1-16\\34CTT.wav  0.569544    0.0      False\n",
      "5   data_process\\CTT5-1-16\\35CTT.wav  0.421991    2.5      False\n",
      "6   data_process\\CTT5-1-16\\40CTT.wav  0.351477    1.0      False\n",
      "7   data_process\\CTT5-1-16\\51CTT.wav  0.224450    0.0      False\n",
      "8   data_process\\CTT5-1-16\\53CTT.wav  0.523638    0.0      False\n",
      "9   data_process\\CTT5-1-16\\55CTT.wav  0.223658    0.0      False\n",
      "10  data_process\\CTT5-1-16\\70CTT.wav  0.181428    0.0      False\n",
      "11  data_process\\CTT5-1-16\\83CTT.wav  0.398726    0.0      False\n",
      "12  data_process\\CTT5-1-16\\84CTT.wav  0.275979    0.0      False\n",
      "13  data_process\\CTT5-1-16\\85CTT.wav  0.345960    0.0      False\n",
      "14  data_process\\CTT5-1-16\\97CTT.wav  0.216869    0.0      False\n",
      "15  data_process\\CTT5-1-16\\99CTT.wav  0.481800    0.0      False\n",
      "['data_process\\\\CTT5-1-16\\\\15CTT.wav', 'data_process\\\\CTT5-1-16\\\\16CTT.wav', 'data_process\\\\CTT5-1-16\\\\22CTT.wav', 'data_process\\\\CTT5-1-16\\\\28CTT.wav', 'data_process\\\\CTT5-1-16\\\\34CTT.wav', 'data_process\\\\CTT5-1-16\\\\35CTT.wav', 'data_process\\\\CTT5-1-16\\\\40CTT.wav', 'data_process\\\\CTT5-1-16\\\\51CTT.wav', 'data_process\\\\CTT5-1-16\\\\53CTT.wav', 'data_process\\\\CTT5-1-16\\\\55CTT.wav', 'data_process\\\\CTT5-1-16\\\\70CTT.wav', 'data_process\\\\CTT5-1-16\\\\83CTT.wav', 'data_process\\\\CTT5-1-16\\\\84CTT.wav', 'data_process\\\\CTT5-1-16\\\\85CTT.wav', 'data_process\\\\CTT5-1-16\\\\97CTT.wav', 'data_process\\\\CTT5-1-16\\\\99CTT.wav']\n",
      "[0.649317741394043, 0.5942329168319702, 0.1799914538860321, 0.4723232388496399, 0.5695444345474243, 0.42199063301086426, 0.3514772951602936, 0.22444987297058105, 0.5236383080482483, 0.2236575484275818, 0.1814279854297638, 0.39872586727142334, 0.2759793996810913, 0.34595951437950134, 0.21686893701553345, 0.4817999005317688]\n",
      "[0.0, 3.0, 0.0, 0.5, 0.0, 2.5, 1.0, 0.0, 0.0, 0.0, 0.0, 0.0, 0.0, 0.0, 0.0, 0.0]\n",
      "[False, False, False, False, False, False, False, False, False, False, False, False, False, False, False, False]\n",
      "[INFO] Evaluating result of tr. config @ ../LAS_Mandarin_PyTorch-master/config/cv11Lu_asr_lstm4atthead_allvocab-CDRSOB-5fold-2.yaml\n",
      "[INFO] Evaluating result of tr. ckpt @ LAS_ckpt/cv11Lu_asr_lstm4atthead_allvocab-CDRSOB-5fold-2_sd0/whisper-v2-15k-r-final-fix.pth\n"
     ]
    },
    {
     "name": "stderr",
     "output_type": "stream",
     "text": [
      "Some weights of WhisperForAudioClassification were not initialized from the model checkpoint at sanchit-gandhi/whisper-large-v2-ft-ls-960h and are newly initialized: ['model.classifier.bias', 'model.classifier.weight', 'model.projector.bias', 'model.projector.weight']\n",
      "You should probably TRAIN this model on a down-stream task to be able to use it for predictions and inference.\n"
     ]
    },
    {
     "name": "stdout",
     "output_type": "stream",
     "text": [
      "Load data for training/validation, store tokenizer and input/output shape\n",
      "Prepare dataloader for training/validation\n",
      "Interface for creating all kinds of dataset\n",
      "import VAGDatasetCDRSOB as Dataset\n",
      "[VAGDataset] path: data_process, split: ['CTT5-2-16']\n",
      "Mozillacv11Dataset CTT5-2-16 found wav data: 18\n",
      "text len: 18\n",
      "remove None, then wav data: 18, text len: 18\n",
      "[VAGDataset] path: data_process, split: ['CTTsegment_remove']\n",
      "Mozillacv11Dataset CTTsegment_remove found wav data: 99\n",
      "text len: 99\n",
      "remove None, then wav data: 85, text len: 85\n",
      "Setup ASR model and optimizer \n",
      "('data_process\\\\CTT5-2-16\\\\11CTT.wav',)   0.19945800304412842   9.0   False\n",
      "('data_process\\\\CTT5-2-16\\\\25CTT.wav',)   0.2061527669429779   3.0   False\n",
      "('data_process\\\\CTT5-2-16\\\\2CTT.wav',)   0.10719022154808044   0.0   False\n",
      "('data_process\\\\CTT5-2-16\\\\37CTT.wav',)   0.33260682225227356   1.5   False\n",
      "('data_process\\\\CTT5-2-16\\\\39CTT.wav',)   0.2596842050552368   2.0   False\n",
      "('data_process\\\\CTT5-2-16\\\\45CTT.wav',)   0.16537031531333923   1.5   False\n",
      "('data_process\\\\CTT5-2-16\\\\46CTT.wav',)   0.29400497674942017   0.0   False\n",
      "('data_process\\\\CTT5-2-16\\\\65CTT.wav',)   0.053194399923086166   1.0   False\n",
      "('data_process\\\\CTT5-2-16\\\\67CTT.wav',)   0.45239031314849854   0.5   False\n",
      "('data_process\\\\CTT5-2-16\\\\68CTT.wav',)   0.0075079468078911304   0.0   False\n",
      "('data_process\\\\CTT5-2-16\\\\71CTT.wav',)   0.0999913215637207   0.0   False\n",
      "('data_process\\\\CTT5-2-16\\\\74CTT.wav',)   0.046385642141103745   0.0   False\n",
      "('data_process\\\\CTT5-2-16\\\\76CTT.wav',)   0.09377360343933105   0.0   False\n",
      "('data_process\\\\CTT5-2-16\\\\77CTT.wav',)   -0.007593187969177961   0.0   False\n",
      "('data_process\\\\CTT5-2-16\\\\78CTT.wav',)   0.3917793035507202   0.0   False\n",
      "('data_process\\\\CTT5-2-16\\\\80CTT.wav',)   0.061062391847372055   0.0   False\n",
      "('data_process\\\\CTT5-2-16\\\\91CTT.wav',)   0.23996812105178833   0.0   False\n",
      "('data_process\\\\CTT5-2-16\\\\94CTT.wav',)   0.1815330982208252   0.0   False\n",
      "[INFO] All done !                                                                                          \n",
      "                                name      hyps  truth  ifcorrect\n",
      "0   data_process\\CTT5-2-16\\11CTT.wav  0.199458    9.0      False\n",
      "1   data_process\\CTT5-2-16\\25CTT.wav  0.206153    3.0      False\n",
      "2    data_process\\CTT5-2-16\\2CTT.wav  0.107190    0.0      False\n",
      "3   data_process\\CTT5-2-16\\37CTT.wav  0.332607    1.5      False\n",
      "4   data_process\\CTT5-2-16\\39CTT.wav  0.259684    2.0      False\n",
      "5   data_process\\CTT5-2-16\\45CTT.wav  0.165370    1.5      False\n",
      "6   data_process\\CTT5-2-16\\46CTT.wav  0.294005    0.0      False\n",
      "7   data_process\\CTT5-2-16\\65CTT.wav  0.053194    1.0      False\n",
      "8   data_process\\CTT5-2-16\\67CTT.wav  0.452390    0.5      False\n",
      "9   data_process\\CTT5-2-16\\68CTT.wav  0.007508    0.0      False\n",
      "10  data_process\\CTT5-2-16\\71CTT.wav  0.099991    0.0      False\n",
      "11  data_process\\CTT5-2-16\\74CTT.wav  0.046386    0.0      False\n",
      "12  data_process\\CTT5-2-16\\76CTT.wav  0.093774    0.0      False\n",
      "13  data_process\\CTT5-2-16\\77CTT.wav -0.007593    0.0      False\n",
      "14  data_process\\CTT5-2-16\\78CTT.wav  0.391779    0.0      False\n",
      "15  data_process\\CTT5-2-16\\80CTT.wav  0.061062    0.0      False\n",
      "16  data_process\\CTT5-2-16\\91CTT.wav  0.239968    0.0      False\n",
      "17  data_process\\CTT5-2-16\\94CTT.wav  0.181533    0.0      False\n",
      "['data_process\\\\CTT5-2-16\\\\11CTT.wav', 'data_process\\\\CTT5-2-16\\\\25CTT.wav', 'data_process\\\\CTT5-2-16\\\\2CTT.wav', 'data_process\\\\CTT5-2-16\\\\37CTT.wav', 'data_process\\\\CTT5-2-16\\\\39CTT.wav', 'data_process\\\\CTT5-2-16\\\\45CTT.wav', 'data_process\\\\CTT5-2-16\\\\46CTT.wav', 'data_process\\\\CTT5-2-16\\\\65CTT.wav', 'data_process\\\\CTT5-2-16\\\\67CTT.wav', 'data_process\\\\CTT5-2-16\\\\68CTT.wav', 'data_process\\\\CTT5-2-16\\\\71CTT.wav', 'data_process\\\\CTT5-2-16\\\\74CTT.wav', 'data_process\\\\CTT5-2-16\\\\76CTT.wav', 'data_process\\\\CTT5-2-16\\\\77CTT.wav', 'data_process\\\\CTT5-2-16\\\\78CTT.wav', 'data_process\\\\CTT5-2-16\\\\80CTT.wav', 'data_process\\\\CTT5-2-16\\\\91CTT.wav', 'data_process\\\\CTT5-2-16\\\\94CTT.wav']\n",
      "[0.19945800304412842, 0.2061527669429779, 0.10719022154808044, 0.33260682225227356, 0.2596842050552368, 0.16537031531333923, 0.29400497674942017, 0.053194399923086166, 0.45239031314849854, 0.0075079468078911304, 0.0999913215637207, 0.046385642141103745, 0.09377360343933105, -0.007593187969177961, 0.3917793035507202, 0.061062391847372055, 0.23996812105178833, 0.1815330982208252]\n",
      "[9.0, 3.0, 0.0, 1.5, 2.0, 1.5, 0.0, 1.0, 0.5, 0.0, 0.0, 0.0, 0.0, 0.0, 0.0, 0.0, 0.0, 0.0]\n",
      "[False, False, False, False, False, False, False, False, False, False, False, False, False, False, False, False, False, False]\n",
      "[INFO] Evaluating result of tr. config @ ../LAS_Mandarin_PyTorch-master/config/cv11Lu_asr_lstm4atthead_allvocab-CDRSOB-5fold-3.yaml\n",
      "[INFO] Evaluating result of tr. ckpt @ LAS_ckpt/cv11Lu_asr_lstm4atthead_allvocab-CDRSOB-5fold-3_sd0/whisper-v2-15k-r-final-fix.pth\n"
     ]
    },
    {
     "name": "stderr",
     "output_type": "stream",
     "text": [
      "Some weights of WhisperForAudioClassification were not initialized from the model checkpoint at sanchit-gandhi/whisper-large-v2-ft-ls-960h and are newly initialized: ['model.classifier.bias', 'model.classifier.weight', 'model.projector.bias', 'model.projector.weight']\n",
      "You should probably TRAIN this model on a down-stream task to be able to use it for predictions and inference.\n"
     ]
    },
    {
     "name": "stdout",
     "output_type": "stream",
     "text": [
      "Load data for training/validation, store tokenizer and input/output shape\n",
      "Prepare dataloader for training/validation\n",
      "Interface for creating all kinds of dataset\n",
      "import VAGDatasetCDRSOB as Dataset\n",
      "[VAGDataset] path: data_process, split: ['CTT5-3-16']\n",
      "Mozillacv11Dataset CTT5-3-16 found wav data: 17\n",
      "text len: 17\n",
      "remove None, then wav data: 17, text len: 17\n",
      "[VAGDataset] path: data_process, split: ['CTTsegment_remove']\n",
      "Mozillacv11Dataset CTTsegment_remove found wav data: 99\n",
      "text len: 99\n",
      "remove None, then wav data: 85, text len: 85\n",
      "Setup ASR model and optimizer \n",
      "('data_process\\\\CTT5-3-16\\\\18CTT.wav',)   0.34024184942245483   1.5   False\n",
      "('data_process\\\\CTT5-3-16\\\\1CTT.wav',)   0.15216681361198425   0.0   False\n",
      "('data_process\\\\CTT5-3-16\\\\20CTT.wav',)   0.3707118332386017   3.0   False\n",
      "('data_process\\\\CTT5-3-16\\\\30CTT.wav',)   0.2468717247247696   0.0   False\n",
      "('data_process\\\\CTT5-3-16\\\\32CTT.wav',)   0.17304672300815582   2.0   False\n",
      "('data_process\\\\CTT5-3-16\\\\38CTT.wav',)   0.23886509239673615   0.5   False\n",
      "('data_process\\\\CTT5-3-16\\\\3CTT.wav',)   -0.00014148838818073273   0.0   False\n",
      "('data_process\\\\CTT5-3-16\\\\43CTT.wav',)   -0.232984259724617   0.0   False\n",
      "('data_process\\\\CTT5-3-16\\\\52CTT.wav',)   0.43958115577697754   0.0   False\n",
      "('data_process\\\\CTT5-3-16\\\\57CTT.wav',)   -0.04693309962749481   1.0   False\n",
      "('data_process\\\\CTT5-3-16\\\\58CTT.wav',)   0.7008611559867859   1.0   False\n",
      "('data_process\\\\CTT5-3-16\\\\75CTT.wav',)   0.3707118332386017   0.0   False\n",
      "('data_process\\\\CTT5-3-16\\\\81CTT.wav',)   0.38717424869537354   0.0   False\n",
      "('data_process\\\\CTT5-3-16\\\\82CTT.wav',)   0.32864391803741455   0.0   False\n",
      "('data_process\\\\CTT5-3-16\\\\87CTT.wav',)   0.3707118332386017   0.0   False\n",
      "('data_process\\\\CTT5-3-16\\\\93CTT.wav',)   0.3707118332386017   0.0   False\n",
      "('data_process\\\\CTT5-3-16\\\\98CTT.wav',)   0.4383023977279663   0.0   False\n",
      "[INFO] All done !                                                                                          \n",
      "                                name      hyps  truth  ifcorrect\n",
      "0   data_process\\CTT5-3-16\\18CTT.wav  0.340242    1.5      False\n",
      "1    data_process\\CTT5-3-16\\1CTT.wav  0.152167    0.0      False\n",
      "2   data_process\\CTT5-3-16\\20CTT.wav  0.370712    3.0      False\n",
      "3   data_process\\CTT5-3-16\\30CTT.wav  0.246872    0.0      False\n",
      "4   data_process\\CTT5-3-16\\32CTT.wav  0.173047    2.0      False\n",
      "5   data_process\\CTT5-3-16\\38CTT.wav  0.238865    0.5      False\n",
      "6    data_process\\CTT5-3-16\\3CTT.wav -0.000141    0.0      False\n",
      "7   data_process\\CTT5-3-16\\43CTT.wav -0.232984    0.0      False\n",
      "8   data_process\\CTT5-3-16\\52CTT.wav  0.439581    0.0      False\n",
      "9   data_process\\CTT5-3-16\\57CTT.wav -0.046933    1.0      False\n",
      "10  data_process\\CTT5-3-16\\58CTT.wav  0.700861    1.0      False\n",
      "11  data_process\\CTT5-3-16\\75CTT.wav  0.370712    0.0      False\n",
      "12  data_process\\CTT5-3-16\\81CTT.wav  0.387174    0.0      False\n",
      "13  data_process\\CTT5-3-16\\82CTT.wav  0.328644    0.0      False\n",
      "14  data_process\\CTT5-3-16\\87CTT.wav  0.370712    0.0      False\n",
      "15  data_process\\CTT5-3-16\\93CTT.wav  0.370712    0.0      False\n",
      "16  data_process\\CTT5-3-16\\98CTT.wav  0.438302    0.0      False\n",
      "['data_process\\\\CTT5-3-16\\\\18CTT.wav', 'data_process\\\\CTT5-3-16\\\\1CTT.wav', 'data_process\\\\CTT5-3-16\\\\20CTT.wav', 'data_process\\\\CTT5-3-16\\\\30CTT.wav', 'data_process\\\\CTT5-3-16\\\\32CTT.wav', 'data_process\\\\CTT5-3-16\\\\38CTT.wav', 'data_process\\\\CTT5-3-16\\\\3CTT.wav', 'data_process\\\\CTT5-3-16\\\\43CTT.wav', 'data_process\\\\CTT5-3-16\\\\52CTT.wav', 'data_process\\\\CTT5-3-16\\\\57CTT.wav', 'data_process\\\\CTT5-3-16\\\\58CTT.wav', 'data_process\\\\CTT5-3-16\\\\75CTT.wav', 'data_process\\\\CTT5-3-16\\\\81CTT.wav', 'data_process\\\\CTT5-3-16\\\\82CTT.wav', 'data_process\\\\CTT5-3-16\\\\87CTT.wav', 'data_process\\\\CTT5-3-16\\\\93CTT.wav', 'data_process\\\\CTT5-3-16\\\\98CTT.wav']\n",
      "[0.34024184942245483, 0.15216681361198425, 0.3707118332386017, 0.2468717247247696, 0.17304672300815582, 0.23886509239673615, -0.00014148838818073273, -0.232984259724617, 0.43958115577697754, -0.04693309962749481, 0.7008611559867859, 0.3707118332386017, 0.38717424869537354, 0.32864391803741455, 0.3707118332386017, 0.3707118332386017, 0.4383023977279663]\n",
      "[1.5, 0.0, 3.0, 0.0, 2.0, 0.5, 0.0, 0.0, 0.0, 1.0, 1.0, 0.0, 0.0, 0.0, 0.0, 0.0, 0.0]\n",
      "[False, False, False, False, False, False, False, False, False, False, False, False, False, False, False, False, False]\n",
      "[INFO] Evaluating result of tr. config @ ../LAS_Mandarin_PyTorch-master/config/cv11Lu_asr_lstm4atthead_allvocab-CDRSOB-5fold-4.yaml\n",
      "[INFO] Evaluating result of tr. ckpt @ LAS_ckpt/cv11Lu_asr_lstm4atthead_allvocab-CDRSOB-5fold-4_sd0/whisper-v2-15k-r-final-fix.pth\n"
     ]
    },
    {
     "name": "stderr",
     "output_type": "stream",
     "text": [
      "Some weights of WhisperForAudioClassification were not initialized from the model checkpoint at sanchit-gandhi/whisper-large-v2-ft-ls-960h and are newly initialized: ['model.classifier.bias', 'model.classifier.weight', 'model.projector.bias', 'model.projector.weight']\n",
      "You should probably TRAIN this model on a down-stream task to be able to use it for predictions and inference.\n"
     ]
    },
    {
     "name": "stdout",
     "output_type": "stream",
     "text": [
      "Load data for training/validation, store tokenizer and input/output shape\n",
      "Prepare dataloader for training/validation\n",
      "Interface for creating all kinds of dataset\n",
      "import VAGDatasetCDRSOB as Dataset\n",
      "[VAGDataset] path: data_process, split: ['CTT5-4-16']\n",
      "Mozillacv11Dataset CTT5-4-16 found wav data: 17\n",
      "text len: 17\n",
      "remove None, then wav data: 17, text len: 17\n",
      "[VAGDataset] path: data_process, split: ['CTTsegment_remove']\n",
      "Mozillacv11Dataset CTTsegment_remove found wav data: 99\n",
      "text len: 99\n",
      "remove None, then wav data: 85, text len: 85\n",
      "Setup ASR model and optimizer \n",
      "('data_process\\\\CTT5-4-16\\\\100CTT.wav',)   0.30691954493522644   0.0   False\n",
      "('data_process\\\\CTT5-4-16\\\\12CTT.wav',)   -0.01416914351284504   1.0   False\n",
      "('data_process\\\\CTT5-4-16\\\\17CTT.wav',)   1.1410621404647827   1.0   False\n",
      "('data_process\\\\CTT5-4-16\\\\21CTT.wav',)   -0.012529360130429268   0.0   False\n",
      "('data_process\\\\CTT5-4-16\\\\29CTT.wav',)   0.1072167381644249   0.0   False\n",
      "('data_process\\\\CTT5-4-16\\\\4CTT.wav',)   0.10252085328102112   1.5   False\n",
      "('data_process\\\\CTT5-4-16\\\\54CTT.wav',)   0.11376003921031952   0.0   False\n",
      "('data_process\\\\CTT5-4-16\\\\56CTT.wav',)   0.11002357304096222   0.0   False\n",
      "('data_process\\\\CTT5-4-16\\\\63CTT.wav',)   0.0992022305727005   2.5   False\n",
      "('data_process\\\\CTT5-4-16\\\\6CTT.wav',)   0.3238150179386139   0.0   False\n",
      "('data_process\\\\CTT5-4-16\\\\7CTT.wav',)   0.23650480806827545   0.0   False\n",
      "('data_process\\\\CTT5-4-16\\\\86CTT.wav',)   0.4216272234916687   0.0   False\n",
      "('data_process\\\\CTT5-4-16\\\\88CTT.wav',)   0.06058143079280853   0.0   False\n",
      "('data_process\\\\CTT5-4-16\\\\89CTT.wav',)   0.15716111660003662   0.0   False\n",
      "('data_process\\\\CTT5-4-16\\\\92CTT.wav',)   0.1980329006910324   0.0   False\n",
      "('data_process\\\\CTT5-4-16\\\\96CTT.wav',)   0.07200376689434052   0.0   False\n",
      "('data_process\\\\CTT5-4-16\\\\9CTT.wav',)   0.28280317783355713   6.0   False\n",
      "[INFO] All done !                                                                                          \n",
      "                                 name      hyps  truth  ifcorrect\n",
      "0   data_process\\CTT5-4-16\\100CTT.wav  0.306920    0.0      False\n",
      "1    data_process\\CTT5-4-16\\12CTT.wav -0.014169    1.0      False\n",
      "2    data_process\\CTT5-4-16\\17CTT.wav  1.141062    1.0      False\n",
      "3    data_process\\CTT5-4-16\\21CTT.wav -0.012529    0.0      False\n",
      "4    data_process\\CTT5-4-16\\29CTT.wav  0.107217    0.0      False\n",
      "5     data_process\\CTT5-4-16\\4CTT.wav  0.102521    1.5      False\n",
      "6    data_process\\CTT5-4-16\\54CTT.wav  0.113760    0.0      False\n",
      "7    data_process\\CTT5-4-16\\56CTT.wav  0.110024    0.0      False\n",
      "8    data_process\\CTT5-4-16\\63CTT.wav  0.099202    2.5      False\n",
      "9     data_process\\CTT5-4-16\\6CTT.wav  0.323815    0.0      False\n",
      "10    data_process\\CTT5-4-16\\7CTT.wav  0.236505    0.0      False\n",
      "11   data_process\\CTT5-4-16\\86CTT.wav  0.421627    0.0      False\n",
      "12   data_process\\CTT5-4-16\\88CTT.wav  0.060581    0.0      False\n",
      "13   data_process\\CTT5-4-16\\89CTT.wav  0.157161    0.0      False\n",
      "14   data_process\\CTT5-4-16\\92CTT.wav  0.198033    0.0      False\n",
      "15   data_process\\CTT5-4-16\\96CTT.wav  0.072004    0.0      False\n",
      "16    data_process\\CTT5-4-16\\9CTT.wav  0.282803    6.0      False\n",
      "['data_process\\\\CTT5-4-16\\\\100CTT.wav', 'data_process\\\\CTT5-4-16\\\\12CTT.wav', 'data_process\\\\CTT5-4-16\\\\17CTT.wav', 'data_process\\\\CTT5-4-16\\\\21CTT.wav', 'data_process\\\\CTT5-4-16\\\\29CTT.wav', 'data_process\\\\CTT5-4-16\\\\4CTT.wav', 'data_process\\\\CTT5-4-16\\\\54CTT.wav', 'data_process\\\\CTT5-4-16\\\\56CTT.wav', 'data_process\\\\CTT5-4-16\\\\63CTT.wav', 'data_process\\\\CTT5-4-16\\\\6CTT.wav', 'data_process\\\\CTT5-4-16\\\\7CTT.wav', 'data_process\\\\CTT5-4-16\\\\86CTT.wav', 'data_process\\\\CTT5-4-16\\\\88CTT.wav', 'data_process\\\\CTT5-4-16\\\\89CTT.wav', 'data_process\\\\CTT5-4-16\\\\92CTT.wav', 'data_process\\\\CTT5-4-16\\\\96CTT.wav', 'data_process\\\\CTT5-4-16\\\\9CTT.wav']\n",
      "[0.30691954493522644, -0.01416914351284504, 1.1410621404647827, -0.012529360130429268, 0.1072167381644249, 0.10252085328102112, 0.11376003921031952, 0.11002357304096222, 0.0992022305727005, 0.3238150179386139, 0.23650480806827545, 0.4216272234916687, 0.06058143079280853, 0.15716111660003662, 0.1980329006910324, 0.07200376689434052, 0.28280317783355713]\n",
      "[0.0, 1.0, 1.0, 0.0, 0.0, 1.5, 0.0, 0.0, 2.5, 0.0, 0.0, 0.0, 0.0, 0.0, 0.0, 0.0, 6.0]\n",
      "[False, False, False, False, False, False, False, False, False, False, False, False, False, False, False, False, False]\n",
      "[INFO] Evaluating result of tr. config @ ../LAS_Mandarin_PyTorch-master/config/cv11Lu_asr_lstm4atthead_allvocab-CDRSOB-5fold-5.yaml\n",
      "[INFO] Evaluating result of tr. ckpt @ LAS_ckpt/cv11Lu_asr_lstm4atthead_allvocab-CDRSOB-5fold-5_sd0/whisper-v2-15k-r-final-fix.pth\n"
     ]
    },
    {
     "name": "stderr",
     "output_type": "stream",
     "text": [
      "Some weights of WhisperForAudioClassification were not initialized from the model checkpoint at sanchit-gandhi/whisper-large-v2-ft-ls-960h and are newly initialized: ['model.classifier.bias', 'model.classifier.weight', 'model.projector.bias', 'model.projector.weight']\n",
      "You should probably TRAIN this model on a down-stream task to be able to use it for predictions and inference.\n"
     ]
    },
    {
     "name": "stdout",
     "output_type": "stream",
     "text": [
      "Load data for training/validation, store tokenizer and input/output shape\n",
      "Prepare dataloader for training/validation\n",
      "Interface for creating all kinds of dataset\n",
      "import VAGDatasetCDRSOB as Dataset\n",
      "[VAGDataset] path: data_process, split: ['CTT5-5-16']\n",
      "Mozillacv11Dataset CTT5-5-16 found wav data: 17\n",
      "text len: 17\n",
      "remove None, then wav data: 17, text len: 17\n",
      "[VAGDataset] path: data_process, split: ['CTTsegment_remove']\n",
      "Mozillacv11Dataset CTTsegment_remove found wav data: 99\n",
      "text len: 99\n",
      "remove None, then wav data: 85, text len: 85\n",
      "Setup ASR model and optimizer \n",
      "('data_process\\\\CTT5-5-16\\\\10CTT.wav',)   0.3477659225463867   1.0   False\n",
      "('data_process\\\\CTT5-5-16\\\\13CTT.wav',)   0.40294989943504333   0.0   False\n",
      "('data_process\\\\CTT5-5-16\\\\14CTT.wav',)   0.07796835154294968   0.0   False\n",
      "('data_process\\\\CTT5-5-16\\\\24CTT.wav',)   -0.14164219796657562   1.5   False\n",
      "('data_process\\\\CTT5-5-16\\\\31CTT.wav',)   0.19030246138572693   1.0   False\n",
      "('data_process\\\\CTT5-5-16\\\\44CTT.wav',)   0.3089657723903656   0.0   False\n",
      "('data_process\\\\CTT5-5-16\\\\47CTT.wav',)   0.05205103009939194   0.0   False\n",
      "('data_process\\\\CTT5-5-16\\\\50CTT.wav',)   0.23267033696174622   0.0   False\n",
      "('data_process\\\\CTT5-5-16\\\\5CTT.wav',)   0.3525082468986511   1.0   False\n",
      "('data_process\\\\CTT5-5-16\\\\64CTT.wav',)   0.42401376366615295   5.0   False\n",
      "('data_process\\\\CTT5-5-16\\\\69CTT.wav',)   0.2232489436864853   0.0   False\n",
      "('data_process\\\\CTT5-5-16\\\\72CTT.wav',)   0.16685505211353302   0.0   False\n",
      "('data_process\\\\CTT5-5-16\\\\73CTT.wav',)   -0.047313615679740906   0.0   False\n",
      "('data_process\\\\CTT5-5-16\\\\79CTT.wav',)   0.33480462431907654   0.0   False\n",
      "('data_process\\\\CTT5-5-16\\\\8CTT.wav',)   0.27067896723747253   0.0   False\n",
      "('data_process\\\\CTT5-5-16\\\\90CTT.wav',)   0.23102805018424988   0.0   False\n",
      "('data_process\\\\CTT5-5-16\\\\95CTT.wav',)   0.28204962611198425   0.0   False\n",
      "[INFO] All done !                                                                                          \n",
      "                                name      hyps  truth  ifcorrect\n",
      "0   data_process\\CTT5-5-16\\10CTT.wav  0.347766    1.0      False\n",
      "1   data_process\\CTT5-5-16\\13CTT.wav  0.402950    0.0      False\n",
      "2   data_process\\CTT5-5-16\\14CTT.wav  0.077968    0.0      False\n",
      "3   data_process\\CTT5-5-16\\24CTT.wav -0.141642    1.5      False\n",
      "4   data_process\\CTT5-5-16\\31CTT.wav  0.190302    1.0      False\n",
      "5   data_process\\CTT5-5-16\\44CTT.wav  0.308966    0.0      False\n",
      "6   data_process\\CTT5-5-16\\47CTT.wav  0.052051    0.0      False\n",
      "7   data_process\\CTT5-5-16\\50CTT.wav  0.232670    0.0      False\n",
      "8    data_process\\CTT5-5-16\\5CTT.wav  0.352508    1.0      False\n",
      "9   data_process\\CTT5-5-16\\64CTT.wav  0.424014    5.0      False\n",
      "10  data_process\\CTT5-5-16\\69CTT.wav  0.223249    0.0      False\n",
      "11  data_process\\CTT5-5-16\\72CTT.wav  0.166855    0.0      False\n",
      "12  data_process\\CTT5-5-16\\73CTT.wav -0.047314    0.0      False\n",
      "13  data_process\\CTT5-5-16\\79CTT.wav  0.334805    0.0      False\n",
      "14   data_process\\CTT5-5-16\\8CTT.wav  0.270679    0.0      False\n",
      "15  data_process\\CTT5-5-16\\90CTT.wav  0.231028    0.0      False\n",
      "16  data_process\\CTT5-5-16\\95CTT.wav  0.282050    0.0      False\n",
      "['data_process\\\\CTT5-5-16\\\\10CTT.wav', 'data_process\\\\CTT5-5-16\\\\13CTT.wav', 'data_process\\\\CTT5-5-16\\\\14CTT.wav', 'data_process\\\\CTT5-5-16\\\\24CTT.wav', 'data_process\\\\CTT5-5-16\\\\31CTT.wav', 'data_process\\\\CTT5-5-16\\\\44CTT.wav', 'data_process\\\\CTT5-5-16\\\\47CTT.wav', 'data_process\\\\CTT5-5-16\\\\50CTT.wav', 'data_process\\\\CTT5-5-16\\\\5CTT.wav', 'data_process\\\\CTT5-5-16\\\\64CTT.wav', 'data_process\\\\CTT5-5-16\\\\69CTT.wav', 'data_process\\\\CTT5-5-16\\\\72CTT.wav', 'data_process\\\\CTT5-5-16\\\\73CTT.wav', 'data_process\\\\CTT5-5-16\\\\79CTT.wav', 'data_process\\\\CTT5-5-16\\\\8CTT.wav', 'data_process\\\\CTT5-5-16\\\\90CTT.wav', 'data_process\\\\CTT5-5-16\\\\95CTT.wav']\n",
      "[0.3477659225463867, 0.40294989943504333, 0.07796835154294968, -0.14164219796657562, 0.19030246138572693, 0.3089657723903656, 0.05205103009939194, 0.23267033696174622, 0.3525082468986511, 0.42401376366615295, 0.2232489436864853, 0.16685505211353302, -0.047313615679740906, 0.33480462431907654, 0.27067896723747253, 0.23102805018424988, 0.28204962611198425]\n",
      "[1.0, 0.0, 0.0, 1.5, 1.0, 0.0, 0.0, 0.0, 1.0, 5.0, 0.0, 0.0, 0.0, 0.0, 0.0, 0.0, 0.0]\n",
      "[False, False, False, False, False, False, False, False, False, False, False, False, False, False, False, False, False]\n"
     ]
    }
   ],
   "source": [
    "main()"
   ]
  },
  {
   "cell_type": "code",
   "execution_count": 3,
   "id": "0d55d878",
   "metadata": {},
   "outputs": [],
   "source": [
    "for idx, df in enumerate(dfs):\n",
    "    alldf = pd.concat([alldf, df])#\n",
    "    # df.to_csv(f'./CDR_result/5folds12knew_4LSTM{idx+1}.csv', index=False)\n",
    "alldf.to_csv(f'./CDRSOB_result/whisper-v2-15k-r-final-fix.csv', index=False)    "
   ]
  },
  {
   "cell_type": "code",
   "execution_count": null,
   "id": "unavailable-opportunity",
   "metadata": {},
   "outputs": [],
   "source": [
    "from sklearn.metrics import classification_report, confusion_matrix\n",
    "y_true = [0, 0, 1, 0, 1, 0, 0, 1, 0, 1, 1, 0, 0, 1, 0, 0, 1, 0, 0, 1, 0] \n",
    "y_pred = [0, 0, 1, 1, 1, 0, 0, 0, 0, 0, 0, 0, 0, 1, 0, 0, 1, 0, 0, 1, 0]\n",
    "target_names = ['non-patient', 'patient']\n",
    "print(classification_report(y_true, y_pred, target_names=target_names))"
   ]
  },
  {
   "cell_type": "code",
   "execution_count": null,
   "id": "equal-equality",
   "metadata": {},
   "outputs": [],
   "source": [
    "tn, fp, fn, tp = confusion_matrix(y_true, y_pred).ravel()\n",
    "print('sensitivity: ',tp / (fn+tp))\n",
    "print('specificity: ',tn / (fp+tn))\n"
   ]
  },
  {
   "cell_type": "code",
   "execution_count": null,
   "id": "spanish-sugar",
   "metadata": {},
   "outputs": [],
   "source": [
    "import numpy as np\n",
    "from sklearn import metrics\n",
    "y = np.array([0, 0, 1, 0, 1, 0, 0, 1, 0, 1, 1, 0, 0, 1, 0, 0, 1, 0, 0, 1, 0])\n",
    "pred = np.array([0.0005, 0.1006, 0.8517, 0.9374, 0.9875, 0.2795, 0.0041, 0.0005, 0.0005, 0.2542, 0.0002, 0.0014, 0.0029, 0.9852, 0.0029, 3.6719e-05, 0.9708, 0.0003, 1.2828e-05, 0.9127, 0.0006])\n",
    "fpr, tpr, thresholds = metrics.roc_curve(y, pred, pos_label=1)\n",
    "metrics.auc(fpr, tpr)"
   ]
  },
  {
   "cell_type": "code",
   "execution_count": null,
   "id": "thick-piano",
   "metadata": {},
   "outputs": [],
   "source": [
    "!python eval.py --file ~/LAS_Mandarin_PyTorch-master/result/mozillacv11_asr_stm4atthead-test_test_output.csv"
   ]
  },
  {
   "cell_type": "code",
   "execution_count": null,
   "id": "racial-premiere",
   "metadata": {},
   "outputs": [],
   "source": []
  }
 ],
 "metadata": {
  "kernelspec": {
   "display_name": "Python 3",
   "language": "python",
   "name": "python3"
  },
  "language_info": {
   "codemirror_mode": {
    "name": "ipython",
    "version": 3
   },
   "file_extension": ".py",
   "mimetype": "text/x-python",
   "name": "python",
   "nbconvert_exporter": "python",
   "pygments_lexer": "ipython3",
   "version": "3.8.18"
  }
 },
 "nbformat": 4,
 "nbformat_minor": 5
}
