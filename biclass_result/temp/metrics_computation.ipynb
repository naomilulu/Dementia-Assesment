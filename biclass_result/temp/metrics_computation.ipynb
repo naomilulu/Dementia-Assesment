{
 "cells": [
  {
   "cell_type": "markdown",
   "id": "cd621c01",
   "metadata": {},
   "source": [
    "## import"
   ]
  },
  {
   "cell_type": "code",
   "execution_count": 1,
   "id": "latter-reason",
   "metadata": {},
   "outputs": [],
   "source": [
    "from sklearn.metrics import classification_report, confusion_matrix, roc_auc_score, ConfusionMatrixDisplay\n",
    "import numpy as np\n",
    "from scipy.stats import sem\n",
    "from sklearn import metrics\n",
    "import pandas as pd\n",
    "target_names = ['non-patient', 'patient']"
   ]
  },
  {
   "cell_type": "code",
   "execution_count": 2,
   "id": "regional-granny",
   "metadata": {},
   "outputs": [],
   "source": [
    "def CI(y_true, y_pred):\n",
    "    n_bootstraps = 1000\n",
    "    rng_seed = 42  # control reproducibility\n",
    "    bootstrapped_scores = []\n",
    "\n",
    "    rng = np.random.RandomState(rng_seed)\n",
    "    for i in range(n_bootstraps):\n",
    "        # bootstrap by sampling with replacement on the prediction indices\n",
    "        indices = rng.randint(0, len(y_pred), len(y_pred))\n",
    "        if len(np.unique(y_true[indices])) < 2:\n",
    "            # We need at least one positive and one negative sample for ROC AUC\n",
    "            # to be defined: reject the sample\n",
    "            continue\n",
    "\n",
    "        score = roc_auc_score(y_true[indices], y_pred[indices])\n",
    "        bootstrapped_scores.append(score)\n",
    "        #print(\"Bootstrap #{} ROC area: {:0.3f}\".format(i + 1, score))\n",
    "\n",
    "    sorted_scores = np.array(bootstrapped_scores)\n",
    "    sorted_scores.sort()\n",
    "    confidence_lower = sorted_scores[int(0.05 * len(sorted_scores))]\n",
    "    confidence_upper = sorted_scores[int(0.95 * len(sorted_scores))]\n",
    "    print(\"Confidence interval for the score: [{:0.3f} - {:0.3}]\".format(\n",
    "        confidence_lower, confidence_upper))"
   ]
  },
  {
   "cell_type": "markdown",
   "id": "c0b95f4e",
   "metadata": {},
   "source": [
    "### Hubert ori"
   ]
  },
  {
   "cell_type": "code",
   "execution_count": 3,
   "id": "loose-hierarchy",
   "metadata": {},
   "outputs": [],
   "source": [
    "# fivefolds_hubert = pd.read_csv('hubert10k.csv')\n",
    "# fivefolds_hubert['result'] = np.where(fivefolds_hubert['hyps'] >= 0.5,1,0)\n",
    "# fivefolds_hubert_wrong = fivefolds_hubert.iloc[np.where(fivefolds_hubert['ifcorrect'] == False)]\n",
    "# print(fivefolds_hubert_wrong)\n",
    "# # print(fivefolds_hubert.head(20))\n",
    "# fivefolds_hubert_result = fivefolds_hubert['result'].tolist()\n",
    "# fivefolds_hubert_hyps = fivefolds_hubert['hyps'].tolist()\n",
    "# fivefolds_hubert_truth = [int(i) for i in fivefolds_hubert['truth'].tolist()]\n",
    "# print(classification_report(fivefolds_hubert_truth, fivefolds_hubert_result, target_names=target_names))\n",
    "# tn, fp, fn, tp = confusion_matrix(fivefolds_hubert_truth, fivefolds_hubert_result).ravel()\n",
    "# print('sensitivuty: ',tp / (fn+tp))\n",
    "# print('specificity: ',tn / (fp+tn))\n",
    "# fpr, tpr, thresholds = metrics.roc_curve(np.array(fivefolds_hubert_truth), np.array(fivefolds_hubert_hyps), pos_label=1)\n",
    "# print('AUC: ',metrics.auc(fpr, tpr))"
   ]
  },
  {
   "cell_type": "code",
   "execution_count": 4,
   "id": "069e4dc5",
   "metadata": {},
   "outputs": [],
   "source": [
    "# fivefolds_whisper10k = pd.read_csv('whisper10k_encoder.csv')\n",
    "# fivefolds_whisper10k['result'] = np.where(fivefolds_whisper10k['hyps'] >= 0.5,1,0)\n",
    "# fivefolds_whisper10k_wrong = fivefolds_whisper10k.iloc[np.where(fivefolds_whisper10k['ifcorrect'] == False)]\n",
    "# print(fivefolds_whisper10k_wrong)\n",
    "# # print(fivefolds_whisper10k.head(20))\n",
    "# fivefolds_whisper10k_result = fivefolds_whisper10k['result'].tolist()\n",
    "# fivefolds_whisper10k_hyps = fivefolds_whisper10k['hyps'].tolist()\n",
    "# fivefolds_whisper10k_truth = [int(i) for i in fivefolds_whisper10k['truth'].tolist()]\n",
    "# print(classification_report(fivefolds_whisper10k_truth, fivefolds_whisper10k_result, target_names=target_names))\n",
    "# tn, fp, fn, tp = confusion_matrix(fivefolds_whisper10k_truth, fivefolds_whisper10k_result).ravel()\n",
    "# print('sensitivuty: ',tp / (fn+tp))\n",
    "# print('specificity: ',tn / (fp+tn))\n",
    "# fpr, tpr, thresholds = metrics.roc_curve(np.array(fivefolds_whisper10k_truth), np.array(fivefolds_whisper10k_hyps), pos_label=1)\n",
    "# print('AUC: ',metrics.auc(fpr, tpr))"
   ]
  },
  {
   "cell_type": "code",
   "execution_count": 5,
   "id": "7e8dd244",
   "metadata": {},
   "outputs": [],
   "source": [
    "# fivefolds_whisper10k = pd.read_csv('whisper10k_decoder_hidden_0.csv')\n",
    "# fivefolds_whisper10k['result'] = np.where(fivefolds_whisper10k['hyps'] >= 0.5,1,0)\n",
    "# fivefolds_whisper10k_wrong = fivefolds_whisper10k.iloc[np.where(fivefolds_whisper10k['ifcorrect'] == False)]\n",
    "# print(fivefolds_whisper10k_wrong)\n",
    "# # print(fivefolds_whisper10k.head(20))\n",
    "# fivefolds_whisper10k_result = fivefolds_whisper10k['result'].tolist()\n",
    "# fivefolds_whisper10k_hyps = fivefolds_whisper10k['hyps'].tolist()\n",
    "# fivefolds_whisper10k_truth = [int(i) for i in fivefolds_whisper10k['truth'].tolist()]\n",
    "# print(classification_report(fivefolds_whisper10k_truth, fivefolds_whisper10k_result, target_names=target_names))\n",
    "# tn, fp, fn, tp = confusion_matrix(fivefolds_whisper10k_truth, fivefolds_whisper10k_result).ravel()\n",
    "# print('sensitivuty: ',tp / (fn+tp))\n",
    "# print('specificity: ',tn / (fp+tn))\n",
    "# fpr, tpr, thresholds = metrics.roc_curve(np.array(fivefolds_whisper10k_truth), np.array(fivefolds_whisper10k_hyps), pos_label=1)\n",
    "# print('AUC: ',metrics.auc(fpr, tpr))"
   ]
  },
  {
   "cell_type": "code",
   "execution_count": 6,
   "id": "578a00af",
   "metadata": {},
   "outputs": [],
   "source": [
    "# fivefolds_whisper10k = pd.read_csv('whisper10k_decoder_hidden_10.csv')\n",
    "# fivefolds_whisper10k['result'] = np.where(fivefolds_whisper10k['hyps'] >= 0.5,1,0)\n",
    "# fivefolds_whisper10k_wrong = fivefolds_whisper10k.iloc[np.where(fivefolds_whisper10k['ifcorrect'] == False)]\n",
    "# print(fivefolds_whisper10k_wrong)\n",
    "# # print(fivefolds_whisper10k.head(20))\n",
    "# fivefolds_whisper10k_result = fivefolds_whisper10k['result'].tolist()\n",
    "# fivefolds_whisper10k_hyps = fivefolds_whisper10k['hyps'].tolist()\n",
    "# fivefolds_whisper10k_truth = [int(i) for i in fivefolds_whisper10k['truth'].tolist()]\n",
    "# print(classification_report(fivefolds_whisper10k_truth, fivefolds_whisper10k_result, target_names=target_names))\n",
    "# tn, fp, fn, tp = confusion_matrix(fivefolds_whisper10k_truth, fivefolds_whisper10k_result).ravel()\n",
    "# print('sensitivuty: ',tp / (fn+tp))\n",
    "# print('specificity: ',tn / (fp+tn))\n",
    "# fpr, tpr, thresholds = metrics.roc_curve(np.array(fivefolds_whisper10k_truth), np.array(fivefolds_whisper10k_hyps), pos_label=1)\n",
    "# print('AUC: ',metrics.auc(fpr, tpr))"
   ]
  },
  {
   "cell_type": "code",
   "execution_count": 7,
   "id": "64876de1",
   "metadata": {},
   "outputs": [],
   "source": [
    "# fivefolds_whisper10k = pd.read_csv('whisper10k_decoder_hidden_20.csv')\n",
    "# fivefolds_whisper10k['result'] = np.where(fivefolds_whisper10k['hyps'] >= 0.5,1,0)\n",
    "# fivefolds_whisper10k_wrong = fivefolds_whisper10k.iloc[np.where(fivefolds_whisper10k['ifcorrect'] == False)]\n",
    "# print(fivefolds_whisper10k_wrong)\n",
    "# # print(fivefolds_whisper10k.head(20))\n",
    "# fivefolds_whisper10k_result = fivefolds_whisper10k['result'].tolist()\n",
    "# fivefolds_whisper10k_hyps = fivefolds_whisper10k['hyps'].tolist()\n",
    "# fivefolds_whisper10k_truth = [int(i) for i in fivefolds_whisper10k['truth'].tolist()]\n",
    "# print(classification_report(fivefolds_whisper10k_truth, fivefolds_whisper10k_result, target_names=target_names))\n",
    "# tn, fp, fn, tp = confusion_matrix(fivefolds_whisper10k_truth, fivefolds_whisper10k_result).ravel()\n",
    "# print('sensitivuty: ',tp / (fn+tp))\n",
    "# print('specificity: ',tn / (fp+tn))\n",
    "# fpr, tpr, thresholds = metrics.roc_curve(np.array(fivefolds_whisper10k_truth), np.array(fivefolds_whisper10k_hyps), pos_label=1)\n",
    "# print('AUC: ',metrics.auc(fpr, tpr))"
   ]
  },
  {
   "cell_type": "code",
   "execution_count": 8,
   "id": "af353eec",
   "metadata": {},
   "outputs": [],
   "source": [
    "# fivefolds_whisper10k = pd.read_csv('whisper10k_decoder_hidden_30.csv')\n",
    "# fivefolds_whisper10k['result'] = np.where(fivefolds_whisper10k['hyps'] >= 0.5,1,0)\n",
    "# fivefolds_whisper10k_wrong = fivefolds_whisper10k.iloc[np.where(fivefolds_whisper10k['ifcorrect'] == False)]\n",
    "# print(fivefolds_whisper10k_wrong)\n",
    "# # print(fivefolds_whisper10k.head(20))\n",
    "# fivefolds_whisper10k_result = fivefolds_whisper10k['result'].tolist()\n",
    "# fivefolds_whisper10k_hyps = fivefolds_whisper10k['hyps'].tolist()\n",
    "# fivefolds_whisper10k_truth = [int(i) for i in fivefolds_whisper10k['truth'].tolist()]\n",
    "# print(classification_report(fivefolds_whisper10k_truth, fivefolds_whisper10k_result, target_names=target_names))\n",
    "# tn, fp, fn, tp = confusion_matrix(fivefolds_whisper10k_truth, fivefolds_whisper10k_result).ravel()\n",
    "# print('sensitivuty: ',tp / (fn+tp))\n",
    "# print('specificity: ',tn / (fp+tn))\n",
    "# fpr, tpr, thresholds = metrics.roc_curve(np.array(fivefolds_whisper10k_truth), np.array(fivefolds_whisper10k_hyps), pos_label=1)\n",
    "# print('AUC: ',metrics.auc(fpr, tpr))"
   ]
  },
  {
   "cell_type": "code",
   "execution_count": 9,
   "id": "341d83d3",
   "metadata": {},
   "outputs": [],
   "source": [
    "# fivefolds_whisper10k = pd.read_csv('whisper10k_decoder_hidden_31.csv')\n",
    "# fivefolds_whisper10k['result'] = np.where(fivefolds_whisper10k['hyps'] >= 0.5,1,0)\n",
    "# fivefolds_whisper10k_wrong = fivefolds_whisper10k.iloc[np.where(fivefolds_whisper10k['ifcorrect'] == False)]\n",
    "# print(fivefolds_whisper10k_wrong)\n",
    "# # print(fivefolds_whisper10k.head(20))\n",
    "# fivefolds_whisper10k_result = fivefolds_whisper10k['result'].tolist()\n",
    "# fivefolds_whisper10k_hyps = fivefolds_whisper10k['hyps'].tolist()\n",
    "# fivefolds_whisper10k_truth = [int(i) for i in fivefolds_whisper10k['truth'].tolist()]\n",
    "# print(classification_report(fivefolds_whisper10k_truth, fivefolds_whisper10k_result, target_names=target_names))\n",
    "# tn, fp, fn, tp = confusion_matrix(fivefolds_whisper10k_truth, fivefolds_whisper10k_result).ravel()\n",
    "# print('sensitivuty: ',tp / (fn+tp))\n",
    "# print('specificity: ',tn / (fp+tn))\n",
    "# fpr, tpr, thresholds = metrics.roc_curve(np.array(fivefolds_whisper10k_truth), np.array(fivefolds_whisper10k_hyps), pos_label=1)\n",
    "# print('AUC: ',metrics.auc(fpr, tpr))"
   ]
  },
  {
   "cell_type": "code",
   "execution_count": 10,
   "id": "d846fc9c",
   "metadata": {},
   "outputs": [],
   "source": [
    "# fivefolds_whisper10k = pd.read_csv('whisper10k_decoder_hidden_32.csv')\n",
    "# fivefolds_whisper10k['result'] = np.where(fivefolds_whisper10k['hyps'] >= 0.5,1,0)\n",
    "# fivefolds_whisper10k_wrong = fivefolds_whisper10k.iloc[np.where(fivefolds_whisper10k['ifcorrect'] == False)]\n",
    "# print(fivefolds_whisper10k_wrong)\n",
    "# # print(fivefolds_whisper10k.head(20))\n",
    "# fivefolds_whisper10k_result = fivefolds_whisper10k['result'].tolist()\n",
    "# fivefolds_whisper10k_hyps = fivefolds_whisper10k['hyps'].tolist()\n",
    "# fivefolds_whisper10k_truth = [int(i) for i in fivefolds_whisper10k['truth'].tolist()]\n",
    "# print(classification_report(fivefolds_whisper10k_truth, fivefolds_whisper10k_result, target_names=target_names))\n",
    "# tn, fp, fn, tp = confusion_matrix(fivefolds_whisper10k_truth, fivefolds_whisper10k_result).ravel()\n",
    "# print('sensitivuty: ',tp / (fn+tp))\n",
    "# print('specificity: ',tn / (fp+tn))\n",
    "# fpr, tpr, thresholds = metrics.roc_curve(np.array(fivefolds_whisper10k_truth), np.array(fivefolds_whisper10k_hyps), pos_label=1)\n",
    "# print('AUC: ',metrics.auc(fpr, tpr))"
   ]
  },
  {
   "cell_type": "markdown",
   "id": "78c30c03",
   "metadata": {},
   "source": [
    "## v1"
   ]
  },
  {
   "cell_type": "markdown",
   "id": "806e2535",
   "metadata": {},
   "source": [
    "### v1 decoder"
   ]
  },
  {
   "cell_type": "code",
   "execution_count": 11,
   "id": "91c5c05b",
   "metadata": {},
   "outputs": [],
   "source": [
    "# # with Lu & Taiwanese\n",
    "# fivefolds_whisper15k_with_id_4 = pd.read_csv('whisper15k_with_id_4.csv')\n",
    "# fivefolds_whisper15k_with_id_4['result'] = np.where(fivefolds_whisper15k_with_id_4['hyps'] >= 0.5,1,0)\n",
    "# fivefolds_whisper15k_with_id_4_wrong = fivefolds_whisper15k_with_id_4.iloc[np.where(fivefolds_whisper15k_with_id_4['ifcorrect'] == False)]\n",
    "# print(fivefolds_whisper15k_with_id_4_wrong)\n",
    "# # print(fivefolds_whisper10k_with_id_2.head(20))\n",
    "# fivefolds_whisper15k_with_id_4_result = fivefolds_whisper15k_with_id_4['result'].tolist()\n",
    "# fivefolds_whisper15k_with_id_4_hyps = fivefolds_whisper15k_with_id_4['hyps'].tolist()\n",
    "# fivefolds_whisper15k_with_id_4_truth = [int(i) for i in fivefolds_whisper15k_with_id_4['truth'].tolist()]\n",
    "# print(classification_report(fivefolds_whisper15k_with_id_4_truth, fivefolds_whisper15k_with_id_4_result, target_names=target_names))\n",
    "# tn, fp, fn, tp = confusion_matrix(fivefolds_whisper15k_with_id_4_truth, fivefolds_whisper15k_with_id_4_result).ravel()\n",
    "# print('sensitivuty: ',tp / (fn+tp))\n",
    "# print('specificity: ',tn / (fp+tn))\n",
    "# fpr, tpr, thresholds = metrics.roc_curve(np.array(fivefolds_whisper15k_with_id_4_truth), np.array(fivefolds_whisper15k_with_id_4_hyps), pos_label=1)\n",
    "# print('AUC: ',metrics.auc(fpr, tpr))\n",
    "# y_test = [bool(int(x)) for x in fivefolds_whisper15k_with_id_4_truth]\n",
    "# y_pred = [bool(int(x)) for x in fivefolds_whisper15k_with_id_4_result]\n",
    "# ConfusionMatrixDisplay.from_predictions(y_test, y_pred, cmap=\"Blues\")"
   ]
  },
  {
   "cell_type": "code",
   "execution_count": 12,
   "id": "828ab044",
   "metadata": {},
   "outputs": [],
   "source": [
    "# # with Lu\n",
    "# fivefolds_whisper15k_with_id_3 = pd.read_csv('whisper15k_with_id_3.csv')\n",
    "# fivefolds_whisper15k_with_id_3['result'] = np.where(fivefolds_whisper15k_with_id_3['hyps'] >= 0.5,1,0)\n",
    "# fivefolds_whisper15k_with_id_3_wrong = fivefolds_whisper15k_with_id_3.iloc[np.where(fivefolds_whisper15k_with_id_3['ifcorrect'] == False)]\n",
    "# print(fivefolds_whisper15k_with_id_3_wrong)\n",
    "# # print(fivefolds_whisper10k_with_id_2.head(20))\n",
    "# fivefolds_whisper15k_with_id_3_result = fivefolds_whisper15k_with_id_3['result'].tolist()\n",
    "# fivefolds_whisper15k_with_id_3_hyps = fivefolds_whisper15k_with_id_3['hyps'].tolist()\n",
    "# fivefolds_whisper15k_with_id_3_truth = [int(i) for i in fivefolds_whisper15k_with_id_3['truth'].tolist()]\n",
    "# print(classification_report(fivefolds_whisper15k_with_id_3_truth, fivefolds_whisper15k_with_id_3_result, target_names=target_names))\n",
    "# tn, fp, fn, tp = confusion_matrix(fivefolds_whisper15k_with_id_3_truth, fivefolds_whisper15k_with_id_3_result).ravel()\n",
    "# print('sensitivuty: ',tp / (fn+tp))\n",
    "# print('specificity: ',tn / (fp+tn))\n",
    "# fpr, tpr, thresholds = metrics.roc_curve(np.array(fivefolds_whisper15k_with_id_3_truth), np.array(fivefolds_whisper15k_with_id_3_hyps), pos_label=1)\n",
    "# print('AUC: ',metrics.auc(fpr, tpr))\n",
    "# y_test = [bool(int(x)) for x in fivefolds_whisper15k_with_id_3_truth]\n",
    "# y_pred = [bool(int(x)) for x in fivefolds_whisper15k_with_id_3_result]\n",
    "# ConfusionMatrixDisplay.from_predictions(y_test, y_pred, cmap=\"Blues\")"
   ]
  },
  {
   "cell_type": "code",
   "execution_count": 13,
   "id": "b5bd43d5",
   "metadata": {},
   "outputs": [],
   "source": [
    "# # with correct 5-fold-15\n",
    "# fivefolds_whisper15k_with_id_2 = pd.read_csv('whisper15k_with_id_2.csv')\n",
    "# fivefolds_whisper15k_with_id_2['result'] = np.where(fivefolds_whisper15k_with_id_2['hyps'] >= 0.5,1,0)\n",
    "# fivefolds_whisper15k_with_id_2_wrong = fivefolds_whisper15k_with_id_2.iloc[np.where(fivefolds_whisper15k_with_id_2['ifcorrect'] == False)]\n",
    "# print(fivefolds_whisper15k_with_id_2_wrong)\n",
    "# # print(fivefolds_whisper10k_with_id_2.head(20))\n",
    "# fivefolds_whisper15k_with_id_2_result = fivefolds_whisper15k_with_id_2['result'].tolist()\n",
    "# fivefolds_whisper15k_with_id_2_hyps = fivefolds_whisper15k_with_id_2['hyps'].tolist()\n",
    "# fivefolds_whisper15k_with_id_2_truth = [int(i) for i in fivefolds_whisper15k_with_id_2['truth'].tolist()]\n",
    "# print(classification_report(fivefolds_whisper15k_with_id_2_truth, fivefolds_whisper15k_with_id_2_result, target_names=target_names))\n",
    "# tn, fp, fn, tp = confusion_matrix(fivefolds_whisper15k_with_id_2_truth, fivefolds_whisper15k_with_id_2_result).ravel()\n",
    "# print('sensitivuty: ',tp / (fn+tp))\n",
    "# print('specificity: ',tn / (fp+tn))\n",
    "# fpr, tpr, thresholds = metrics.roc_curve(np.array(fivefolds_whisper15k_with_id_2_truth), np.array(fivefolds_whisper15k_with_id_2_hyps), pos_label=1)\n",
    "# print('AUC: ',metrics.auc(fpr, tpr))\n",
    "# y_test = [bool(int(x)) for x in fivefolds_whisper15k_with_id_2_truth]\n",
    "# y_pred = [bool(int(x)) for x in fivefolds_whisper15k_with_id_2_result]\n",
    "# ConfusionMatrixDisplay.from_predictions(y_test, y_pred, cmap=\"Blues\")"
   ]
  },
  {
   "cell_type": "markdown",
   "id": "4147e7fa",
   "metadata": {},
   "source": [
    "### v1 ori"
   ]
  },
  {
   "cell_type": "code",
   "execution_count": 14,
   "id": "6b0f1dbf",
   "metadata": {},
   "outputs": [],
   "source": [
    "# # with correct 5-fold-10\n",
    "# fivefolds_whisper10k_with_id_2 = pd.read_csv('whisper10k_with_id_2.csv')\n",
    "# fivefolds_whisper10k_with_id_2['result'] = np.where(fivefolds_whisper10k_with_id_2['hyps'] >= 0.5,1,0)\n",
    "# fivefolds_whisper10k_with_id_2_wrong = fivefolds_whisper10k_with_id_2.iloc[np.where(fivefolds_whisper10k_with_id_2['ifcorrect'] == False)]\n",
    "# print(fivefolds_whisper10k_with_id_2_wrong)\n",
    "# # print(fivefolds_whisper10k_with_id_2.head(20))\n",
    "# fivefolds_whisper10k_with_id_2_result = fivefolds_whisper10k_with_id_2['result'].tolist()\n",
    "# fivefolds_whisper10k_with_id_2_hyps = fivefolds_whisper10k_with_id_2['hyps'].tolist()\n",
    "# fivefolds_whisper10k_with_id_2_truth = [int(i) for i in fivefolds_whisper10k_with_id_2['truth'].tolist()]\n",
    "# print(classification_report(fivefolds_whisper10k_with_id_2_truth, fivefolds_whisper10k_with_id_2_result, target_names=target_names))\n",
    "# tn, fp, fn, tp = confusion_matrix(fivefolds_whisper10k_with_id_2_truth, fivefolds_whisper10k_with_id_2_result).ravel()\n",
    "# print('sensitivuty: ',tp / (fn+tp))\n",
    "# print('specificity: ',tn / (fp+tn))\n",
    "# fpr, tpr, thresholds = metrics.roc_curve(np.array(fivefolds_whisper10k_with_id_2_truth), np.array(fivefolds_whisper10k_with_id_2_hyps), pos_label=1)\n",
    "# print('AUC: ',metrics.auc(fpr, tpr))\n",
    "# y_test = [bool(int(x)) for x in fivefolds_whisper10k_with_id_2_truth]\n",
    "# y_pred = [bool(int(x)) for x in fivefolds_whisper10k_with_id_2_result]\n",
    "# ConfusionMatrixDisplay.from_predictions(y_test, y_pred, cmap=\"Blues\")"
   ]
  },
  {
   "cell_type": "code",
   "execution_count": 15,
   "id": "51a69833",
   "metadata": {},
   "outputs": [],
   "source": [
    "# fivefolds_whisper10k_with_id = pd.read_csv('whisper10k_with_id.csv')\n",
    "# fivefolds_whisper10k_with_id['result'] = np.where(fivefolds_whisper10k_with_id['hyps'] >= 0.5,1,0)\n",
    "# fivefolds_whisper10k_with_id_wrong = fivefolds_whisper10k_with_id.iloc[np.where(fivefolds_whisper10k_with_id['ifcorrect'] == False)]\n",
    "# print(fivefolds_whisper10k_with_id_wrong)\n",
    "# # print(fivefolds_whisper10k_with_id.head(20))\n",
    "# fivefolds_whisper10k_with_id_result = fivefolds_whisper10k_with_id['result'].tolist()\n",
    "# fivefolds_whisper10k_with_id_hyps = fivefolds_whisper10k_with_id['hyps'].tolist()\n",
    "# fivefolds_whisper10k_with_id_truth = [int(i) for i in fivefolds_whisper10k_with_id['truth'].tolist()]\n",
    "# print(classification_report(fivefolds_whisper10k_with_id_truth, fivefolds_whisper10k_with_id_result, target_names=target_names))\n",
    "# tn, fp, fn, tp = confusion_matrix(fivefolds_whisper10k_with_id_truth, fivefolds_whisper10k_with_id_result).ravel()\n",
    "# print('sensitivuty: ',tp / (fn+tp))\n",
    "# print('specificity: ',tn / (fp+tn))\n",
    "# fpr, tpr, thresholds = metrics.roc_curve(np.array(fivefolds_whisper10k_with_id_truth), np.array(fivefolds_whisper10k_with_id_hyps), pos_label=1)\n",
    "# print('AUC: ',metrics.auc(fpr, tpr))\n",
    "# y_test = [bool(int(x)) for x in fivefolds_whisper10k_with_id_truth]\n",
    "# y_pred = [bool(int(x)) for x in fivefolds_whisper10k_with_id_result]\n",
    "# ConfusionMatrixDisplay.from_predictions(y_test, y_pred, cmap=\"Blues\")"
   ]
  },
  {
   "cell_type": "code",
   "execution_count": 16,
   "id": "indonesian-anthropology",
   "metadata": {},
   "outputs": [],
   "source": [
    "# fivefolds_whisper10k = pd.read_csv('whisper10k.csv')\n",
    "# fivefolds_whisper10k['result'] = np.where(fivefolds_whisper10k['hyps'] >= 0.5,1,0)\n",
    "# fivefolds_whisper10k_wrong = fivefolds_whisper10k.iloc[np.where(fivefolds_whisper10k['ifcorrect'] == False)]\n",
    "# print(fivefolds_whisper10k_wrong)\n",
    "# # print(fivefolds_whisper10k.head(20))\n",
    "# fivefolds_whisper10k_result = fivefolds_whisper10k['result'].tolist()\n",
    "# fivefolds_whisper10k_hyps = fivefolds_whisper10k['hyps'].tolist()\n",
    "# fivefolds_whisper10k_truth = [int(i) for i in fivefolds_whisper10k['truth'].tolist()]\n",
    "# print(classification_report(fivefolds_whisper10k_truth, fivefolds_whisper10k_result, target_names=target_names))\n",
    "# tn, fp, fn, tp = confusion_matrix(fivefolds_whisper10k_truth, fivefolds_whisper10k_result).ravel()\n",
    "# print('sensitivuty: ',tp / (fn+tp))\n",
    "# print('specificity: ',tn / (fp+tn))\n",
    "# fpr, tpr, thresholds = metrics.roc_curve(np.array(fivefolds_whisper10k_truth), np.array(fivefolds_whisper10k_hyps), pos_label=1)\n",
    "# print('AUC: ',metrics.auc(fpr, tpr))"
   ]
  },
  {
   "cell_type": "markdown",
   "id": "e6aaa698",
   "metadata": {},
   "source": [
    "## v2"
   ]
  },
  {
   "cell_type": "markdown",
   "id": "2dff753b",
   "metadata": {},
   "source": [
    "### v2 encoder"
   ]
  },
  {
   "cell_type": "code",
   "execution_count": 17,
   "id": "77f5fbd9",
   "metadata": {},
   "outputs": [
    {
     "name": "stdout",
     "output_type": "stream",
     "text": [
      "                                name      hyps  truth  ifcorrect  result\n",
      "1      data_process\\CTT5-1-9\\003.wav  0.525759    0.0      False       1\n",
      "2      data_process\\CTT5-1-9\\004.wav  0.530323    0.0      False       1\n",
      "8      data_process\\CTT5-1-9\\010.wav  0.560212    0.0      False       1\n",
      "12   data_process\\CTT5-1-9\\19CTT.wav  0.758730    0.0      False       1\n",
      "14   data_process\\CTT5-1-9\\23CTT.wav  0.909660    0.0      False       1\n",
      "17   data_process\\CTT5-1-9\\33CTT.wav  0.847273    0.0      False       1\n",
      "19   data_process\\CTT5-1-9\\35CTT.wav  0.263096    1.0      False       0\n",
      "20   data_process\\CTT5-1-9\\40CTT.wav  0.486742    1.0      False       0\n",
      "22   data_process\\CTT5-1-9\\51CTT.wav  0.603383    0.0      False       1\n",
      "28   data_process\\CTT5-1-9\\85CTT.wav  0.670791    0.0      False       1\n",
      "41   data_process\\CTT5-2-9\\11CTT.wav  0.387709    1.0      False       0\n",
      "42   data_process\\CTT5-2-9\\25CTT.wav  0.365935    1.0      False       0\n",
      "43   data_process\\CTT5-2-9\\27CTT.wav  0.383485    1.0      False       0\n",
      "45   data_process\\CTT5-2-9\\36CTT.wav  0.427954    1.0      False       0\n",
      "46   data_process\\CTT5-2-9\\37CTT.wav  0.250049    1.0      False       0\n",
      "47   data_process\\CTT5-2-9\\39CTT.wav  0.195375    1.0      False       0\n",
      "48   data_process\\CTT5-2-9\\45CTT.wav  0.084701    1.0      False       0\n",
      "49   data_process\\CTT5-2-9\\46CTT.wav  0.241968    1.0      False       0\n",
      "51   data_process\\CTT5-2-9\\67CTT.wav  0.333493    1.0      False       0\n",
      "71   data_process\\CTT5-3-9\\18CTT.wav  0.205178    1.0      False       0\n",
      "73   data_process\\CTT5-3-9\\20CTT.wav  0.457175    1.0      False       0\n",
      "75   data_process\\CTT5-3-9\\32CTT.wav  0.141494    1.0      False       0\n",
      "76   data_process\\CTT5-3-9\\38CTT.wav  0.337378    1.0      False       0\n",
      "79   data_process\\CTT5-3-9\\48CTT.wav  0.349212    1.0      False       0\n",
      "80   data_process\\CTT5-3-9\\49CTT.wav  0.542846    0.0      False       1\n",
      "82   data_process\\CTT5-3-9\\57CTT.wav  0.076946    1.0      False       0\n",
      "110  data_process\\CTT5-4-9\\63CTT.wav  0.416242    1.0      False       0\n",
      "118   data_process\\CTT5-4-9\\9CTT.wav  0.406105    1.0      False       0\n",
      "123    data_process\\CTT5-5-9\\059.wav  0.533423    0.0      False       1\n",
      "129  data_process\\CTT5-5-9\\10CTT.wav  0.347488    1.0      False       0\n",
      "133  data_process\\CTT5-5-9\\31CTT.wav  0.466951    1.0      False       0\n",
      "137   data_process\\CTT5-5-9\\5CTT.wav  0.394322    1.0      False       0\n",
      "139  data_process\\CTT5-5-9\\62CTT.wav  0.448654    1.0      False       0\n",
      "141  data_process\\CTT5-5-9\\66CTT.wav  0.809664    0.0      False       1\n",
      "              precision    recall  f1-score   support\n",
      "\n",
      " non-patient       0.82      0.90      0.86       113\n",
      "     patient       0.54      0.36      0.43        36\n",
      "\n",
      "    accuracy                           0.77       149\n",
      "   macro avg       0.68      0.63      0.65       149\n",
      "weighted avg       0.75      0.77      0.75       149\n",
      "\n",
      "sensitivuty:  0.3611111111111111\n",
      "specificity:  0.9026548672566371\n",
      "AUC:  0.7925270403146509\n"
     ]
    },
    {
     "data": {
      "text/plain": [
       "<sklearn.metrics._plot.confusion_matrix.ConfusionMatrixDisplay at 0x1e452e188e0>"
      ]
     },
     "execution_count": 17,
     "metadata": {},
     "output_type": "execute_result"
    },
    {
     "data": {
      "image/png": "[encoded data removed]",
      "text/plain": [
       "<Figure size 640x480 with 2 Axes>"
      ]
     },
     "metadata": {},
     "output_type": "display_data"
    }
   ],
   "source": [
    "# with Lu & Taiwanese\n",
    "fivefolds_whisper_WhisperForAudioClassification_v2_15k_3 = pd.read_csv('whisper-WhisperForAudioClassification-v2-15k_3.csv') #whisper-WhisperForAudioClassification-v3-10k_2.csv\n",
    "fivefolds_whisper_WhisperForAudioClassification_v2_15k_3['result'] = np.where(fivefolds_whisper_WhisperForAudioClassification_v2_15k_3['hyps'] >= 0.5,1,0)\n",
    "fivefolds_whisper_WhisperForAudioClassification_v2_15k_3_wrong = fivefolds_whisper_WhisperForAudioClassification_v2_15k_3.iloc[np.where(fivefolds_whisper_WhisperForAudioClassification_v2_15k_3['ifcorrect'] == False)]\n",
    "print(fivefolds_whisper_WhisperForAudioClassification_v2_15k_3_wrong)\n",
    "# print(fivefolds_whisper_WhisperForAudioClassification_v3_10k_2.head(20))\n",
    "fivefolds_whisper_WhisperForAudioClassification_v2_15k_3_result = fivefolds_whisper_WhisperForAudioClassification_v2_15k_3['result'].tolist()\n",
    "fivefolds_whisper_WhisperForAudioClassification_v2_15k_3_hyps = fivefolds_whisper_WhisperForAudioClassification_v2_15k_3['hyps'].tolist()\n",
    "fivefolds_whisper_WhisperForAudioClassification_v2_15k_3_truth = [int(i) for i in fivefolds_whisper_WhisperForAudioClassification_v2_15k_3['truth'].tolist()]\n",
    "print(classification_report(fivefolds_whisper_WhisperForAudioClassification_v2_15k_3_truth, fivefolds_whisper_WhisperForAudioClassification_v2_15k_3_result, target_names=target_names))\n",
    "tn, fp, fn, tp = confusion_matrix(fivefolds_whisper_WhisperForAudioClassification_v2_15k_3_truth, fivefolds_whisper_WhisperForAudioClassification_v2_15k_3_result).ravel()\n",
    "print('sensitivuty: ',tp / (fn+tp))\n",
    "print('specificity: ',tn / (fp+tn))\n",
    "fpr, tpr, thresholds = metrics.roc_curve(np.array(fivefolds_whisper_WhisperForAudioClassification_v2_15k_3_truth), np.array(fivefolds_whisper_WhisperForAudioClassification_v2_15k_3_hyps), pos_label=1)\n",
    "print('AUC: ',metrics.auc(fpr, tpr))\n",
    "y_test = [bool(int(x)) for x in fivefolds_whisper_WhisperForAudioClassification_v2_15k_3_truth]\n",
    "y_pred = [bool(int(x)) for x in fivefolds_whisper_WhisperForAudioClassification_v2_15k_3_result]\n",
    "ConfusionMatrixDisplay.from_predictions(y_test, y_pred, cmap=\"Blues\")"
   ]
  },
  {
   "cell_type": "code",
   "execution_count": 18,
   "id": "c251585d",
   "metadata": {},
   "outputs": [
    {
     "name": "stdout",
     "output_type": "stream",
     "text": [
      "                               name      hyps  truth  ifcorrect  result\n",
      "2   data_process\\CTT5-1-2\\19CTT.wav  0.758730    0.0      False       1\n",
      "5   data_process\\CTT5-1-2\\33CTT.wav  0.847273    0.0      False       1\n",
      "7   data_process\\CTT5-1-2\\35CTT.wav  0.263096    1.0      False       0\n",
      "8   data_process\\CTT5-1-2\\40CTT.wav  0.486742    1.0      False       0\n",
      "10  data_process\\CTT5-1-2\\51CTT.wav  0.603383    0.0      False       1\n",
      "16  data_process\\CTT5-1-2\\85CTT.wav  0.670791    0.0      False       1\n",
      "19  data_process\\CTT5-2-2\\11CTT.wav  0.387709    1.0      False       0\n",
      "20  data_process\\CTT5-2-2\\25CTT.wav  0.365935    1.0      False       0\n",
      "22  data_process\\CTT5-2-2\\37CTT.wav  0.250049    1.0      False       0\n",
      "23  data_process\\CTT5-2-2\\39CTT.wav  0.195375    1.0      False       0\n",
      "24  data_process\\CTT5-2-2\\45CTT.wav  0.084701    1.0      False       0\n",
      "25  data_process\\CTT5-2-2\\46CTT.wav  0.241968    1.0      False       0\n",
      "27  data_process\\CTT5-2-2\\67CTT.wav  0.333493    1.0      False       0\n",
      "37  data_process\\CTT5-3-2\\18CTT.wav  0.205178    1.0      False       0\n",
      "39  data_process\\CTT5-3-2\\20CTT.wav  0.457175    1.0      False       0\n",
      "41  data_process\\CTT5-3-2\\32CTT.wav  0.141494    1.0      False       0\n",
      "42  data_process\\CTT5-3-2\\38CTT.wav  0.337378    1.0      False       0\n",
      "46  data_process\\CTT5-3-2\\57CTT.wav  0.076946    1.0      False       0\n",
      "62  data_process\\CTT5-4-2\\63CTT.wav  0.416242    1.0      False       0\n",
      "70   data_process\\CTT5-4-2\\9CTT.wav  0.406105    1.0      False       0\n",
      "71  data_process\\CTT5-5-2\\10CTT.wav  0.347488    1.0      False       0\n",
      "75  data_process\\CTT5-5-2\\31CTT.wav  0.466951    1.0      False       0\n",
      "79   data_process\\CTT5-5-2\\5CTT.wav  0.394322    1.0      False       0\n",
      "              precision    recall  f1-score   support\n",
      "\n",
      " non-patient       0.75      0.93      0.83        60\n",
      "     patient       0.69      0.32      0.44        28\n",
      "\n",
      "    accuracy                           0.74        88\n",
      "   macro avg       0.72      0.63      0.63        88\n",
      "weighted avg       0.73      0.74      0.71        88\n",
      "\n",
      "sensitivuty:  0.32142857142857145\n",
      "specificity:  0.9333333333333333\n",
      "AUC:  0.7333333333333333 0.8375 0.8787878787878788 0.9666666666666667 0.8666666666666667\n",
      "AUC_avg:  0.8565909090909092\n"
     ]
    },
    {
     "data": {
      "text/plain": [
       "<sklearn.metrics._plot.confusion_matrix.ConfusionMatrixDisplay at 0x1e452dff790>"
      ]
     },
     "execution_count": 18,
     "metadata": {},
     "output_type": "execute_result"
    },
    {
     "data": {
      "image/png": "[encoded data removed]",
      "text/plain": [
       "<Figure size 640x480 with 2 Axes>"
      ]
     },
     "metadata": {},
     "output_type": "display_data"
    }
   ],
   "source": [
    "# with correct 5-fold-15\n",
    "fivefolds_whisper_WhisperForAudioClassification_v2_15k_2 = pd.read_csv('whisper-WhisperForAudioClassification-v2-15k_2.csv') #whisper-WhisperForAudioClassification-v3-10k_2.csv\n",
    "fivefolds_whisper_WhisperForAudioClassification_v2_15k_2['result'] = np.where(fivefolds_whisper_WhisperForAudioClassification_v2_15k_2['hyps'] >= 0.5,1,0)\n",
    "fivefolds_whisper_WhisperForAudioClassification_v2_15k_2_wrong = fivefolds_whisper_WhisperForAudioClassification_v2_15k_2.iloc[np.where(fivefolds_whisper_WhisperForAudioClassification_v2_15k_2['ifcorrect'] == False)]\n",
    "print(fivefolds_whisper_WhisperForAudioClassification_v2_15k_2_wrong)\n",
    "# print(fivefolds_whisper_WhisperForAudioClassification_v3_10k_2.head(20))\n",
    "fivefolds_whisper_WhisperForAudioClassification_v2_15k_2_result = fivefolds_whisper_WhisperForAudioClassification_v2_15k_2['result'].tolist()\n",
    "fivefolds_whisper_WhisperForAudioClassification_v2_15k_2_hyps = fivefolds_whisper_WhisperForAudioClassification_v2_15k_2['hyps'].tolist()\n",
    "fivefolds_whisper_WhisperForAudioClassification_v2_15k_2_truth = [int(i) for i in fivefolds_whisper_WhisperForAudioClassification_v2_15k_2['truth'].tolist()]\n",
    "print(classification_report(fivefolds_whisper_WhisperForAudioClassification_v2_15k_2_truth, fivefolds_whisper_WhisperForAudioClassification_v2_15k_2_result, target_names=target_names))\n",
    "\n",
    "tn, fp, fn, tp = confusion_matrix(fivefolds_whisper_WhisperForAudioClassification_v2_15k_2_truth, fivefolds_whisper_WhisperForAudioClassification_v2_15k_2_result).ravel()\n",
    "print('sensitivuty: ',tp / (fn+tp))\n",
    "print('specificity: ',tn / (fp+tn))\n",
    "\n",
    "# fpr, tpr, thresholds = metrics.roc_curve(np.array(fivefolds_whisper_WhisperForAudioClassification_v2_15k_2_truth), np.array(fivefolds_whisper_WhisperForAudioClassification_v2_15k_2_hyps), pos_label=1)\n",
    "# print('AUC: ',metrics.auc(fpr, tpr))\n",
    "fpr1, tpr1, thresholds1 = metrics.roc_curve(np.array(fivefolds_whisper_WhisperForAudioClassification_v2_15k_2_truth[0:19]), np.array(fivefolds_whisper_WhisperForAudioClassification_v2_15k_2_hyps[0:19]), pos_label=1)\n",
    "auc1 = metrics.auc(fpr1, tpr1)\n",
    "fpr2, tpr2, thresholds2 = metrics.roc_curve(np.array(fivefolds_whisper_WhisperForAudioClassification_v2_15k_2_truth[19:37]), np.array(fivefolds_whisper_WhisperForAudioClassification_v2_15k_2_hyps[19:37]), pos_label=1)\n",
    "auc2 = metrics.auc(fpr2, tpr2)\n",
    "fpr3, tpr3, thresholds3 = metrics.roc_curve(np.array(fivefolds_whisper_WhisperForAudioClassification_v2_15k_2_truth[37:54]), np.array(fivefolds_whisper_WhisperForAudioClassification_v2_15k_2_hyps[37:54]), pos_label=1)\n",
    "auc3 = metrics.auc(fpr3, tpr3)\n",
    "fpr4, tpr4, thresholds4 = metrics.roc_curve(np.array(fivefolds_whisper_WhisperForAudioClassification_v2_15k_2_truth[54:71]), np.array(fivefolds_whisper_WhisperForAudioClassification_v2_15k_2_hyps[54:71]), pos_label=1)\n",
    "auc4 = metrics.auc(fpr4, tpr4)\n",
    "fpr5, tpr5, thresholds5 = metrics.roc_curve(np.array(fivefolds_whisper_WhisperForAudioClassification_v2_15k_2_truth[71:88]), np.array(fivefolds_whisper_WhisperForAudioClassification_v2_15k_2_hyps[71:88]), pos_label=1)\n",
    "auc5 = metrics.auc(fpr5, tpr5)\n",
    "print('AUC: ', auc1, auc2, auc3, auc4, auc5)\n",
    "print(\"AUC_avg: \", (auc1+auc2+auc3+auc4+auc5)/5)\n",
    "\n",
    "y_test = [bool(int(x)) for x in fivefolds_whisper_WhisperForAudioClassification_v2_15k_2_truth]\n",
    "y_pred = [bool(int(x)) for x in fivefolds_whisper_WhisperForAudioClassification_v2_15k_2_result]\n",
    "ConfusionMatrixDisplay.from_predictions(y_test, y_pred, cmap=\"Blues\")"
   ]
  },
  {
   "cell_type": "code",
   "execution_count": 19,
   "id": "e67599b8",
   "metadata": {},
   "outputs": [],
   "source": [
    "# # with means() 5-fold-15\n",
    "# fivefolds_whisper_WhisperForAudioClassification_v2_15k_with30separate = pd.read_csv('whisper-WhisperForAudioClassification-v2-15k_with30separate.csv') #whisper-WhisperForAudioClassification-v3-10k_2.csv\n",
    "# fivefolds_whisper_WhisperForAudioClassification_v2_15k_with30separate['result'] = np.where(fivefolds_whisper_WhisperForAudioClassification_v2_15k_with30separate['hyps'] >= 0.5,1,0)\n",
    "# fivefolds_whisper_WhisperForAudioClassification_v2_15k_with30separate_wrong = fivefolds_whisper_WhisperForAudioClassification_v2_15k_with30separate.iloc[np.where(fivefolds_whisper_WhisperForAudioClassification_v2_15k_with30separate['ifcorrect'] == False)]\n",
    "# print(fivefolds_whisper_WhisperForAudioClassification_v2_15k_with30separate_wrong)\n",
    "# # print(fivefolds_whisper_WhisperForAudioClassification_v3_10k_2.head(20))\n",
    "# fivefolds_whisper_WhisperForAudioClassification_v2_15k_with30separate_result = fivefolds_whisper_WhisperForAudioClassification_v2_15k_with30separate['result'].tolist()\n",
    "# fivefolds_whisper_WhisperForAudioClassification_v2_15k_with30separate_hyps = fivefolds_whisper_WhisperForAudioClassification_v2_15k_with30separate['hyps'].tolist()\n",
    "# fivefolds_whisper_WhisperForAudioClassification_v2_15k_with30separate_truth = [int(i) for i in fivefolds_whisper_WhisperForAudioClassification_v2_15k_with30separate['truth'].tolist()]\n",
    "# print(classification_report(fivefolds_whisper_WhisperForAudioClassification_v2_15k_with30separate_truth, fivefolds_whisper_WhisperForAudioClassification_v2_15k_with30separate_result, target_names=target_names))\n",
    "# tn, fp, fn, tp = confusion_matrix(fivefolds_whisper_WhisperForAudioClassification_v2_15k_with30separate_truth, fivefolds_whisper_WhisperForAudioClassification_v2_15k_with30separate_result).ravel()\n",
    "# print('sensitivuty: ',tp / (fn+tp))\n",
    "# print('specificity: ',tn / (fp+tn))\n",
    "# fpr, tpr, thresholds = metrics.roc_curve(np.array(fivefolds_whisper_WhisperForAudioClassification_v2_15k_with30separate_truth), np.array(fivefolds_whisper_WhisperForAudioClassification_v2_15k_with30separate_hyps), pos_label=1)\n",
    "# print('AUC: ',metrics.auc(fpr, tpr))\n",
    "# y_test = [bool(int(x)) for x in fivefolds_whisper_WhisperForAudioClassification_v2_15k_with30separate_truth]\n",
    "# y_pred = [bool(int(x)) for x in fivefolds_whisper_WhisperForAudioClassification_v2_15k_with30separate_result]\n",
    "# ConfusionMatrixDisplay.from_predictions(y_test, y_pred, cmap=\"Blues\")"
   ]
  },
  {
   "cell_type": "markdown",
   "id": "a4440415",
   "metadata": {},
   "source": [
    "### v2 decoder"
   ]
  },
  {
   "cell_type": "code",
   "execution_count": 20,
   "id": "d7c93c5f",
   "metadata": {},
   "outputs": [],
   "source": [
    "# # with correct 5-fold-15\n",
    "# fivefolds_whisper_v2_15k_with_id_2 = pd.read_csv('whisper-v2-15k_with_id_2.csv')\n",
    "# fivefolds_whisper_v2_15k_with_id_2['result'] = np.where(fivefolds_whisper_v2_15k_with_id_2['hyps'] >= 0.5,1,0)\n",
    "# fivefolds_whisper_v2_15k_with_id_2_wrong = fivefolds_whisper_v2_15k_with_id_2.iloc[np.where(fivefolds_whisper_v2_15k_with_id_2['ifcorrect'] == False)]\n",
    "# print(fivefolds_whisper_v2_15k_with_id_2_wrong)\n",
    "# # print(fivefolds_whisper_v3_10k_with_id_2.head(20))\n",
    "# fivefolds_whisper_v2_15k_with_id_2_result = fivefolds_whisper_v2_15k_with_id_2['result'].tolist()\n",
    "# fivefolds_whisper_v2_15k_with_id_2_hyps = fivefolds_whisper_v2_15k_with_id_2['hyps'].tolist()\n",
    "# fivefolds_whisper_v2_15k_with_id_2_truth = [int(i) for i in fivefolds_whisper_v2_15k_with_id_2['truth'].tolist()]\n",
    "# print(classification_report(fivefolds_whisper_v2_15k_with_id_2_truth, fivefolds_whisper_v2_15k_with_id_2_result, target_names=target_names))\n",
    "# tn, fp, fn, tp = confusion_matrix(fivefolds_whisper_v2_15k_with_id_2_truth, fivefolds_whisper_v2_15k_with_id_2_result).ravel()\n",
    "# print('sensitivuty: ',tp / (fn+tp))\n",
    "# print('specificity: ',tn / (fp+tn))\n",
    "# fpr, tpr, thresholds = metrics.roc_curve(np.array(fivefolds_whisper_v2_15k_with_id_2_truth), np.array(fivefolds_whisper_v2_15k_with_id_2_hyps), pos_label=1)\n",
    "# print('AUC: ',metrics.auc(fpr, tpr))\n",
    "# y_test = [bool(int(x)) for x in fivefolds_whisper_v2_15k_with_id_2_result]\n",
    "# y_pred = [bool(int(x)) for x in fivefolds_whisper_v2_15k_with_id_2_truth]\n",
    "# ConfusionMatrixDisplay.from_predictions(y_test, y_pred, cmap=\"Blues\")"
   ]
  },
  {
   "cell_type": "markdown",
   "id": "963ccfe0",
   "metadata": {},
   "source": [
    "### v2 ori"
   ]
  },
  {
   "cell_type": "code",
   "execution_count": 21,
   "id": "9fa9c80b",
   "metadata": {},
   "outputs": [],
   "source": [
    "# # with correct 5-fold-10\n",
    "# fivefolds_whisper_WhisperForAudioClassification_v2_10k_2 = pd.read_csv('whisper-WhisperForAudioClassification-2-v2-10k.csv')\n",
    "# fivefolds_whisper_WhisperForAudioClassification_v2_10k_2['result'] = np.where(fivefolds_whisper_WhisperForAudioClassification_v2_10k_2['hyps'] >= 0.5,1,0)\n",
    "# fivefolds_whisper_WhisperForAudioClassification_v2_10k_2_wrong = fivefolds_whisper_WhisperForAudioClassification_v2_10k_2.iloc[np.where(fivefolds_whisper_WhisperForAudioClassification_v2_10k_2['ifcorrect'] == False)]\n",
    "# print(fivefolds_whisper_WhisperForAudioClassification_v2_10k_2_wrong)\n",
    "# # print(fivefolds_whisper_WhisperForAudioClassification_v2_10k_2.head(20))\n",
    "# fivefolds_whisper_WhisperForAudioClassification_v2_10k_2_result = fivefolds_whisper_WhisperForAudioClassification_v2_10k_2['result'].tolist()\n",
    "# fivefolds_whisper_WhisperForAudioClassification_v2_10k_2_hyps = fivefolds_whisper_WhisperForAudioClassification_v2_10k_2['hyps'].tolist()\n",
    "# fivefolds_whisper_WhisperForAudioClassification_v2_10k_2_truth = [int(i) for i in fivefolds_whisper_WhisperForAudioClassification_v2_10k_2['truth'].tolist()]\n",
    "# print(classification_report(fivefolds_whisper_WhisperForAudioClassification_v2_10k_2_truth, fivefolds_whisper_WhisperForAudioClassification_v2_10k_2_result, target_names=target_names))\n",
    "# tn, fp, fn, tp = confusion_matrix(fivefolds_whisper_WhisperForAudioClassification_v2_10k_2_truth, fivefolds_whisper_WhisperForAudioClassification_v2_10k_2_result).ravel()\n",
    "# print('sensitivuty: ',tp / (fn+tp))\n",
    "# print('specificity: ',tn / (fp+tn))\n",
    "# fpr, tpr, thresholds = metrics.roc_curve(np.array(fivefolds_whisper_WhisperForAudioClassification_v2_10k_2_truth), np.array(fivefolds_whisper_WhisperForAudioClassification_v2_10k_2_hyps), pos_label=1)\n",
    "# print('AUC: ',metrics.auc(fpr, tpr))\n",
    "# y_test = [bool(int(x)) for x in fivefolds_whisper_WhisperForAudioClassification_v2_10k_2_result]\n",
    "# y_pred = [bool(int(x)) for x in fivefolds_whisper_WhisperForAudioClassification_v2_10k_2_truth]\n",
    "# ConfusionMatrixDisplay.from_predictions(y_test, y_pred, cmap=\"Blues\")"
   ]
  },
  {
   "cell_type": "code",
   "execution_count": 22,
   "id": "c5d5ac80",
   "metadata": {},
   "outputs": [],
   "source": [
    "# fivefolds_whisper_WhisperForAudioClassification_v2_10k = pd.read_csv('whisper-WhisperForAudioClassification-v2-10k.csv')\n",
    "# fivefolds_whisper_WhisperForAudioClassification_v2_10k['result'] = np.where(fivefolds_whisper_WhisperForAudioClassification_v2_10k['hyps'] >= 0.5,1,0)\n",
    "# fivefolds_whisper_WhisperForAudioClassification_v2_10k_wrong = fivefolds_whisper_WhisperForAudioClassification_v2_10k.iloc[np.where(fivefolds_whisper_WhisperForAudioClassification_v2_10k['ifcorrect'] == False)]\n",
    "# print(fivefolds_whisper_WhisperForAudioClassification_v2_10k_wrong)\n",
    "# # print(fivefolds_whisper_WhisperForAudioClassification_v2_10k.head(20))\n",
    "# fivefolds_whisper_WhisperForAudioClassification_v2_10k_result = fivefolds_whisper_WhisperForAudioClassification_v2_10k['result'].tolist()\n",
    "# fivefolds_whisper_WhisperForAudioClassification_v2_10k_hyps = fivefolds_whisper_WhisperForAudioClassification_v2_10k['hyps'].tolist()\n",
    "# fivefolds_whisper_WhisperForAudioClassification_v2_10k_truth = [int(i) for i in fivefolds_whisper_WhisperForAudioClassification_v2_10k['truth'].tolist()]\n",
    "# print(classification_report(fivefolds_whisper_WhisperForAudioClassification_v2_10k_truth, fivefolds_whisper_WhisperForAudioClassification_v2_10k_result, target_names=target_names))\n",
    "# tn, fp, fn, tp = confusion_matrix(fivefolds_whisper_WhisperForAudioClassification_v2_10k_truth, fivefolds_whisper_WhisperForAudioClassification_v2_10k_result).ravel()\n",
    "# print('sensitivuty: ',tp / (fn+tp))\n",
    "# print('specificity: ',tn / (fp+tn))\n",
    "# fpr, tpr, thresholds = metrics.roc_curve(np.array(fivefolds_whisper_WhisperForAudioClassification_v2_10k_truth), np.array(fivefolds_whisper_WhisperForAudioClassification_v2_10k_hyps), pos_label=1)\n",
    "# print('AUC: ',metrics.auc(fpr, tpr))\n",
    "# y_test = [bool(int(x)) for x in fivefolds_whisper_WhisperForAudioClassification_v2_10k_result]\n",
    "# y_pred = [bool(int(x)) for x in fivefolds_whisper_WhisperForAudioClassification_v2_10k_truth]\n",
    "# ConfusionMatrixDisplay.from_predictions(y_test, y_pred, cmap=\"Blues\")"
   ]
  },
  {
   "cell_type": "code",
   "execution_count": 23,
   "id": "bc0f122b",
   "metadata": {},
   "outputs": [],
   "source": [
    "# # with correct 5-fold-10\n",
    "# fivefolds_whisper_v2_10k_with_id_2 = pd.read_csv('whisper-v2-10k_with_id_2.csv')\n",
    "# fivefolds_whisper_v2_10k_with_id_2['result'] = np.where(fivefolds_whisper_v2_10k_with_id_2['hyps'] >= 0.5,1,0)\n",
    "# fivefolds_whisper_v2_10k_with_id_2_wrong = fivefolds_whisper_v2_10k_with_id_2.iloc[np.where(fivefolds_whisper_v2_10k_with_id_2['ifcorrect'] == False)]\n",
    "# print(fivefolds_whisper_v2_10k_with_id_2_wrong)\n",
    "# # print(fivefolds_whisper_v2_10k_with_id_2.head(20))\n",
    "# fivefolds_whisper_v2_10k_with_id_2_result = fivefolds_whisper_v2_10k_with_id_2['result'].tolist()\n",
    "# fivefolds_whisper_v2_10k_with_id_2_hyps = fivefolds_whisper_v2_10k_with_id_2['hyps'].tolist()\n",
    "# fivefolds_whisper_v2_10k_with_id_2_truth = [int(i) for i in fivefolds_whisper_v2_10k_with_id_2['truth'].tolist()]\n",
    "# print(classification_report(fivefolds_whisper_v2_10k_with_id_2_truth, fivefolds_whisper_v2_10k_with_id_2_result, target_names=target_names))\n",
    "# tn, fp, fn, tp = confusion_matrix(fivefolds_whisper_v2_10k_with_id_2_truth, fivefolds_whisper_v2_10k_with_id_2_result).ravel()\n",
    "# print('sensitivuty: ',tp / (fn+tp))\n",
    "# print('specificity: ',tn / (fp+tn))\n",
    "# fpr, tpr, thresholds = metrics.roc_curve(np.array(fivefolds_whisper_v2_10k_with_id_2_truth), np.array(fivefolds_whisper_v2_10k_with_id_2_hyps), pos_label=1)\n",
    "# print('AUC: ',metrics.auc(fpr, tpr))\n",
    "# y_test = [bool(int(x)) for x in fivefolds_whisper_v2_10k_with_id_2_result]\n",
    "# y_pred = [bool(int(x)) for x in fivefolds_whisper_v2_10k_with_id_2_truth]\n",
    "# ConfusionMatrixDisplay.from_predictions(y_test, y_pred, cmap=\"Blues\")"
   ]
  },
  {
   "cell_type": "code",
   "execution_count": 24,
   "id": "d39296cf",
   "metadata": {},
   "outputs": [],
   "source": [
    "# fivefolds_whisper_v2_10k_with_id = pd.read_csv('whisper-v2-10k_with_id.csv')\n",
    "# fivefolds_whisper_v2_10k_with_id['result'] = np.where(fivefolds_whisper_v2_10k_with_id['hyps'] >= 0.5,1,0)\n",
    "# fivefolds_whisper_v2_10k_with_id_wrong = fivefolds_whisper_v2_10k_with_id.iloc[np.where(fivefolds_whisper_v2_10k_with_id['ifcorrect'] == False)]\n",
    "# print(fivefolds_whisper_v2_10k_with_id_wrong)\n",
    "# # print(fivefolds_whisper_v2_10k_with_id.head(20))\n",
    "# fivefolds_whisper_v2_10k_with_id_result = fivefolds_whisper_v2_10k_with_id['result'].tolist()\n",
    "# fivefolds_whisper_v2_10k_with_id_hyps = fivefolds_whisper_v2_10k_with_id['hyps'].tolist()\n",
    "# fivefolds_whisper_v2_10k_with_id_truth = [int(i) for i in fivefolds_whisper_v2_10k_with_id['truth'].tolist()]\n",
    "# print(classification_report(fivefolds_whisper_v2_10k_with_id_truth, fivefolds_whisper_v2_10k_with_id_result, target_names=target_names))\n",
    "# tn, fp, fn, tp = confusion_matrix(fivefolds_whisper_v2_10k_with_id_truth, fivefolds_whisper_v2_10k_with_id_result).ravel()\n",
    "# print('sensitivuty: ',tp / (fn+tp))\n",
    "# print('specificity: ',tn / (fp+tn))\n",
    "# fpr, tpr, thresholds = metrics.roc_curve(np.array(fivefolds_whisper_v2_10k_with_id_truth), np.array(fivefolds_whisper_v2_10k_with_id_hyps), pos_label=1)\n",
    "# print('AUC: ',metrics.auc(fpr, tpr))\n",
    "# y_test = [bool(int(x)) for x in fivefolds_whisper_v2_10k_with_id_result]\n",
    "# y_pred = [bool(int(x)) for x in fivefolds_whisper_v2_10k_with_id_truth]\n",
    "# ConfusionMatrixDisplay.from_predictions(y_test, y_pred, cmap=\"Blues\")"
   ]
  },
  {
   "cell_type": "code",
   "execution_count": 25,
   "metadata": {},
   "outputs": [],
   "source": [
    "# fivefolds_whisper_v2_10k = pd.read_csv('whisper-v2-10k.csv')\n",
    "# fivefolds_whisper_v2_10k['result'] = np.where(fivefolds_whisper_v2_10k['hyps'] >= 0.5,1,0)\n",
    "# fivefolds_whisper_v2_10k_wrong = fivefolds_whisper_v2_10k.iloc[np.where(fivefolds_whisper_v2_10k['ifcorrect'] == False)]\n",
    "# print(fivefolds_whisper_v2_10k_wrong)\n",
    "# # print(fivefolds_whisper_v2_10k.head(20))\n",
    "# fivefolds_whisper_v2_10k_result = fivefolds_whisper_v2_10k['result'].tolist()\n",
    "# fivefolds_whisper_v2_10k_hyps = fivefolds_whisper_v2_10k['hyps'].tolist()\n",
    "# fivefolds_whisper_v2_10k_truth = [int(i) for i in fivefolds_whisper_v2_10k['truth'].tolist()]\n",
    "# print(classification_report(fivefolds_whisper_v2_10k_truth, fivefolds_whisper_v2_10k_result, target_names=target_names))\n",
    "# tn, fp, fn, tp = confusion_matrix(fivefolds_whisper_v2_10k_truth, fivefolds_whisper_v2_10k_result).ravel()\n",
    "# print('sensitivuty: ',tp / (fn+tp))\n",
    "# print('specificity: ',tn / (fp+tn))\n",
    "# fpr, tpr, thresholds = metrics.roc_curve(np.array(fivefolds_whisper_v2_10k_truth), np.array(fivefolds_whisper_v2_10k_hyps), pos_label=1)\n",
    "# print('AUC: ',metrics.auc(fpr, tpr))"
   ]
  },
  {
   "cell_type": "markdown",
   "id": "d810574c",
   "metadata": {},
   "source": [
    "## v3"
   ]
  },
  {
   "cell_type": "markdown",
   "id": "01844c66",
   "metadata": {},
   "source": [
    "### v3 encoder"
   ]
  },
  {
   "cell_type": "code",
   "execution_count": 26,
   "id": "8a5a6cc7",
   "metadata": {},
   "outputs": [
    {
     "name": "stdout",
     "output_type": "stream",
     "text": [
      "                                name      hyps  truth  ifcorrect  result\n",
      "2      data_process\\CTT5-1-9\\004.wav  0.524286    0.0      False       1\n",
      "8      data_process\\CTT5-1-9\\010.wav  0.548921    0.0      False       1\n",
      "12   data_process\\CTT5-1-9\\19CTT.wav  0.616771    0.0      False       1\n",
      "14   data_process\\CTT5-1-9\\23CTT.wav  0.909558    0.0      False       1\n",
      "17   data_process\\CTT5-1-9\\33CTT.wav  0.807344    0.0      False       1\n",
      "19   data_process\\CTT5-1-9\\35CTT.wav  0.269027    1.0      False       0\n",
      "20   data_process\\CTT5-1-9\\40CTT.wav  0.453501    1.0      False       0\n",
      "22   data_process\\CTT5-1-9\\51CTT.wav  0.521434    0.0      False       1\n",
      "23   data_process\\CTT5-1-9\\53CTT.wav  0.556264    0.0      False       1\n",
      "28   data_process\\CTT5-1-9\\85CTT.wav  0.673020    0.0      False       1\n",
      "46   data_process\\CTT5-2-9\\37CTT.wav  0.390992    1.0      False       0\n",
      "47   data_process\\CTT5-2-9\\39CTT.wav  0.301379    1.0      False       0\n",
      "48   data_process\\CTT5-2-9\\45CTT.wav  0.158306    1.0      False       0\n",
      "49   data_process\\CTT5-2-9\\46CTT.wav  0.264406    1.0      False       0\n",
      "51   data_process\\CTT5-2-9\\67CTT.wav  0.367943    1.0      False       0\n",
      "71   data_process\\CTT5-3-9\\18CTT.wav  0.203939    1.0      False       0\n",
      "73   data_process\\CTT5-3-9\\20CTT.wav  0.484374    1.0      False       0\n",
      "75   data_process\\CTT5-3-9\\32CTT.wav  0.120187    1.0      False       0\n",
      "76   data_process\\CTT5-3-9\\38CTT.wav  0.451926    1.0      False       0\n",
      "79   data_process\\CTT5-3-9\\48CTT.wav  0.308376    1.0      False       0\n",
      "82   data_process\\CTT5-3-9\\57CTT.wav  0.060583    1.0      False       0\n",
      "105   data_process\\CTT5-4-9\\4CTT.wav  0.351330    1.0      False       0\n",
      "110  data_process\\CTT5-4-9\\63CTT.wav  0.251828    1.0      False       0\n",
      "118   data_process\\CTT5-4-9\\9CTT.wav  0.291879    1.0      False       0\n",
      "129  data_process\\CTT5-5-9\\10CTT.wav  0.457563    1.0      False       0\n",
      "133  data_process\\CTT5-5-9\\31CTT.wav  0.452234    1.0      False       0\n",
      "138  data_process\\CTT5-5-9\\61CTT.wav  0.458680    1.0      False       0\n",
      "139  data_process\\CTT5-5-9\\62CTT.wav  0.279662    1.0      False       0\n",
      "141  data_process\\CTT5-5-9\\66CTT.wav  0.828006    0.0      False       1\n",
      "142  data_process\\CTT5-5-9\\69CTT.wav  0.522039    0.0      False       1\n",
      "              precision    recall  f1-score   support\n",
      "\n",
      " non-patient       0.84      0.91      0.87       113\n",
      "     patient       0.62      0.44      0.52        36\n",
      "\n",
      "    accuracy                           0.80       149\n",
      "   macro avg       0.73      0.68      0.69       149\n",
      "weighted avg       0.78      0.80      0.79       149\n",
      "\n",
      "sensitivuty:  0.4444444444444444\n",
      "specificity:  0.911504424778761\n",
      "AUC:  0.8230088495575222\n"
     ]
    },
    {
     "data": {
      "text/plain": [
       "<sklearn.metrics._plot.confusion_matrix.ConfusionMatrixDisplay at 0x1e453dd0e80>"
      ]
     },
     "execution_count": 26,
     "metadata": {},
     "output_type": "execute_result"
    },
    {
     "data": {
      "image/png": "[encoded data removed]",
      "text/plain": [
       "<Figure size 640x480 with 2 Axes>"
      ]
     },
     "metadata": {},
     "output_type": "display_data"
    }
   ],
   "source": [
    "# with Lu & Taiwanese\n",
    "fivefolds_whisper_WhisperForAudioClassification_v3_15k_3 = pd.read_csv('whisper-WhisperForAudioClassification-v3-15k_3.csv') #whisper-WhisperForAudioClassification-v3-10k_2.csv\n",
    "fivefolds_whisper_WhisperForAudioClassification_v3_15k_3['result'] = np.where(fivefolds_whisper_WhisperForAudioClassification_v3_15k_3['hyps'] >= 0.5,1,0)\n",
    "fivefolds_whisper_WhisperForAudioClassification_v3_15k_3_wrong = fivefolds_whisper_WhisperForAudioClassification_v3_15k_3.iloc[np.where(fivefolds_whisper_WhisperForAudioClassification_v3_15k_3['ifcorrect'] == False)]\n",
    "print(fivefolds_whisper_WhisperForAudioClassification_v3_15k_3_wrong)\n",
    "# print(fivefolds_whisper_WhisperForAudioClassification_v3_10k_2.head(20))\n",
    "fivefolds_whisper_WhisperForAudioClassification_v3_15k_3_result = fivefolds_whisper_WhisperForAudioClassification_v3_15k_3['result'].tolist()\n",
    "fivefolds_whisper_WhisperForAudioClassification_v3_15k_3_hyps = fivefolds_whisper_WhisperForAudioClassification_v3_15k_3['hyps'].tolist()\n",
    "fivefolds_whisper_WhisperForAudioClassification_v3_15k_3_truth = [int(i) for i in fivefolds_whisper_WhisperForAudioClassification_v3_15k_3['truth'].tolist()]\n",
    "print(classification_report(fivefolds_whisper_WhisperForAudioClassification_v3_15k_3_truth, fivefolds_whisper_WhisperForAudioClassification_v3_15k_3_result, target_names=target_names))\n",
    "tn, fp, fn, tp = confusion_matrix(fivefolds_whisper_WhisperForAudioClassification_v3_15k_3_truth, fivefolds_whisper_WhisperForAudioClassification_v3_15k_3_result).ravel()\n",
    "print('sensitivuty: ',tp / (fn+tp))\n",
    "print('specificity: ',tn / (fp+tn))\n",
    "fpr, tpr, thresholds = metrics.roc_curve(np.array(fivefolds_whisper_WhisperForAudioClassification_v3_15k_3_truth), np.array(fivefolds_whisper_WhisperForAudioClassification_v3_15k_3_hyps), pos_label=1)\n",
    "print('AUC: ',metrics.auc(fpr, tpr))\n",
    "y_test = [bool(int(x)) for x in fivefolds_whisper_WhisperForAudioClassification_v3_15k_3_truth]\n",
    "y_pred = [bool(int(x)) for x in fivefolds_whisper_WhisperForAudioClassification_v3_15k_3_result]\n",
    "ConfusionMatrixDisplay.from_predictions(y_test, y_pred, cmap=\"Blues\")"
   ]
  },
  {
   "cell_type": "code",
   "execution_count": 27,
   "id": "290d3937",
   "metadata": {},
   "outputs": [
    {
     "name": "stdout",
     "output_type": "stream",
     "text": [
      "                               name      hyps  truth  ifcorrect  result\n",
      "2   data_process\\CTT5-1-2\\19CTT.wav  0.616771    0.0      False       1\n",
      "5   data_process\\CTT5-1-2\\33CTT.wav  0.807344    0.0      False       1\n",
      "7   data_process\\CTT5-1-2\\35CTT.wav  0.269027    1.0      False       0\n",
      "8   data_process\\CTT5-1-2\\40CTT.wav  0.453501    1.0      False       0\n",
      "10  data_process\\CTT5-1-2\\51CTT.wav  0.521434    0.0      False       1\n",
      "11  data_process\\CTT5-1-2\\53CTT.wav  0.556264    0.0      False       1\n",
      "16  data_process\\CTT5-1-2\\85CTT.wav  0.673020    0.0      False       1\n",
      "22  data_process\\CTT5-2-2\\37CTT.wav  0.390992    1.0      False       0\n",
      "23  data_process\\CTT5-2-2\\39CTT.wav  0.301379    1.0      False       0\n",
      "24  data_process\\CTT5-2-2\\45CTT.wav  0.158306    1.0      False       0\n",
      "25  data_process\\CTT5-2-2\\46CTT.wav  0.264406    1.0      False       0\n",
      "27  data_process\\CTT5-2-2\\67CTT.wav  0.367943    1.0      False       0\n",
      "37  data_process\\CTT5-3-2\\18CTT.wav  0.203939    1.0      False       0\n",
      "39  data_process\\CTT5-3-2\\20CTT.wav  0.484374    1.0      False       0\n",
      "41  data_process\\CTT5-3-2\\32CTT.wav  0.120187    1.0      False       0\n",
      "42  data_process\\CTT5-3-2\\38CTT.wav  0.451926    1.0      False       0\n",
      "46  data_process\\CTT5-3-2\\57CTT.wav  0.060583    1.0      False       0\n",
      "59   data_process\\CTT5-4-2\\4CTT.wav  0.351330    1.0      False       0\n",
      "62  data_process\\CTT5-4-2\\63CTT.wav  0.251828    1.0      False       0\n",
      "70   data_process\\CTT5-4-2\\9CTT.wav  0.291879    1.0      False       0\n",
      "71  data_process\\CTT5-5-2\\10CTT.wav  0.457563    1.0      False       0\n",
      "75  data_process\\CTT5-5-2\\31CTT.wav  0.452234    1.0      False       0\n",
      "81  data_process\\CTT5-5-2\\69CTT.wav  0.522039    0.0      False       1\n",
      "              precision    recall  f1-score   support\n",
      "\n",
      " non-patient       0.76      0.90      0.82        60\n",
      "     patient       0.65      0.39      0.49        28\n",
      "\n",
      "    accuracy                           0.74        88\n",
      "   macro avg       0.70      0.65      0.66        88\n",
      "weighted avg       0.72      0.74      0.72        88\n",
      "\n",
      "sensitivuty:  0.39285714285714285\n",
      "specificity:  0.9\n",
      "AUC:  0.7833333333333333 0.8625 0.8333333333333334 0.9166666666666667 0.9333333333333333\n",
      "AUC_avg:  0.8658333333333335\n"
     ]
    },
    {
     "data": {
      "text/plain": [
       "<sklearn.metrics._plot.confusion_matrix.ConfusionMatrixDisplay at 0x1e456e81d30>"
      ]
     },
     "execution_count": 27,
     "metadata": {},
     "output_type": "execute_result"
    },
    {
     "data": {
      "image/png": "[encoded data removed]",
      "text/plain": [
       "<Figure size 640x480 with 2 Axes>"
      ]
     },
     "metadata": {},
     "output_type": "display_data"
    }
   ],
   "source": [
    "# with correct 5-fold-15\n",
    "fivefolds_whisper_WhisperForAudioClassification_v3_15k_2 = pd.read_csv('whisper-WhisperForAudioClassification-v3-15k_2.csv') #whisper-WhisperForAudioClassification-v3-10k_2.csv\n",
    "fivefolds_whisper_WhisperForAudioClassification_v3_15k_2['result'] = np.where(fivefolds_whisper_WhisperForAudioClassification_v3_15k_2['hyps'] >= 0.5,1,0)\n",
    "fivefolds_whisper_WhisperForAudioClassification_v3_15k_2_wrong = fivefolds_whisper_WhisperForAudioClassification_v3_15k_2.iloc[np.where(fivefolds_whisper_WhisperForAudioClassification_v3_15k_2['ifcorrect'] == False)]\n",
    "print(fivefolds_whisper_WhisperForAudioClassification_v3_15k_2_wrong)\n",
    "# print(fivefolds_whisper_WhisperForAudioClassification_v3_10k_2.head(20))\n",
    "fivefolds_whisper_WhisperForAudioClassification_v3_15k_2_result = fivefolds_whisper_WhisperForAudioClassification_v3_15k_2['result'].tolist()\n",
    "fivefolds_whisper_WhisperForAudioClassification_v3_15k_2_hyps = fivefolds_whisper_WhisperForAudioClassification_v3_15k_2['hyps'].tolist()\n",
    "fivefolds_whisper_WhisperForAudioClassification_v3_15k_2_truth = [int(i) for i in fivefolds_whisper_WhisperForAudioClassification_v3_15k_2['truth'].tolist()]\n",
    "print(classification_report(fivefolds_whisper_WhisperForAudioClassification_v3_15k_2_truth, fivefolds_whisper_WhisperForAudioClassification_v3_15k_2_result, target_names=target_names))\n",
    "\n",
    "tn, fp, fn, tp = confusion_matrix(fivefolds_whisper_WhisperForAudioClassification_v3_15k_2_truth, fivefolds_whisper_WhisperForAudioClassification_v3_15k_2_result).ravel()\n",
    "print('sensitivuty: ',tp / (fn+tp))\n",
    "print('specificity: ',tn / (fp+tn))\n",
    "\n",
    "# fpr, tpr, thresholds = metrics.roc_curve(np.array(fivefolds_whisper_WhisperForAudioClassification_v3_15k_2_truth), np.array(fivefolds_whisper_WhisperForAudioClassification_v3_15k_2_hyps), pos_label=1)\n",
    "# print('AUC: ',metrics.auc(fpr, tpr))\n",
    "fpr1, tpr1, thresholds1 = metrics.roc_curve(np.array(fivefolds_whisper_WhisperForAudioClassification_v3_15k_2_truth[0:19]), np.array(fivefolds_whisper_WhisperForAudioClassification_v3_15k_2_hyps[0:19]), pos_label=1)\n",
    "auc1 = metrics.auc(fpr1, tpr1)\n",
    "fpr2, tpr2, thresholds2 = metrics.roc_curve(np.array(fivefolds_whisper_WhisperForAudioClassification_v3_15k_2_truth[19:37]), np.array(fivefolds_whisper_WhisperForAudioClassification_v3_15k_2_hyps[19:37]), pos_label=1)\n",
    "auc2 = metrics.auc(fpr2, tpr2)\n",
    "fpr3, tpr3, thresholds3 = metrics.roc_curve(np.array(fivefolds_whisper_WhisperForAudioClassification_v3_15k_2_truth[37:54]), np.array(fivefolds_whisper_WhisperForAudioClassification_v3_15k_2_hyps[37:54]), pos_label=1)\n",
    "auc3 = metrics.auc(fpr3, tpr3)\n",
    "fpr4, tpr4, thresholds4 = metrics.roc_curve(np.array(fivefolds_whisper_WhisperForAudioClassification_v3_15k_2_truth[54:71]), np.array(fivefolds_whisper_WhisperForAudioClassification_v3_15k_2_hyps[54:71]), pos_label=1)\n",
    "auc4 = metrics.auc(fpr4, tpr4)\n",
    "fpr5, tpr5, thresholds5 = metrics.roc_curve(np.array(fivefolds_whisper_WhisperForAudioClassification_v3_15k_2_truth[71:88]), np.array(fivefolds_whisper_WhisperForAudioClassification_v3_15k_2_hyps[71:88]), pos_label=1)\n",
    "auc5 = metrics.auc(fpr5, tpr5)\n",
    "print('AUC: ', auc1, auc2, auc3, auc4, auc5)\n",
    "print(\"AUC_avg: \", (auc1+auc2+auc3+auc4+auc5)/5)\n",
    "\n",
    "y_test = [bool(int(x)) for x in fivefolds_whisper_WhisperForAudioClassification_v3_15k_2_truth]\n",
    "y_pred = [bool(int(x)) for x in fivefolds_whisper_WhisperForAudioClassification_v3_15k_2_result]\n",
    "ConfusionMatrixDisplay.from_predictions(y_test, y_pred, cmap=\"Blues\")"
   ]
  },
  {
   "cell_type": "code",
   "execution_count": 28,
   "id": "7e1ecd41",
   "metadata": {},
   "outputs": [],
   "source": [
    "# # with means() 5-fold-15\n",
    "# fivefolds_whisper_WhisperForAudioClassification_v3_15k_with30separate = pd.read_csv('whisper-WhisperForAudioClassification-v3-15k_with30separate.csv') #whisper-WhisperForAudioClassification-v3-10k_2.csv\n",
    "# fivefolds_whisper_WhisperForAudioClassification_v3_15k_with30separate['result'] = np.where(fivefolds_whisper_WhisperForAudioClassification_v3_15k_with30separate['hyps'] >= 0.5,1,0)\n",
    "# fivefolds_whisper_WhisperForAudioClassification_v3_15k_with30separate_wrong = fivefolds_whisper_WhisperForAudioClassification_v3_15k_with30separate.iloc[np.where(fivefolds_whisper_WhisperForAudioClassification_v3_15k_with30separate['ifcorrect'] == False)]\n",
    "# print(fivefolds_whisper_WhisperForAudioClassification_v3_15k_with30separate_wrong)\n",
    "# # print(fivefolds_whisper_WhisperForAudioClassification_v3_10k_2.head(20))\n",
    "# fivefolds_whisper_WhisperForAudioClassification_v3_15k_with30separate_result = fivefolds_whisper_WhisperForAudioClassification_v3_15k_with30separate['result'].tolist()\n",
    "# fivefolds_whisper_WhisperForAudioClassification_v3_15k_with30separate_hyps = fivefolds_whisper_WhisperForAudioClassification_v3_15k_with30separate['hyps'].tolist()\n",
    "# fivefolds_whisper_WhisperForAudioClassification_v3_15k_with30separate_truth = [int(i) for i in fivefolds_whisper_WhisperForAudioClassification_v3_15k_with30separate['truth'].tolist()]\n",
    "# print(classification_report(fivefolds_whisper_WhisperForAudioClassification_v3_15k_with30separate_truth, fivefolds_whisper_WhisperForAudioClassification_v3_15k_with30separate_result, target_names=target_names))\n",
    "# tn, fp, fn, tp = confusion_matrix(fivefolds_whisper_WhisperForAudioClassification_v3_15k_with30separate_truth, fivefolds_whisper_WhisperForAudioClassification_v3_15k_with30separate_result).ravel()\n",
    "# print('sensitivuty: ',tp / (fn+tp))\n",
    "# print('specificity: ',tn / (fp+tn))\n",
    "# fpr, tpr, thresholds = metrics.roc_curve(np.array(fivefolds_whisper_WhisperForAudioClassification_v3_15k_with30separate_truth), np.array(fivefolds_whisper_WhisperForAudioClassification_v3_15k_with30separate_hyps), pos_label=1)\n",
    "# print('AUC: ',metrics.auc(fpr, tpr))\n",
    "# y_test = [bool(int(x)) for x in fivefolds_whisper_WhisperForAudioClassification_v3_15k_with30separate_truth]\n",
    "# y_pred = [bool(int(x)) for x in fivefolds_whisper_WhisperForAudioClassification_v3_15k_with30separate_result]\n",
    "# ConfusionMatrixDisplay.from_predictions(y_test, y_pred, cmap=\"Blues\")"
   ]
  },
  {
   "cell_type": "markdown",
   "id": "4412940e",
   "metadata": {},
   "source": [
    "### v3 decoder"
   ]
  },
  {
   "cell_type": "code",
   "execution_count": 29,
   "id": "b940eff8",
   "metadata": {},
   "outputs": [],
   "source": [
    "# # with correct 5-fold-15\n",
    "# fivefolds_whisper_v3_15k_with_id_2 = pd.read_csv('whisper-v3-15k_with_id_2.csv')\n",
    "# fivefolds_whisper_v3_15k_with_id_2['result'] = np.where(fivefolds_whisper_v3_15k_with_id_2['hyps'] >= 0.5,1,0)\n",
    "# fivefolds_whisper_v3_15k_with_id_2_wrong = fivefolds_whisper_v3_15k_with_id_2.iloc[np.where(fivefolds_whisper_v3_15k_with_id_2['ifcorrect'] == False)]\n",
    "# print(fivefolds_whisper_v3_15k_with_id_2_wrong)\n",
    "# # print(fivefolds_whisper_v3_10k_with_id_2.head(20))\n",
    "# fivefolds_whisper_v3_15k_with_id_2_result = fivefolds_whisper_v3_15k_with_id_2['result'].tolist()\n",
    "# fivefolds_whisper_v3_15k_with_id_2_hyps = fivefolds_whisper_v3_15k_with_id_2['hyps'].tolist()\n",
    "# fivefolds_whisper_v3_15k_with_id_2_truth = [int(i) for i in fivefolds_whisper_v3_15k_with_id_2['truth'].tolist()]\n",
    "# print(classification_report(fivefolds_whisper_v3_15k_with_id_2_truth, fivefolds_whisper_v3_15k_with_id_2_result, target_names=target_names))\n",
    "# tn, fp, fn, tp = confusion_matrix(fivefolds_whisper_v3_15k_with_id_2_truth, fivefolds_whisper_v3_15k_with_id_2_result).ravel()\n",
    "# print('sensitivuty: ',tp / (fn+tp))\n",
    "# print('specificity: ',tn / (fp+tn))\n",
    "# fpr, tpr, thresholds = metrics.roc_curve(np.array(fivefolds_whisper_v3_15k_with_id_2_truth), np.array(fivefolds_whisper_v3_15k_with_id_2_hyps), pos_label=1)\n",
    "# print('AUC: ',metrics.auc(fpr, tpr))\n",
    "# y_test = [bool(int(x)) for x in fivefolds_whisper_v3_15k_with_id_2_result]\n",
    "# y_pred = [bool(int(x)) for x in fivefolds_whisper_v3_15k_with_id_2_truth]\n",
    "# ConfusionMatrixDisplay.from_predictions(y_test, y_pred, cmap=\"Blues\")"
   ]
  },
  {
   "cell_type": "markdown",
   "id": "e691d817",
   "metadata": {},
   "source": [
    "### v3 ori"
   ]
  },
  {
   "cell_type": "code",
   "execution_count": 30,
   "id": "386ae216",
   "metadata": {},
   "outputs": [],
   "source": [
    "# # with correct 5-fold-10\n",
    "# fivefolds_whisper_WhisperForAudioClassification_v3_10k_2 = pd.read_csv('whisper-WhisperForAudioClassification-2-v3-10k.csv') #whisper-WhisperForAudioClassification-v3-10k_2.csv\n",
    "# fivefolds_whisper_WhisperForAudioClassification_v3_10k_2['result'] = np.where(fivefolds_whisper_WhisperForAudioClassification_v3_10k_2['hyps'] >= 0.5,1,0)\n",
    "# fivefolds_whisper_WhisperForAudioClassification_v3_10k_2_wrong = fivefolds_whisper_WhisperForAudioClassification_v3_10k_2.iloc[np.where(fivefolds_whisper_WhisperForAudioClassification_v3_10k_2['ifcorrect'] == False)]\n",
    "# print(fivefolds_whisper_WhisperForAudioClassification_v3_10k_2_wrong)\n",
    "# # print(fivefolds_whisper_WhisperForAudioClassification_v3_10k_2.head(20))\n",
    "# fivefolds_whisper_WhisperForAudioClassification_v3_10k_2_result = fivefolds_whisper_WhisperForAudioClassification_v3_10k_2['result'].tolist()\n",
    "# fivefolds_whisper_WhisperForAudioClassification_v3_10k_2_hyps = fivefolds_whisper_WhisperForAudioClassification_v3_10k_2['hyps'].tolist()\n",
    "# fivefolds_whisper_WhisperForAudioClassification_v3_10k_2_truth = [int(i) for i in fivefolds_whisper_WhisperForAudioClassification_v3_10k_2['truth'].tolist()]\n",
    "# print(classification_report(fivefolds_whisper_WhisperForAudioClassification_v3_10k_2_truth, fivefolds_whisper_WhisperForAudioClassification_v3_10k_2_result, target_names=target_names))\n",
    "# tn, fp, fn, tp = confusion_matrix(fivefolds_whisper_WhisperForAudioClassification_v3_10k_2_truth, fivefolds_whisper_WhisperForAudioClassification_v3_10k_2_result).ravel()\n",
    "# print('sensitivuty: ',tp / (fn+tp))\n",
    "# print('specificity: ',tn / (fp+tn))\n",
    "# fpr, tpr, thresholds = metrics.roc_curve(np.array(fivefolds_whisper_WhisperForAudioClassification_v3_10k_2_truth), np.array(fivefolds_whisper_WhisperForAudioClassification_v3_10k_2_hyps), pos_label=1)\n",
    "# print('AUC: ',metrics.auc(fpr, tpr))\n",
    "# y_test = [bool(int(x)) for x in fivefolds_whisper_WhisperForAudioClassification_v3_10k_2_result]\n",
    "# y_pred = [bool(int(x)) for x in fivefolds_whisper_WhisperForAudioClassification_v3_10k_2_truth]\n",
    "# ConfusionMatrixDisplay.from_predictions(y_test, y_pred, cmap=\"Blues\")"
   ]
  },
  {
   "cell_type": "code",
   "execution_count": 31,
   "id": "24626ffc",
   "metadata": {},
   "outputs": [],
   "source": [
    "# fivefolds_whisper_WhisperForAudioClassification_v3_10k = pd.read_csv('whisper-WhisperForAudioClassification-v3-10k.csv')\n",
    "# fivefolds_whisper_WhisperForAudioClassification_v3_10k['result'] = np.where(fivefolds_whisper_WhisperForAudioClassification_v3_10k['hyps'] >= 0.5,1,0)\n",
    "# fivefolds_whisper_WhisperForAudioClassification_v3_10k_wrong = fivefolds_whisper_WhisperForAudioClassification_v3_10k.iloc[np.where(fivefolds_whisper_WhisperForAudioClassification_v3_10k['ifcorrect'] == False)]\n",
    "# print(fivefolds_whisper_WhisperForAudioClassification_v3_10k_wrong)\n",
    "# # print(fivefolds_whisper_WhisperForAudioClassification_v3_10k.head(20))\n",
    "# fivefolds_whisper_WhisperForAudioClassification_v3_10k_result = fivefolds_whisper_WhisperForAudioClassification_v3_10k['result'].tolist()\n",
    "# fivefolds_whisper_WhisperForAudioClassification_v3_10k_hyps = fivefolds_whisper_WhisperForAudioClassification_v3_10k['hyps'].tolist()\n",
    "# fivefolds_whisper_WhisperForAudioClassification_v3_10k_truth = [int(i) for i in fivefolds_whisper_WhisperForAudioClassification_v3_10k['truth'].tolist()]\n",
    "# print(classification_report(fivefolds_whisper_WhisperForAudioClassification_v3_10k_truth, fivefolds_whisper_WhisperForAudioClassification_v3_10k_result, target_names=target_names))\n",
    "# tn, fp, fn, tp = confusion_matrix(fivefolds_whisper_WhisperForAudioClassification_v3_10k_truth, fivefolds_whisper_WhisperForAudioClassification_v3_10k_result).ravel()\n",
    "# print('sensitivuty: ',tp / (fn+tp))\n",
    "# print('specificity: ',tn / (fp+tn))\n",
    "# fpr, tpr, thresholds = metrics.roc_curve(np.array(fivefolds_whisper_WhisperForAudioClassification_v3_10k_truth), np.array(fivefolds_whisper_WhisperForAudioClassification_v3_10k_hyps), pos_label=1)\n",
    "# print('AUC: ',metrics.auc(fpr, tpr))\n",
    "# y_test = [bool(int(x)) for x in fivefolds_whisper_WhisperForAudioClassification_v3_10k_result]\n",
    "# y_pred = [bool(int(x)) for x in fivefolds_whisper_WhisperForAudioClassification_v3_10k_truth]\n",
    "# ConfusionMatrixDisplay.from_predictions(y_test, y_pred, cmap=\"Blues\")"
   ]
  },
  {
   "cell_type": "code",
   "execution_count": 32,
   "id": "e63a55c1",
   "metadata": {},
   "outputs": [],
   "source": [
    "# # with correct 5-fold-10\n",
    "# fivefolds_whisper_v3_10k_with_id_2 = pd.read_csv('whisper-v3-10k_with_id_2.csv')\n",
    "# fivefolds_whisper_v3_10k_with_id_2['result'] = np.where(fivefolds_whisper_v3_10k_with_id_2['hyps'] >= 0.5,1,0)\n",
    "# fivefolds_whisper_v3_10k_with_id_2_wrong = fivefolds_whisper_v3_10k_with_id_2.iloc[np.where(fivefolds_whisper_v3_10k_with_id_2['ifcorrect'] == False)]\n",
    "# print(fivefolds_whisper_v3_10k_with_id_2_wrong)\n",
    "# # print(fivefolds_whisper_v3_10k_with_id_2.head(20))\n",
    "# fivefolds_whisper_v3_10k_with_id_2_result = fivefolds_whisper_v3_10k_with_id_2['result'].tolist()\n",
    "# fivefolds_whisper_v3_10k_with_id_2_hyps = fivefolds_whisper_v3_10k_with_id_2['hyps'].tolist()\n",
    "# fivefolds_whisper_v3_10k_with_id_2_truth = [int(i) for i in fivefolds_whisper_v3_10k_with_id_2['truth'].tolist()]\n",
    "# print(classification_report(fivefolds_whisper_v3_10k_with_id_2_truth, fivefolds_whisper_v3_10k_with_id_2_result, target_names=target_names))\n",
    "# tn, fp, fn, tp = confusion_matrix(fivefolds_whisper_v3_10k_with_id_2_truth, fivefolds_whisper_v3_10k_with_id_2_result).ravel()\n",
    "# print('sensitivuty: ',tp / (fn+tp))\n",
    "# print('specificity: ',tn / (fp+tn))\n",
    "# fpr, tpr, thresholds = metrics.roc_curve(np.array(fivefolds_whisper_v3_10k_with_id_2_truth), np.array(fivefolds_whisper_v3_10k_with_id_2_hyps), pos_label=1)\n",
    "# print('AUC: ',metrics.auc(fpr, tpr))\n",
    "# y_test = [bool(int(x)) for x in fivefolds_whisper_v3_10k_with_id_2_result]\n",
    "# y_pred = [bool(int(x)) for x in fivefolds_whisper_v3_10k_with_id_2_truth]\n",
    "# ConfusionMatrixDisplay.from_predictions(y_test, y_pred, cmap=\"Blues\")"
   ]
  },
  {
   "cell_type": "code",
   "execution_count": 33,
   "id": "44b4198d",
   "metadata": {},
   "outputs": [],
   "source": [
    "# fivefolds_whisper_v3_10k_with_id = pd.read_csv('whisper-v3-10k_with_id.csv')\n",
    "# fivefolds_whisper_v3_10k_with_id['result'] = np.where(fivefolds_whisper_v3_10k_with_id['hyps'] >= 0.5,1,0)\n",
    "# fivefolds_whisper_v3_10k_with_id_wrong = fivefolds_whisper_v3_10k_with_id.iloc[np.where(fivefolds_whisper_v3_10k_with_id['ifcorrect'] == False)]\n",
    "# print(fivefolds_whisper_v3_10k_with_id_wrong)\n",
    "# # print(fivefolds_whisper_v3_10k_with_id.head(20))\n",
    "# fivefolds_whisper_v3_10k_with_id_result = fivefolds_whisper_v3_10k_with_id['result'].tolist()\n",
    "# fivefolds_whisper_v3_10k_with_id_hyps = fivefolds_whisper_v3_10k_with_id['hyps'].tolist()\n",
    "# fivefolds_whisper_v3_10k_with_id_truth = [int(i) for i in fivefolds_whisper_v3_10k_with_id['truth'].tolist()]\n",
    "# print(classification_report(fivefolds_whisper_v3_10k_with_id_truth, fivefolds_whisper_v3_10k_with_id_result, target_names=target_names))\n",
    "# tn, fp, fn, tp = confusion_matrix(fivefolds_whisper_v3_10k_with_id_truth, fivefolds_whisper_v3_10k_with_id_result).ravel()\n",
    "# print('sensitivuty: ',tp / (fn+tp))\n",
    "# print('specificity: ',tn / (fp+tn))\n",
    "# fpr, tpr, thresholds = metrics.roc_curve(np.array(fivefolds_whisper_v3_10k_with_id_truth), np.array(fivefolds_whisper_v3_10k_with_id_hyps), pos_label=1)\n",
    "# print('AUC: ',metrics.auc(fpr, tpr))\n",
    "# y_test = [bool(int(x)) for x in fivefolds_whisper_v3_10k_with_id_result]\n",
    "# y_pred = [bool(int(x)) for x in fivefolds_whisper_v3_10k_with_id_truth]\n",
    "# ConfusionMatrixDisplay.from_predictions(y_test, y_pred, cmap=\"Blues\")"
   ]
  },
  {
   "cell_type": "code",
   "execution_count": 34,
   "id": "closed-tennis",
   "metadata": {},
   "outputs": [],
   "source": [
    "# fivefolds_whisper_v3_10k = pd.read_csv('whisper-v3-10k.csv')\n",
    "# fivefolds_whisper_v3_10k['result'] = np.where(fivefolds_whisper_v3_10k['hyps'] >= 0.5,1,0)\n",
    "# fivefolds_whisper_v3_10k_wrong = fivefolds_whisper_v3_10k.iloc[np.where(fivefolds_whisper_v3_10k['ifcorrect'] == False)]\n",
    "# print(fivefolds_whisper_v3_10k_wrong)\n",
    "# # print(fivefolds_whisper_v3_10k.head(20))\n",
    "# fivefolds_whisper_v3_10k_result = fivefolds_whisper_v3_10k['result'].tolist()\n",
    "# fivefolds_whisper_v3_10k_hyps = fivefolds_whisper_v3_10k['hyps'].tolist()\n",
    "# fivefolds_whisper_v3_10k_truth = [int(i) for i in fivefolds_whisper_v3_10k['truth'].tolist()]\n",
    "# print(classification_report(fivefolds_whisper_v3_10k_truth, fivefolds_whisper_v3_10k_result, target_names=target_names))\n",
    "# tn, fp, fn, tp = confusion_matrix(fivefolds_whisper_v3_10k_truth, fivefolds_whisper_v3_10k_result).ravel()\n",
    "# print('sensitivuty: ',tp / (fn+tp))\n",
    "# print('specificity: ',tn / (fp+tn))\n",
    "# fpr, tpr, thresholds = metrics.roc_curve(np.array(fivefolds_whisper_v3_10k_truth), np.array(fivefolds_whisper_v3_10k_hyps), pos_label=1)\n",
    "# print('AUC: ',metrics.auc(fpr, tpr))"
   ]
  },
  {
   "cell_type": "code",
   "execution_count": 35,
   "id": "ahead-injection",
   "metadata": {},
   "outputs": [],
   "source": [
    "# fivefolds_with30_10k = pd.read_csv('whisper-with30-10k.csv')\n",
    "# fivefolds_with30_10k['result'] = np.where(fivefolds_with30_10k['hyps'] >= 0.5,1,0)\n",
    "# fivefolds_with30_10k_wrong = fivefolds_with30_10k.iloc[np.where(fivefolds_with30_10k['ifcorrect'] == False)]\n",
    "# print(fivefolds_with30_10k_wrong)\n",
    "# # print(fivefolds_with30_10k.head(20))\n",
    "# fivefolds_with30_10k_result = fivefolds_with30_10k['result'].tolist()\n",
    "# fivefolds_with30_10k_hyps = fivefolds_with30_10k['hyps'].tolist()\n",
    "# fivefolds_with30_10k_truth = [int(i) for i in fivefolds_with30_10k['truth'].tolist()]\n",
    "# print(classification_report(fivefolds_with30_10k_truth, fivefolds_with30_10k_result, target_names=target_names))\n",
    "# tn, fp, fn, tp = confusion_matrix(fivefolds_with30_10k_truth, fivefolds_with30_10k_result).ravel()\n",
    "# print('sensitivuty: ',tp / (fn+tp))\n",
    "# print('specificity: ',tn / (fp+tn))\n",
    "# fpr, tpr, thresholds = metrics.roc_curve(np.array(fivefolds_with30_10k_truth), np.array(fivefolds_with30_10k_hyps), pos_label=1)\n",
    "# print('AUC: ',metrics.auc(fpr, tpr))"
   ]
  },
  {
   "cell_type": "code",
   "execution_count": 36,
   "id": "aggressive-sitting",
   "metadata": {},
   "outputs": [],
   "source": [
    "# fivefolds_with30separate0_10k = pd.read_csv('whisper-with30separate0-10k.csv')\n",
    "# fivefolds_with30separate0_10k['result'] = np.where(fivefolds_with30separate0_10k['hyps'] >= 0.5,1,0)\n",
    "# fivefolds_with30separate0_wrong = fivefolds_with30separate0_10k.iloc[np.where(fivefolds_with30separate0_10k['ifcorrect'] == False)]\n",
    "# print(fivefolds_with30separate0_wrong)\n",
    "# # print(fivefolds_with30separate0_10k.head(20))\n",
    "# fivefolds_with30separate0_result = fivefolds_with30separate0_10k['result'].tolist()\n",
    "# fivefolds_with30separate0_hyps = fivefolds_with30separate0_10k['hyps'].tolist()\n",
    "# fivefolds_with30separate0_truth = [int(i) for i in fivefolds_with30separate0_10k['truth'].tolist()]\n",
    "# print(classification_report(fivefolds_with30separate0_truth, fivefolds_with30separate0_result, target_names=target_names))\n",
    "# tn, fp, fn, tp = confusion_matrix(fivefolds_with30separate0_truth, fivefolds_with30separate0_result).ravel()\n",
    "# print('sensitivuty: ',tp / (fn+tp))\n",
    "# print('specificity: ',tn / (fp+tn))\n",
    "# fpr, tpr, thresholds = metrics.roc_curve(np.array(fivefolds_with30separate0_truth), np.array(fivefolds_with30separate0_hyps), pos_label=1)\n",
    "# print('AUC: ',metrics.auc(fpr, tpr))"
   ]
  },
  {
   "cell_type": "code",
   "execution_count": 37,
   "id": "protective-brand",
   "metadata": {},
   "outputs": [],
   "source": [
    "# fivefolds_with30separate_10k = pd.read_csv('whisper-with30separate-10k.csv')\n",
    "# fivefolds_with30separate_10k['result'] = np.where(fivefolds_with30separate_10k['hyps'] >= 0.5,1,0)\n",
    "# fivefolds_with30separate_wrong = fivefolds_with30separate_10k.iloc[np.where(fivefolds_with30separate_10k['ifcorrect'] == False)]\n",
    "# print(fivefolds_with30separate_wrong)\n",
    "# # print(fivefolds_with30separate_10k.head(20))\n",
    "# fivefolds_with30separate_result = fivefolds_with30separate_10k['result'].tolist()\n",
    "# fivefolds_with30separate_hyps = fivefolds_with30separate_10k['hyps'].tolist()\n",
    "# fivefolds_with30separate_truth = [int(i) for i in fivefolds_with30separate_10k['truth'].tolist()]\n",
    "# print(classification_report(fivefolds_with30separate_truth, fivefolds_with30separate_result, target_names=target_names))\n",
    "# tn, fp, fn, tp = confusion_matrix(fivefolds_with30separate_truth, fivefolds_with30separate_result).ravel()\n",
    "# print('sensitivuty: ',tp / (fn+tp))\n",
    "# print('specificity: ',tn / (fp+tn))\n",
    "# fpr, tpr, thresholds = metrics.roc_curve(np.array(fivefolds_with30separate_truth), np.array(fivefolds_with30separate_hyps), pos_label=1)\n",
    "# print('AUC: ',metrics.auc(fpr, tpr))"
   ]
  },
  {
   "cell_type": "code",
   "execution_count": 38,
   "metadata": {},
   "outputs": [],
   "source": [
    "# fivefolds_with30separate_10k = pd.read_csv('whisper-with30separate-10k.csv')\n",
    "# result = np.where(fivefolds_with30separate_10k['hyps'] >= 0.5,1,0)\n",
    "# name = fivefolds_with30separate_10k['name'].values.tolist()\n",
    "# truth = fivefolds_with30separate_10k['truth'].values.tolist()\n",
    "# allresult = np.full([100, 7], np.nan)\n",
    "# major = np.zeros([100, 3])\n",
    "# majorvote = np.zeros([100, 3])\n",
    "# correct = 0\n",
    "\n",
    "# for i in range(len(name)):\n",
    "#     file = int(name[i].split('\\\\')[-1].split('C')[0])\n",
    "#     idx = int(name[i].split('\\\\')[-1].split('_')[1])\n",
    "#     allresult[file-1][0] = file\n",
    "#     allresult[file-1][idx] = result[i]\n",
    "#     major[file-1][int(result[i])] += 1\n",
    "#     major[file-1][2] = truth[i]\n",
    "\n",
    "# for i in range(len(major)):\n",
    "#     if(i != 23 and i != 26 and i != 27 and i != 36 and i != 41 and i != 48 and i != 49 and i != 59 and i != 60 and i != 61 and i != 62 and i != 66):\n",
    "#         majorvote[i][0] = i+1\n",
    "#         majorvote[i][1] = 0 if (major[i][0] >= major[i][1]) else 1\n",
    "#         majorvote[i][2] = major[i][2]\n",
    "#         if(majorvote[i][1] == majorvote[i][2]): \n",
    "#             correct += 1\n",
    "\n",
    "# print(correct, 88, correct/88)\n",
    "# allresult_df = pd.DataFrame(allresult)\n",
    "# allresult_df.to_csv(f'whisper-with30separate_allresult.csv', index=False) "
   ]
  },
  {
   "cell_type": "code",
   "execution_count": 39,
   "id": "edb3637e",
   "metadata": {},
   "outputs": [],
   "source": [
    "# fivefolds_with2separate_10k = pd.read_csv('whisper-with2separate-10k.csv')\n",
    "# fivefolds_with2separate_10k['result'] = np.where(fivefolds_with2separate_10k['hyps'] >= 0.5,1,0)\n",
    "# fivefolds_with2separate_wrong = fivefolds_with2separate_10k.iloc[np.where(fivefolds_with2separate_10k['ifcorrect'] == False)]\n",
    "# print(fivefolds_with2separate_wrong)\n",
    "# # print(fivefolds_with2separate_10k.head(20))\n",
    "# fivefolds_with2separate_result = fivefolds_with2separate_10k['result'].tolist()\n",
    "# fivefolds_with2separate_hyps = fivefolds_with2separate_10k['hyps'].tolist()\n",
    "# fivefolds_with2separate_truth = [int(i) for i in fivefolds_with2separate_10k['truth'].tolist()]\n",
    "# print(classification_report(fivefolds_with2separate_truth, fivefolds_with2separate_result, target_names=target_names))\n",
    "# tn, fp, fn, tp = confusion_matrix(fivefolds_with2separate_truth, fivefolds_with2separate_result).ravel()\n",
    "# print('sensitivuty: ',tp / (fn+tp))\n",
    "# print('specificity: ',tn / (fp+tn))\n",
    "# fpr, tpr, thresholds = metrics.roc_curve(np.array(fivefolds_with2separate_truth), np.array(fivefolds_with2separate_hyps), pos_label=1)\n",
    "# print('AUC: ',metrics.auc(fpr, tpr))"
   ]
  },
  {
   "cell_type": "code",
   "execution_count": 40,
   "id": "db3582d6",
   "metadata": {},
   "outputs": [],
   "source": [
    "# fivefolds_with2separate_10k = pd.read_csv('whisper-with2separate-10k.csv')\n",
    "# result = np.where(fivefolds_with2separate_10k['hyps'] >= 0.5,1,0)\n",
    "# name = fivefolds_with2separate_10k['name'].values.tolist()\n",
    "# truth = fivefolds_with2separate_10k['truth'].values.tolist()\n",
    "# allresult = np.full([100, 105], np.nan)\n",
    "# major = np.zeros([100, 3])\n",
    "# majorvote = np.zeros([100, 3])\n",
    "# correct = 0\n",
    "\n",
    "# for i in range(len(name)):\n",
    "#     file = int(name[i].split('\\\\')[-1].split('C')[0])\n",
    "#     idx = int(name[i].split('\\\\')[-1].split('_')[1])\n",
    "#     allresult[file-1][0] = file\n",
    "#     allresult[file-1][idx] = result[i]\n",
    "#     major[file-1][int(result[i])] += 1\n",
    "#     major[file-1][2] = truth[i]\n",
    "\n",
    "# for i in range(len(major)):\n",
    "#     if(i != 23 and i != 26 and i != 27 and i != 36 and i != 41 and i != 48 and i != 49 and i != 59 and i != 60 and i != 61 and i != 62 and i != 66):\n",
    "#         majorvote[i][0] = i+1\n",
    "#         majorvote[i][1] = 0 if (major[i][0] >= major[i][1]) else 1\n",
    "#         majorvote[i][2] = major[i][2]\n",
    "#         if(majorvote[i][1] == majorvote[i][2]): \n",
    "#             correct += 1\n",
    "\n",
    "# print(correct, 88, correct/88)\n",
    "# allresult_df = pd.DataFrame(allresult)\n",
    "# allresult_df.to_csv(f'whisper-with2separate_allresult.csv', index=False) "
   ]
  },
  {
   "cell_type": "code",
   "execution_count": 41,
   "id": "d0d67285",
   "metadata": {},
   "outputs": [],
   "source": [
    "# fivefolds_with10separate_10k = pd.read_csv('whisper-with10separate-10k.csv')\n",
    "# fivefolds_with10separate_10k['result'] = np.where(fivefolds_with10separate_10k['hyps'] >= 0.5,1,0)\n",
    "# fivefolds_with10separate_wrong = fivefolds_with10separate_10k.iloc[np.where(fivefolds_with10separate_10k['ifcorrect'] == False)]\n",
    "# print(fivefolds_with10separate_wrong)\n",
    "# # print(fivefolds_with10separate_10k.head(20))\n",
    "# fivefolds_with10separate_result = fivefolds_with10separate_10k['result'].tolist()\n",
    "# fivefolds_with10separate_hyps = fivefolds_with10separate_10k['hyps'].tolist()\n",
    "# fivefolds_with10separate_truth = [int(i) for i in fivefolds_with10separate_10k['truth'].tolist()]\n",
    "# print(classification_report(fivefolds_with10separate_truth, fivefolds_with10separate_result, target_names=target_names))\n",
    "# tn, fp, fn, tp = confusion_matrix(fivefolds_with10separate_truth, fivefolds_with10separate_result).ravel()\n",
    "# print('sensitivuty: ',tp / (fn+tp))\n",
    "# print('specificity: ',tn / (fp+tn))\n",
    "# fpr, tpr, thresholds = metrics.roc_curve(np.array(fivefolds_with10separate_truth), np.array(fivefolds_with10separate_hyps), pos_label=1)\n",
    "# print('AUC: ',metrics.auc(fpr, tpr))"
   ]
  },
  {
   "cell_type": "markdown",
   "id": "18a54bb9",
   "metadata": {},
   "source": [
    "### segment"
   ]
  },
  {
   "cell_type": "code",
   "execution_count": 42,
   "id": "30dbf67e",
   "metadata": {},
   "outputs": [
    {
     "name": "stdout",
     "output_type": "stream",
     "text": [
      "65 88 0.7386363636363636\n"
     ]
    },
    {
     "data": {
      "text/html": [
       "<div>\n",
       "<style scoped>\n",
       "    .dataframe tbody tr th:only-of-type {\n",
       "        vertical-align: middle;\n",
       "    }\n",
       "\n",
       "    .dataframe tbody tr th {\n",
       "        vertical-align: top;\n",
       "    }\n",
       "\n",
       "    .dataframe thead th {\n",
       "        text-align: right;\n",
       "    }\n",
       "</style>\n",
       "<table border=\"1\" class=\"dataframe\">\n",
       "  <thead>\n",
       "    <tr style=\"text-align: right;\">\n",
       "      <th></th>\n",
       "      <th>result</th>\n",
       "      <th>truth</th>\n",
       "    </tr>\n",
       "  </thead>\n",
       "  <tbody>\n",
       "    <tr>\n",
       "      <th>0</th>\n",
       "      <td>0.0</td>\n",
       "      <td>0.0</td>\n",
       "    </tr>\n",
       "    <tr>\n",
       "      <th>1</th>\n",
       "      <td>0.0</td>\n",
       "      <td>0.0</td>\n",
       "    </tr>\n",
       "    <tr>\n",
       "      <th>2</th>\n",
       "      <td>0.0</td>\n",
       "      <td>0.0</td>\n",
       "    </tr>\n",
       "    <tr>\n",
       "      <th>3</th>\n",
       "      <td>0.0</td>\n",
       "      <td>1.0</td>\n",
       "    </tr>\n",
       "    <tr>\n",
       "      <th>4</th>\n",
       "      <td>0.0</td>\n",
       "      <td>1.0</td>\n",
       "    </tr>\n",
       "    <tr>\n",
       "      <th>...</th>\n",
       "      <td>...</td>\n",
       "      <td>...</td>\n",
       "    </tr>\n",
       "    <tr>\n",
       "      <th>95</th>\n",
       "      <td>0.0</td>\n",
       "      <td>0.0</td>\n",
       "    </tr>\n",
       "    <tr>\n",
       "      <th>96</th>\n",
       "      <td>0.0</td>\n",
       "      <td>0.0</td>\n",
       "    </tr>\n",
       "    <tr>\n",
       "      <th>97</th>\n",
       "      <td>0.0</td>\n",
       "      <td>0.0</td>\n",
       "    </tr>\n",
       "    <tr>\n",
       "      <th>98</th>\n",
       "      <td>0.0</td>\n",
       "      <td>0.0</td>\n",
       "    </tr>\n",
       "    <tr>\n",
       "      <th>99</th>\n",
       "      <td>0.0</td>\n",
       "      <td>0.0</td>\n",
       "    </tr>\n",
       "  </tbody>\n",
       "</table>\n",
       "<p>88 rows × 2 columns</p>\n",
       "</div>"
      ],
      "text/plain": [
       "    result  truth\n",
       "0      0.0    0.0\n",
       "1      0.0    0.0\n",
       "2      0.0    0.0\n",
       "3      0.0    1.0\n",
       "4      0.0    1.0\n",
       "..     ...    ...\n",
       "95     0.0    0.0\n",
       "96     0.0    0.0\n",
       "97     0.0    0.0\n",
       "98     0.0    0.0\n",
       "99     0.0    0.0\n",
       "\n",
       "[88 rows x 2 columns]"
      ]
     },
     "execution_count": 42,
     "metadata": {},
     "output_type": "execute_result"
    }
   ],
   "source": [
    "fivefolds_whisper_WhisperForAudioClassification_v2_15k_with30separate = pd.read_csv('whisper-WhisperForAudioClassification-v2-15k_with30separate.csv')\n",
    "result = np.where(fivefolds_whisper_WhisperForAudioClassification_v2_15k_with30separate['hyps'] >= 0.5,1,0)\n",
    "name = fivefolds_whisper_WhisperForAudioClassification_v2_15k_with30separate['name'].values.tolist()\n",
    "truth = fivefolds_whisper_WhisperForAudioClassification_v2_15k_with30separate['truth'].values.tolist()\n",
    "allresult = np.full([100, 105], np.nan)\n",
    "major = np.zeros([100, 3])\n",
    "majorvote = np.zeros([100, 3])\n",
    "correct = 0\n",
    "\n",
    "for i in range(len(name)):\n",
    "    file = int(name[i].split('\\\\')[-1].split('C')[0])\n",
    "    idx = int(name[i].split('\\\\')[-1].split('_')[1].split('.')[0])\n",
    "    allresult[file-1][0] = file\n",
    "    allresult[file-1][idx] = result[i]\n",
    "    major[file-1][int(result[i])] += 1\n",
    "    major[file-1][2] = truth[i]\n",
    "\n",
    "for i in range(len(major)):\n",
    "    if(i != 23 and i != 26 and i != 27 and i != 36 and i != 41 and i != 48 and i != 49 and i != 59 and i != 60 and i != 61 and i != 62 and i != 66):\n",
    "        majorvote[i][0] = i+1\n",
    "        majorvote[i][1] = 0 if (major[i][0] >= major[i][1]) else 1\n",
    "        majorvote[i][2] = major[i][2]\n",
    "        if(majorvote[i][1] == majorvote[i][2]): \n",
    "            correct += 1\n",
    "\n",
    "print(correct, 88, correct/88)\n",
    "fivefolds_whisper_WhisperForAudioClassification_v2_15k_with30separate_allresult_df = pd.DataFrame(allresult)\n",
    "fivefolds_whisper_WhisperForAudioClassification_v2_15k_with30separate_allresult_df.to_csv(f'whisper-with10separate_allresult.csv', index=False) \n",
    "fivefolds_whisper_WhisperForAudioClassification_v2_15k_with30separate_finalresult_df = pd.DataFrame(majorvote, columns=['name', 'result', 'truth'])\n",
    "fivefolds_whisper_WhisperForAudioClassification_v2_15k_with30separate_finalresult_df.to_csv(f'whisper-with10separate_finalresult.csv', index=False) \n",
    "fivefolds_whisper_WhisperForAudioClassification_v2_15k_with30separate_finalresult_df = fivefolds_whisper_WhisperForAudioClassification_v2_15k_with30separate_finalresult_df.drop(['name'], axis=1)\n",
    "fivefolds_whisper_WhisperForAudioClassification_v2_15k_with30separate_finalresult_df = fivefolds_whisper_WhisperForAudioClassification_v2_15k_with30separate_finalresult_df.drop([22, 25, 26, 35, 40, 47, 48, 58, 59, 60, 61, 65], axis=0)\n",
    "fivefolds_whisper_WhisperForAudioClassification_v2_15k_with30separate_finalresult_df"
   ]
  },
  {
   "cell_type": "code",
   "execution_count": 43,
   "id": "3eb7554a",
   "metadata": {},
   "outputs": [
    {
     "name": "stdout",
     "output_type": "stream",
     "text": [
      "    result  truth\n",
      "3      0.0    1.0\n",
      "4      0.0    1.0\n",
      "8      0.0    1.0\n",
      "9      0.0    1.0\n",
      "10     0.0    1.0\n",
      "11     0.0    1.0\n",
      "17     0.0    1.0\n",
      "18     1.0    0.0\n",
      "19     0.0    1.0\n",
      "24     0.0    1.0\n",
      "30     0.0    1.0\n",
      "31     0.0    1.0\n",
      "32     1.0    0.0\n",
      "34     0.0    1.0\n",
      "37     0.0    1.0\n",
      "38     0.0    1.0\n",
      "44     0.0    1.0\n",
      "45     0.0    1.0\n",
      "50     1.0    0.0\n",
      "56     0.0    1.0\n",
      "57     0.0    1.0\n",
      "64     0.0    1.0\n",
      "84     1.0    0.0\n",
      "              precision    recall  f1-score   support\n",
      "\n",
      " non-patient       0.76      0.94      0.84        65\n",
      "     patient       0.50      0.17      0.26        23\n",
      "\n",
      "    accuracy                           0.74        88\n",
      "   macro avg       0.63      0.56      0.55        88\n",
      "weighted avg       0.69      0.74      0.69        88\n",
      "\n",
      "sensitivuty:  0.17391304347826086\n",
      "specificity:  0.9384615384615385\n"
     ]
    },
    {
     "data": {
      "text/plain": [
       "<sklearn.metrics._plot.confusion_matrix.ConfusionMatrixDisplay at 0x1e456e84d60>"
      ]
     },
     "execution_count": 43,
     "metadata": {},
     "output_type": "execute_result"
    },
    {
     "data": {
      "image/png": "[encoded data removed]",
      "text/plain": [
       "<Figure size 640x480 with 2 Axes>"
      ]
     },
     "metadata": {},
     "output_type": "display_data"
    }
   ],
   "source": [
    "fivefolds_whisper_WhisperForAudioClassification_v2_15k_with30separate_result = fivefolds_whisper_WhisperForAudioClassification_v2_15k_with30separate_finalresult_df['result']\n",
    "fivefolds_whisper_WhisperForAudioClassification_v2_15k_with30separate_truth = fivefolds_whisper_WhisperForAudioClassification_v2_15k_with30separate_finalresult_df['truth']\n",
    "fivefolds_whisper_WhisperForAudioClassification_v2_15k_with30separate_wrong = fivefolds_whisper_WhisperForAudioClassification_v2_15k_with30separate_finalresult_df.iloc[np.where(fivefolds_whisper_WhisperForAudioClassification_v2_15k_with30separate_finalresult_df['result'] != fivefolds_whisper_WhisperForAudioClassification_v2_15k_with30separate_finalresult_df['truth'])]\n",
    "print(fivefolds_whisper_WhisperForAudioClassification_v2_15k_with30separate_wrong)\n",
    "clf_report  = classification_report(fivefolds_whisper_WhisperForAudioClassification_v2_15k_with30separate_truth, fivefolds_whisper_WhisperForAudioClassification_v2_15k_with30separate_result, target_names=target_names)\n",
    "print(clf_report)\n",
    "tn, fp, fn, tp = confusion_matrix(fivefolds_whisper_WhisperForAudioClassification_v2_15k_with30separate_truth, fivefolds_whisper_WhisperForAudioClassification_v2_15k_with30separate_result).ravel()\n",
    "print('sensitivuty: ',tp / (fn+tp))\n",
    "print('specificity: ',tn / (fp+tn))\n",
    "# fpr, tpr, thresholds = metrics.roc_curve(np.array(fivefolds_with10separate_truth), np.array(fivefolds_with10separate_hyps), pos_label=1)\n",
    "# print('AUC: ',metrics.auc(fpr, tpr))\n",
    "\n",
    "y_test = [bool(int(x)) for x in fivefolds_whisper_WhisperForAudioClassification_v2_15k_with30separate_result]\n",
    "y_pred = [bool(int(x)) for x in fivefolds_whisper_WhisperForAudioClassification_v2_15k_with30separate_truth]\n",
    "ConfusionMatrixDisplay.from_predictions(y_test, y_pred, cmap=\"Blues\")"
   ]
  },
  {
   "cell_type": "code",
   "execution_count": 44,
   "id": "84b31465",
   "metadata": {},
   "outputs": [
    {
     "name": "stdout",
     "output_type": "stream",
     "text": [
      "67 88 0.7613636363636364\n"
     ]
    },
    {
     "data": {
      "text/html": [
       "<div>\n",
       "<style scoped>\n",
       "    .dataframe tbody tr th:only-of-type {\n",
       "        vertical-align: middle;\n",
       "    }\n",
       "\n",
       "    .dataframe tbody tr th {\n",
       "        vertical-align: top;\n",
       "    }\n",
       "\n",
       "    .dataframe thead th {\n",
       "        text-align: right;\n",
       "    }\n",
       "</style>\n",
       "<table border=\"1\" class=\"dataframe\">\n",
       "  <thead>\n",
       "    <tr style=\"text-align: right;\">\n",
       "      <th></th>\n",
       "      <th>result</th>\n",
       "      <th>truth</th>\n",
       "    </tr>\n",
       "  </thead>\n",
       "  <tbody>\n",
       "    <tr>\n",
       "      <th>0</th>\n",
       "      <td>0.0</td>\n",
       "      <td>0.0</td>\n",
       "    </tr>\n",
       "    <tr>\n",
       "      <th>1</th>\n",
       "      <td>0.0</td>\n",
       "      <td>0.0</td>\n",
       "    </tr>\n",
       "    <tr>\n",
       "      <th>2</th>\n",
       "      <td>0.0</td>\n",
       "      <td>0.0</td>\n",
       "    </tr>\n",
       "    <tr>\n",
       "      <th>3</th>\n",
       "      <td>0.0</td>\n",
       "      <td>1.0</td>\n",
       "    </tr>\n",
       "    <tr>\n",
       "      <th>4</th>\n",
       "      <td>0.0</td>\n",
       "      <td>1.0</td>\n",
       "    </tr>\n",
       "    <tr>\n",
       "      <th>...</th>\n",
       "      <td>...</td>\n",
       "      <td>...</td>\n",
       "    </tr>\n",
       "    <tr>\n",
       "      <th>95</th>\n",
       "      <td>0.0</td>\n",
       "      <td>0.0</td>\n",
       "    </tr>\n",
       "    <tr>\n",
       "      <th>96</th>\n",
       "      <td>0.0</td>\n",
       "      <td>0.0</td>\n",
       "    </tr>\n",
       "    <tr>\n",
       "      <th>97</th>\n",
       "      <td>0.0</td>\n",
       "      <td>0.0</td>\n",
       "    </tr>\n",
       "    <tr>\n",
       "      <th>98</th>\n",
       "      <td>0.0</td>\n",
       "      <td>0.0</td>\n",
       "    </tr>\n",
       "    <tr>\n",
       "      <th>99</th>\n",
       "      <td>0.0</td>\n",
       "      <td>0.0</td>\n",
       "    </tr>\n",
       "  </tbody>\n",
       "</table>\n",
       "<p>88 rows × 2 columns</p>\n",
       "</div>"
      ],
      "text/plain": [
       "    result  truth\n",
       "0      0.0    0.0\n",
       "1      0.0    0.0\n",
       "2      0.0    0.0\n",
       "3      0.0    1.0\n",
       "4      0.0    1.0\n",
       "..     ...    ...\n",
       "95     0.0    0.0\n",
       "96     0.0    0.0\n",
       "97     0.0    0.0\n",
       "98     0.0    0.0\n",
       "99     0.0    0.0\n",
       "\n",
       "[88 rows x 2 columns]"
      ]
     },
     "execution_count": 44,
     "metadata": {},
     "output_type": "execute_result"
    }
   ],
   "source": [
    "fivefolds_whisper_WhisperForAudioClassification_v3_15k_with30separate = pd.read_csv('whisper-WhisperForAudioClassification-v3-15k_with30separate.csv')\n",
    "result = np.where(fivefolds_whisper_WhisperForAudioClassification_v3_15k_with30separate['hyps'] >= 0.5,1,0)\n",
    "name = fivefolds_whisper_WhisperForAudioClassification_v3_15k_with30separate['name'].values.tolist()\n",
    "truth = fivefolds_whisper_WhisperForAudioClassification_v3_15k_with30separate['truth'].values.tolist()\n",
    "allresult = np.full([100, 105], np.nan)\n",
    "major = np.zeros([100, 3])\n",
    "majorvote = np.zeros([100, 3])\n",
    "correct = 0\n",
    "\n",
    "for i in range(len(name)):\n",
    "    file = int(name[i].split('\\\\')[-1].split('C')[0])\n",
    "    idx = int(name[i].split('\\\\')[-1].split('_')[1].split('.')[0])\n",
    "    allresult[file-1][0] = file\n",
    "    allresult[file-1][idx] = result[i]\n",
    "    major[file-1][int(result[i])] += 1\n",
    "    major[file-1][2] = truth[i]\n",
    "\n",
    "for i in range(len(major)):\n",
    "    if(i != 23 and i != 26 and i != 27 and i != 36 and i != 41 and i != 48 and i != 49 and i != 59 and i != 60 and i != 61 and i != 62 and i != 66):\n",
    "        majorvote[i][0] = i+1\n",
    "        majorvote[i][1] = 0 if (major[i][0] >= major[i][1]) else 1\n",
    "        majorvote[i][2] = major[i][2]\n",
    "        if(majorvote[i][1] == majorvote[i][2]): \n",
    "            correct += 1\n",
    "\n",
    "print(correct, 88, correct/88)\n",
    "fivefolds_whisper_WhisperForAudioClassification_v3_15k_with30separate_allresult_df = pd.DataFrame(allresult)\n",
    "fivefolds_whisper_WhisperForAudioClassification_v3_15k_with30separate_allresult_df.to_csv(f'whisper-with10separate_allresult.csv', index=False) \n",
    "fivefolds_whisper_WhisperForAudioClassification_v3_15k_with30separate_finalresult_df = pd.DataFrame(majorvote, columns=['name', 'result', 'truth'])\n",
    "fivefolds_whisper_WhisperForAudioClassification_v3_15k_with30separate_finalresult_df.to_csv(f'whisper-with10separate_finalresult.csv', index=False) \n",
    "fivefolds_whisper_WhisperForAudioClassification_v3_15k_with30separate_finalresult_df = fivefolds_whisper_WhisperForAudioClassification_v3_15k_with30separate_finalresult_df.drop(['name'], axis=1)\n",
    "fivefolds_whisper_WhisperForAudioClassification_v3_15k_with30separate_finalresult_df = fivefolds_whisper_WhisperForAudioClassification_v3_15k_with30separate_finalresult_df.drop([22, 25, 26, 35, 40, 47, 48, 58, 59, 60, 61, 65], axis=0)\n",
    "fivefolds_whisper_WhisperForAudioClassification_v3_15k_with30separate_finalresult_df"
   ]
  },
  {
   "cell_type": "code",
   "execution_count": 45,
   "id": "8a9bc828",
   "metadata": {},
   "outputs": [
    {
     "name": "stdout",
     "output_type": "stream",
     "text": [
      "    result  truth\n",
      "3      0.0    1.0\n",
      "4      0.0    1.0\n",
      "8      0.0    1.0\n",
      "9      0.0    1.0\n",
      "11     0.0    1.0\n",
      "17     0.0    1.0\n",
      "19     0.0    1.0\n",
      "24     0.0    1.0\n",
      "30     0.0    1.0\n",
      "31     0.0    1.0\n",
      "32     1.0    0.0\n",
      "34     0.0    1.0\n",
      "37     0.0    1.0\n",
      "38     0.0    1.0\n",
      "44     0.0    1.0\n",
      "45     0.0    1.0\n",
      "50     1.0    0.0\n",
      "56     0.0    1.0\n",
      "63     0.0    1.0\n",
      "64     0.0    1.0\n",
      "84     1.0    0.0\n",
      "              precision    recall  f1-score   support\n",
      "\n",
      " non-patient       0.78      0.95      0.86        65\n",
      "     patient       0.62      0.22      0.32        23\n",
      "\n",
      "    accuracy                           0.76        88\n",
      "   macro avg       0.70      0.59      0.59        88\n",
      "weighted avg       0.74      0.76      0.72        88\n",
      "\n",
      "sensitivuty:  0.21739130434782608\n",
      "specificity:  0.9538461538461539\n"
     ]
    },
    {
     "data": {
      "text/plain": [
       "<sklearn.metrics._plot.confusion_matrix.ConfusionMatrixDisplay at 0x1e453dbf400>"
      ]
     },
     "execution_count": 45,
     "metadata": {},
     "output_type": "execute_result"
    },
    {
     "data": {
      "image/png": "[encoded data removed]",
      "text/plain": [
       "<Figure size 640x480 with 2 Axes>"
      ]
     },
     "metadata": {},
     "output_type": "display_data"
    }
   ],
   "source": [
    "fivefolds_whisper_WhisperForAudioClassification_v3_15k_with30separate_result = fivefolds_whisper_WhisperForAudioClassification_v3_15k_with30separate_finalresult_df['result']\n",
    "fivefolds_whisper_WhisperForAudioClassification_v3_15k_with30separate_truth = fivefolds_whisper_WhisperForAudioClassification_v3_15k_with30separate_finalresult_df['truth']\n",
    "fivefolds_whisper_WhisperForAudioClassification_v3_15k_with30separate_wrong = fivefolds_whisper_WhisperForAudioClassification_v3_15k_with30separate_finalresult_df.iloc[np.where(fivefolds_whisper_WhisperForAudioClassification_v3_15k_with30separate_finalresult_df['result'] != fivefolds_whisper_WhisperForAudioClassification_v3_15k_with30separate_finalresult_df['truth'])]\n",
    "print(fivefolds_whisper_WhisperForAudioClassification_v3_15k_with30separate_wrong)\n",
    "clf_report  = classification_report(fivefolds_whisper_WhisperForAudioClassification_v3_15k_with30separate_truth, fivefolds_whisper_WhisperForAudioClassification_v3_15k_with30separate_result, target_names=target_names)\n",
    "print(clf_report)\n",
    "tn, fp, fn, tp = confusion_matrix(fivefolds_whisper_WhisperForAudioClassification_v3_15k_with30separate_truth, fivefolds_whisper_WhisperForAudioClassification_v3_15k_with30separate_result).ravel()\n",
    "print('sensitivuty: ',tp / (fn+tp))\n",
    "print('specificity: ',tn / (fp+tn))\n",
    "# fpr, tpr, thresholds = metrics.roc_curve(np.array(fivefolds_with10separate_truth), np.array(fivefolds_with10separate_hyps), pos_label=1)\n",
    "# print('AUC: ',metrics.auc(fpr, tpr))\n",
    "\n",
    "y_test = [bool(int(x)) for x in fivefolds_whisper_WhisperForAudioClassification_v3_15k_with30separate_result]\n",
    "y_pred = [bool(int(x)) for x in fivefolds_whisper_WhisperForAudioClassification_v3_15k_with30separate_truth]\n",
    "ConfusionMatrixDisplay.from_predictions(y_test, y_pred, cmap=\"Blues\")"
   ]
  },
  {
   "cell_type": "markdown",
   "id": "e2ee7a2b",
   "metadata": {},
   "source": [
    "## BERT"
   ]
  },
  {
   "cell_type": "code",
   "execution_count": 46,
   "id": "f3fb533b",
   "metadata": {},
   "outputs": [
    {
     "name": "stdout",
     "output_type": "stream",
     "text": [
      "    name      hyps  truth  ifcorrect  result\n",
      "0     15  0.781967    0.0      False       1\n",
      "2     19  0.928337    0.0      False       1\n",
      "5     33  0.975243    0.0      False       1\n",
      "7     35  0.127843    1.0      False       0\n",
      "10    51  0.971446    0.0      False       1\n",
      "45    52  0.716365    0.0      False       1\n",
      "46    57  0.215304    1.0      False       0\n",
      "47    58  0.339317    1.0      False       0\n",
      "66    88  0.639507    0.0      False       1\n",
      "79     5  0.475549    1.0      False       0\n",
      "              precision    recall  f1-score   support\n",
      "\n",
      " non-patient       0.93      0.90      0.92        60\n",
      "     patient       0.80      0.86      0.83        28\n",
      "\n",
      "    accuracy                           0.89        88\n",
      "   macro avg       0.87      0.88      0.87        88\n",
      "weighted avg       0.89      0.89      0.89        88\n",
      "\n",
      "sensitivuty:  0.8571428571428571\n",
      "specificity:  0.9\n",
      "AUC:  0.9273809523809524\n"
     ]
    },
    {
     "data": {
      "text/plain": [
       "<sklearn.metrics._plot.confusion_matrix.ConfusionMatrixDisplay at 0x1e45700df10>"
      ]
     },
     "execution_count": 46,
     "metadata": {},
     "output_type": "execute_result"
    },
    {
     "data": {
      "image/png": "[encoded data removed]",
      "text/plain": [
       "<Figure size 640x480 with 2 Axes>"
      ]
     },
     "metadata": {},
     "output_type": "display_data"
    }
   ],
   "source": [
    "# with bert-v1-mean4\n",
    "fivefolds_bert_v1_15k_mean4 = pd.read_csv('bert-v1-15k-mean4.csv')\n",
    "fivefolds_bert_v1_15k_mean4['result'] = np.where(fivefolds_bert_v1_15k_mean4['hyps'] >= 0.5,1,0)\n",
    "fivefolds_bert_v1_15k_mean4_wrong = fivefolds_bert_v1_15k_mean4.iloc[np.where(fivefolds_bert_v1_15k_mean4['ifcorrect'] == False)]\n",
    "print(fivefolds_bert_v1_15k_mean4_wrong)\n",
    "# print(fivefolds_whisper_WhisperForAudioClassification_v3_10k_2.head(20))\n",
    "fivefolds_bert_v1_15k_mean4_result = fivefolds_bert_v1_15k_mean4['result'].tolist()\n",
    "fivefolds_bert_v1_15k_mean4_hyps = fivefolds_bert_v1_15k_mean4['hyps'].tolist()\n",
    "fivefolds_bert_v1_15k_mean4_truth = [int(i) for i in fivefolds_bert_v1_15k_mean4['truth'].tolist()]\n",
    "print(classification_report(fivefolds_bert_v1_15k_mean4_truth, fivefolds_bert_v1_15k_mean4_result, target_names=target_names))\n",
    "tn, fp, fn, tp = confusion_matrix(fivefolds_bert_v1_15k_mean4_truth, fivefolds_bert_v1_15k_mean4_result).ravel()\n",
    "print('sensitivuty: ',tp / (fn+tp))\n",
    "print('specificity: ',tn / (fp+tn))\n",
    "fpr, tpr, thresholds = metrics.roc_curve(np.array(fivefolds_bert_v1_15k_mean4_truth), np.array(fivefolds_bert_v1_15k_mean4_hyps), pos_label=1)\n",
    "print('AUC: ',metrics.auc(fpr, tpr))\n",
    "y_test = [bool(int(x)) for x in fivefolds_bert_v1_15k_mean4_truth]\n",
    "y_pred = [bool(int(x)) for x in fivefolds_bert_v1_15k_mean4_result]\n",
    "ConfusionMatrixDisplay.from_predictions(y_test, y_pred, cmap=\"Blues\")"
   ]
  },
  {
   "cell_type": "code",
   "execution_count": 47,
   "id": "30816233",
   "metadata": {},
   "outputs": [
    {
     "name": "stdout",
     "output_type": "stream",
     "text": [
      "    name      hyps  truth  ifcorrect  result\n",
      "0     15  0.836835    0.0      False       1\n",
      "2     19  0.911414    0.0      False       1\n",
      "3     22  0.553730    0.0      False       1\n",
      "5     33  0.886240    0.0      False       1\n",
      "7     35  0.244581    1.0      False       0\n",
      "8     40  0.117117    1.0      False       0\n",
      "10    51  0.962716    0.0      False       1\n",
      "16    85  0.573864    0.0      False       1\n",
      "46    57  0.189223    1.0      False       0\n",
      "47    58  0.402021    1.0      False       0\n",
      "66    88  0.645291    0.0      False       1\n",
      "79     5  0.495774    1.0      False       0\n",
      "              precision    recall  f1-score   support\n",
      "\n",
      " non-patient       0.91      0.88      0.90        60\n",
      "     patient       0.77      0.82      0.79        28\n",
      "\n",
      "    accuracy                           0.86        88\n",
      "   macro avg       0.84      0.85      0.85        88\n",
      "weighted avg       0.87      0.86      0.86        88\n",
      "\n",
      "sensitivuty:  0.8214285714285714\n",
      "specificity:  0.8833333333333333\n",
      "AUC:  0.931547619047619\n"
     ]
    },
    {
     "data": {
      "text/plain": [
       "<sklearn.metrics._plot.confusion_matrix.ConfusionMatrixDisplay at 0x1e457038cd0>"
      ]
     },
     "execution_count": 47,
     "metadata": {},
     "output_type": "execute_result"
    },
    {
     "data": {
      "image/png": "[encoded data removed]",
      "text/plain": [
       "<Figure size 640x480 with 2 Axes>"
      ]
     },
     "metadata": {},
     "output_type": "display_data"
    }
   ],
   "source": [
    "# with bert-v1\n",
    "fivefolds_bert_v1_15k = pd.read_csv('bert-v1-15k.csv')\n",
    "fivefolds_bert_v1_15k['result'] = np.where(fivefolds_bert_v1_15k['hyps'] >= 0.5,1,0)\n",
    "fivefolds_bert_v1_15k_wrong = fivefolds_bert_v1_15k.iloc[np.where(fivefolds_bert_v1_15k['ifcorrect'] == False)]\n",
    "print(fivefolds_bert_v1_15k_wrong)\n",
    "# print(fivefolds_whisper_WhisperForAudioClassification_v3_10k_2.head(20))\n",
    "fivefolds_bert_v1_15k_result = fivefolds_bert_v1_15k['result'].tolist()\n",
    "fivefolds_bert_v1_15k_hyps = fivefolds_bert_v1_15k['hyps'].tolist()\n",
    "fivefolds_bert_v1_15k_truth = [int(i) for i in fivefolds_bert_v1_15k['truth'].tolist()]\n",
    "print(classification_report(fivefolds_bert_v1_15k_truth, fivefolds_bert_v1_15k_result, target_names=target_names))\n",
    "tn, fp, fn, tp = confusion_matrix(fivefolds_bert_v1_15k_truth, fivefolds_bert_v1_15k_result).ravel()\n",
    "print('sensitivuty: ',tp / (fn+tp))\n",
    "print('specificity: ',tn / (fp+tn))\n",
    "fpr, tpr, thresholds = metrics.roc_curve(np.array(fivefolds_bert_v1_15k_truth), np.array(fivefolds_bert_v1_15k_hyps), pos_label=1)\n",
    "print('AUC: ',metrics.auc(fpr, tpr))\n",
    "y_test = [bool(int(x)) for x in fivefolds_bert_v1_15k_truth]\n",
    "y_pred = [bool(int(x)) for x in fivefolds_bert_v1_15k_result]\n",
    "ConfusionMatrixDisplay.from_predictions(y_test, y_pred, cmap=\"Blues\")"
   ]
  },
  {
   "cell_type": "code",
   "execution_count": 48,
   "id": "7cb3c843",
   "metadata": {},
   "outputs": [
    {
     "name": "stdout",
     "output_type": "stream",
     "text": [
      "    name      hyps  truth  ifcorrect  result\n",
      "0     15  0.780101    0.0      False       1\n",
      "2     19  0.903586    0.0      False       1\n",
      "5     33  0.977081    0.0      False       1\n",
      "7     35  0.109072    1.0      False       0\n",
      "10    51  0.871969    0.0      False       1\n",
      "41    32  0.478169    1.0      False       0\n",
      "42    38  0.416315    1.0      False       0\n",
      "45    52  0.734434    0.0      False       1\n",
      "46    57  0.084279    1.0      False       0\n",
      "47    58  0.483975    1.0      False       0\n",
      "71    10  0.450581    1.0      False       0\n",
      "              precision    recall  f1-score   support\n",
      "\n",
      " non-patient       0.90      0.92      0.91        60\n",
      "     patient       0.81      0.79      0.80        28\n",
      "\n",
      "    accuracy                           0.88        88\n",
      "   macro avg       0.86      0.85      0.85        88\n",
      "weighted avg       0.87      0.88      0.87        88\n",
      "\n",
      "sensitivuty:  0.7857142857142857\n",
      "specificity:  0.9166666666666666\n",
      "AUC:  0.7333333333333334 1.0 0.8333333333333333 1.0 1.0\n",
      "AUC_avg:  0.9133333333333333\n"
     ]
    },
    {
     "data": {
      "text/plain": [
       "<sklearn.metrics._plot.confusion_matrix.ConfusionMatrixDisplay at 0x1e4570cac70>"
      ]
     },
     "execution_count": 48,
     "metadata": {},
     "output_type": "execute_result"
    },
    {
     "data": {
      "image/png": "[encoded data removed]",
      "text/plain": [
       "<Figure size 640x480 with 2 Axes>"
      ]
     },
     "metadata": {},
     "output_type": "display_data"
    }
   ],
   "source": [
    "# with bert-v2-mean4\n",
    "fivefolds_bert_v2_15k_mean4 = pd.read_csv('bert-v2-15k-mean4.csv')\n",
    "fivefolds_bert_v2_15k_mean4['result'] = np.where(fivefolds_bert_v2_15k_mean4['hyps'] >= 0.5,1,0)\n",
    "fivefolds_bert_v2_15k_mean4_wrong = fivefolds_bert_v2_15k_mean4.iloc[np.where(fivefolds_bert_v2_15k_mean4['ifcorrect'] == False)]\n",
    "print(fivefolds_bert_v2_15k_mean4_wrong)\n",
    "# print(fivefolds_whisper_WhisperForAudioClassification_v3_10k_2.head(20))\n",
    "fivefolds_bert_v2_15k_mean4_result = fivefolds_bert_v2_15k_mean4['result'].tolist()\n",
    "fivefolds_bert_v2_15k_mean4_hyps = fivefolds_bert_v2_15k_mean4['hyps'].tolist()\n",
    "fivefolds_bert_v2_15k_mean4_truth = [int(i) for i in fivefolds_bert_v2_15k_mean4['truth'].tolist()]\n",
    "print(classification_report(fivefolds_bert_v2_15k_mean4_truth, fivefolds_bert_v2_15k_mean4_result, target_names=target_names))\n",
    "\n",
    "tn, fp, fn, tp = confusion_matrix(fivefolds_bert_v2_15k_mean4_truth, fivefolds_bert_v2_15k_mean4_result).ravel()\n",
    "print('sensitivuty: ',tp / (fn+tp))\n",
    "print('specificity: ',tn / (fp+tn))\n",
    "\n",
    "# fpr, tpr, thresholds = metrics.roc_curve(np.array(fivefolds_bert_v2_15k_mean4_truth), np.array(fivefolds_bert_v2_15k_mean4_hyps), pos_label=1)\n",
    "# print('AUC: ',metrics.auc(fpr, tpr))\n",
    "fpr1, tpr1, thresholds1 = metrics.roc_curve(np.array(fivefolds_bert_v2_15k_mean4_truth[0:19]), np.array(fivefolds_bert_v2_15k_mean4_hyps[0:19]), pos_label=1)\n",
    "auc1 = metrics.auc(fpr1, tpr1)\n",
    "fpr2, tpr2, thresholds2 = metrics.roc_curve(np.array(fivefolds_bert_v2_15k_mean4_truth[19:37]), np.array(fivefolds_bert_v2_15k_mean4_hyps[19:37]), pos_label=1)\n",
    "auc2 = metrics.auc(fpr2, tpr2)\n",
    "fpr3, tpr3, thresholds3 = metrics.roc_curve(np.array(fivefolds_bert_v2_15k_mean4_truth[37:54]), np.array(fivefolds_bert_v2_15k_mean4_hyps[37:54]), pos_label=1)\n",
    "auc3 = metrics.auc(fpr3, tpr3)\n",
    "fpr4, tpr4, thresholds4 = metrics.roc_curve(np.array(fivefolds_bert_v2_15k_mean4_truth[54:71]), np.array(fivefolds_bert_v2_15k_mean4_hyps[54:71]), pos_label=1)\n",
    "auc4 = metrics.auc(fpr4, tpr4)\n",
    "fpr5, tpr5, thresholds5 = metrics.roc_curve(np.array(fivefolds_bert_v2_15k_mean4_truth[71:88]), np.array(fivefolds_bert_v2_15k_mean4_hyps[71:88]), pos_label=1)\n",
    "auc5 = metrics.auc(fpr5, tpr5)\n",
    "print('AUC: ', auc1, auc2, auc3, auc4, auc5)\n",
    "print(\"AUC_avg: \", (auc1+auc2+auc3+auc4+auc5)/5)\n",
    "\n",
    "y_test = [bool(int(x)) for x in fivefolds_bert_v2_15k_mean4_truth]\n",
    "y_pred = [bool(int(x)) for x in fivefolds_bert_v2_15k_mean4_result]\n",
    "ConfusionMatrixDisplay.from_predictions(y_test, y_pred, cmap=\"Blues\")"
   ]
  },
  {
   "cell_type": "code",
   "execution_count": 49,
   "id": "56ecdda0",
   "metadata": {},
   "outputs": [
    {
     "name": "stdout",
     "output_type": "stream",
     "text": [
      "    name      hyps  truth  ifcorrect  result\n",
      "0     15  0.819736    0.0      False       1\n",
      "2     19  0.865513    0.0      False       1\n",
      "5     33  0.928200    0.0      False       1\n",
      "7     35  0.195278    1.0      False       0\n",
      "8     40  0.170048    1.0      False       0\n",
      "10    51  0.828939    0.0      False       1\n",
      "42    38  0.432395    1.0      False       0\n",
      "46    57  0.073845    1.0      False       0\n",
      "47    58  0.394470    1.0      False       0\n",
      "66    88  0.524423    0.0      False       1\n",
      "71    10  0.377972    1.0      False       0\n",
      "              precision    recall  f1-score   support\n",
      "\n",
      " non-patient       0.90      0.92      0.91        60\n",
      "     patient       0.81      0.79      0.80        28\n",
      "\n",
      "    accuracy                           0.88        88\n",
      "   macro avg       0.86      0.85      0.85        88\n",
      "weighted avg       0.87      0.88      0.87        88\n",
      "\n",
      "sensitivuty:  0.7857142857142857\n",
      "specificity:  0.9166666666666666\n",
      "AUC:  0.9380952380952381\n"
     ]
    },
    {
     "data": {
      "text/plain": [
       "<sklearn.metrics._plot.confusion_matrix.ConfusionMatrixDisplay at 0x1e4572cbfd0>"
      ]
     },
     "execution_count": 49,
     "metadata": {},
     "output_type": "execute_result"
    },
    {
     "data": {
      "image/png": "[encoded data removed]",
      "text/plain": [
       "<Figure size 640x480 with 2 Axes>"
      ]
     },
     "metadata": {},
     "output_type": "display_data"
    }
   ],
   "source": [
    "# with bert-v2\n",
    "fivefolds_bert_v2_15k = pd.read_csv('bert-v2-15k.csv')\n",
    "fivefolds_bert_v2_15k['result'] = np.where(fivefolds_bert_v2_15k['hyps'] >= 0.5,1,0)\n",
    "fivefolds_bert_v2_15k_wrong = fivefolds_bert_v2_15k.iloc[np.where(fivefolds_bert_v2_15k['ifcorrect'] == False)]\n",
    "print(fivefolds_bert_v2_15k_wrong)\n",
    "# print(fivefolds_whisper_WhisperForAudioClassification_v3_10k_2.head(20))\n",
    "fivefolds_bert_v2_15k_result = fivefolds_bert_v2_15k['result'].tolist()\n",
    "fivefolds_bert_v2_15k_hyps = fivefolds_bert_v2_15k['hyps'].tolist()\n",
    "fivefolds_bert_v2_15k_truth = [int(i) for i in fivefolds_bert_v2_15k['truth'].tolist()]\n",
    "print(classification_report(fivefolds_bert_v2_15k_truth, fivefolds_bert_v2_15k_result, target_names=target_names))\n",
    "tn, fp, fn, tp = confusion_matrix(fivefolds_bert_v2_15k_truth, fivefolds_bert_v2_15k_result).ravel()\n",
    "print('sensitivuty: ',tp / (fn+tp))\n",
    "print('specificity: ',tn / (fp+tn))\n",
    "fpr, tpr, thresholds = metrics.roc_curve(np.array(fivefolds_bert_v2_15k_truth), np.array(fivefolds_bert_v2_15k_hyps), pos_label=1)\n",
    "print('AUC: ',metrics.auc(fpr, tpr))\n",
    "y_test = [bool(int(x)) for x in fivefolds_bert_v2_15k_truth]\n",
    "y_pred = [bool(int(x)) for x in fivefolds_bert_v2_15k_result]\n",
    "ConfusionMatrixDisplay.from_predictions(y_test, y_pred, cmap=\"Blues\")"
   ]
  },
  {
   "cell_type": "code",
   "execution_count": 50,
   "id": "05f6cb83",
   "metadata": {},
   "outputs": [],
   "source": [
    "# # with bert-v3-mean6\n",
    "# fivefolds_bert_v3_15k_mean6 = pd.read_csv('bert-v3-15k-mean6.csv')\n",
    "# fivefolds_bert_v3_15k_mean6['result'] = np.where(fivefolds_bert_v3_15k_mean6['hyps'] >= 0.5,1,0)\n",
    "# fivefolds_bert_v3_15k_mean6_wrong = fivefolds_bert_v3_15k_mean6.iloc[np.where(fivefolds_bert_v3_15k_mean6['ifcorrect'] == False)]\n",
    "# print(fivefolds_bert_v3_15k_mean6_wrong)\n",
    "# # print(fivefolds_whisper_WhisperForAudioClassification_v3_10k_2.head(20))\n",
    "# fivefolds_bert_v3_15k_mean6_result = fivefolds_bert_v3_15k_mean6['result'].tolist()\n",
    "# fivefolds_bert_v3_15k_mean6_hyps = fivefolds_bert_v3_15k_mean6['hyps'].tolist()\n",
    "# fivefolds_bert_v3_15k_mean6_truth = [int(i) for i in fivefolds_bert_v3_15k_mean6['truth'].tolist()]\n",
    "# print(classification_report(fivefolds_bert_v3_15k_mean6_truth, fivefolds_bert_v3_15k_mean6_result, target_names=target_names))\n",
    "# tn, fp, fn, tp = confusion_matrix(fivefolds_bert_v3_15k_mean6_truth, fivefolds_bert_v3_15k_mean6_result).ravel()\n",
    "# print('sensitivuty: ',tp / (fn+tp))\n",
    "# print('specificity: ',tn / (fp+tn))\n",
    "# fpr, tpr, thresholds = metrics.roc_curve(np.array(fivefolds_bert_v3_15k_mean6_truth), np.array(fivefolds_bert_v3_15k_mean6_hyps), pos_label=1)\n",
    "# print('AUC: ',metrics.auc(fpr, tpr))\n",
    "# y_test = [bool(int(x)) for x in fivefolds_bert_v3_15k_mean6_truth]\n",
    "# y_pred = [bool(int(x)) for x in fivefolds_bert_v3_15k_mean6_result]\n",
    "# ConfusionMatrixDisplay.from_predictions(y_test, y_pred, cmap=\"Blues\")"
   ]
  },
  {
   "cell_type": "code",
   "execution_count": 51,
   "id": "236fe1a2",
   "metadata": {},
   "outputs": [
    {
     "name": "stdout",
     "output_type": "stream",
     "text": [
      "    name      hyps  truth  ifcorrect  result\n",
      "0     15  0.913445    0.0      False       1\n",
      "2     19  0.676430    0.0      False       1\n",
      "5     33  0.854798    0.0      False       1\n",
      "7     35  0.116426    1.0      False       0\n",
      "10    51  0.862900    0.0      False       1\n",
      "16    85  0.821065    0.0      False       1\n",
      "41    32  0.284193    1.0      False       0\n",
      "45    52  0.714128    0.0      False       1\n",
      "46    57  0.147721    1.0      False       0\n",
      "47    58  0.475172    1.0      False       0\n",
      "49    81  0.650686    0.0      False       1\n",
      "62    63  0.437246    1.0      False       0\n",
      "71    10  0.428490    1.0      False       0\n",
      "              precision    recall  f1-score   support\n",
      "\n",
      " non-patient       0.90      0.88      0.89        60\n",
      "     patient       0.76      0.79      0.77        28\n",
      "\n",
      "    accuracy                           0.85        88\n",
      "   macro avg       0.83      0.83      0.83        88\n",
      "weighted avg       0.85      0.85      0.85        88\n",
      "\n",
      "sensitivuty:  0.7857142857142857\n",
      "specificity:  0.8833333333333333\n",
      "AUC:  0.7833333333333333 1.0 0.8333333333333334 0.9833333333333333 1.0\n",
      "AUC_avg:  0.9199999999999999\n"
     ]
    },
    {
     "data": {
      "text/plain": [
       "<sklearn.metrics._plot.confusion_matrix.ConfusionMatrixDisplay at 0x1e4573e7310>"
      ]
     },
     "execution_count": 51,
     "metadata": {},
     "output_type": "execute_result"
    },
    {
     "data": {
      "image/png": "[encoded data removed]",
      "text/plain": [
       "<Figure size 640x480 with 2 Axes>"
      ]
     },
     "metadata": {},
     "output_type": "display_data"
    }
   ],
   "source": [
    "# with bert-v3-mean4\n",
    "fivefolds_bert_v3_15k_mean4 = pd.read_csv('bert-v3-15k-mean4.csv')\n",
    "fivefolds_bert_v3_15k_mean4['result'] = np.where(fivefolds_bert_v3_15k_mean4['hyps'] >= 0.5,1,0)\n",
    "fivefolds_bert_v3_15k_mean4_wrong = fivefolds_bert_v3_15k_mean4.iloc[np.where(fivefolds_bert_v3_15k_mean4['ifcorrect'] == False)]\n",
    "print(fivefolds_bert_v3_15k_mean4_wrong)\n",
    "# print(fivefolds_whisper_WhisperForAudioClassification_v3_10k_2.head(20))\n",
    "fivefolds_bert_v3_15k_mean4_result = fivefolds_bert_v3_15k_mean4['result'].tolist()\n",
    "fivefolds_bert_v3_15k_mean4_hyps = fivefolds_bert_v3_15k_mean4['hyps'].tolist()\n",
    "fivefolds_bert_v3_15k_mean4_truth = [int(i) for i in fivefolds_bert_v3_15k_mean4['truth'].tolist()]\n",
    "print(classification_report(fivefolds_bert_v3_15k_mean4_truth, fivefolds_bert_v3_15k_mean4_result, target_names=target_names))\n",
    "\n",
    "tn, fp, fn, tp = confusion_matrix(fivefolds_bert_v3_15k_mean4_truth, fivefolds_bert_v3_15k_mean4_result).ravel()\n",
    "print('sensitivuty: ',tp / (fn+tp))\n",
    "print('specificity: ',tn / (fp+tn))\n",
    "\n",
    "# fpr, tpr, thresholds = metrics.roc_curve(np.array(fivefolds_bert_v3_15k_mean4_truth), np.array(fivefolds_bert_v3_15k_mean4_hyps), pos_label=1)\n",
    "# print('AUC: ',metrics.auc(fpr, tpr))\n",
    "fpr1, tpr1, thresholds1 = metrics.roc_curve(np.array(fivefolds_bert_v3_15k_mean4_truth[0:19]), np.array(fivefolds_bert_v3_15k_mean4_hyps[0:19]), pos_label=1)\n",
    "auc1 = metrics.auc(fpr1, tpr1)\n",
    "fpr2, tpr2, thresholds2 = metrics.roc_curve(np.array(fivefolds_bert_v3_15k_mean4_truth[19:37]), np.array(fivefolds_bert_v3_15k_mean4_hyps[19:37]), pos_label=1)\n",
    "auc2 = metrics.auc(fpr2, tpr2)\n",
    "fpr3, tpr3, thresholds3 = metrics.roc_curve(np.array(fivefolds_bert_v3_15k_mean4_truth[37:54]), np.array(fivefolds_bert_v3_15k_mean4_hyps[37:54]), pos_label=1)\n",
    "auc3 = metrics.auc(fpr3, tpr3)\n",
    "fpr4, tpr4, thresholds4 = metrics.roc_curve(np.array(fivefolds_bert_v3_15k_mean4_truth[54:71]), np.array(fivefolds_bert_v3_15k_mean4_hyps[54:71]), pos_label=1)\n",
    "auc4 = metrics.auc(fpr4, tpr4)\n",
    "fpr5, tpr5, thresholds5 = metrics.roc_curve(np.array(fivefolds_bert_v3_15k_mean4_truth[71:88]), np.array(fivefolds_bert_v3_15k_mean4_hyps[71:88]), pos_label=1)\n",
    "auc5 = metrics.auc(fpr5, tpr5)\n",
    "print('AUC: ', auc1, auc2, auc3, auc4, auc5)\n",
    "print(\"AUC_avg: \", (auc1+auc2+auc3+auc4+auc5)/5)\n",
    "\n",
    "y_test = [bool(int(x)) for x in fivefolds_bert_v3_15k_mean4_truth]\n",
    "y_pred = [bool(int(x)) for x in fivefolds_bert_v3_15k_mean4_result]\n",
    "ConfusionMatrixDisplay.from_predictions(y_test, y_pred, cmap=\"Blues\")"
   ]
  },
  {
   "cell_type": "code",
   "execution_count": 52,
   "id": "f1a07b9f",
   "metadata": {},
   "outputs": [
    {
     "name": "stdout",
     "output_type": "stream",
     "text": [
      "    name      hyps  truth  ifcorrect  result\n",
      "0     15  0.974592    0.0      False       1\n",
      "2     19  0.531534    0.0      False       1\n",
      "3     22  0.713972    0.0      False       1\n",
      "5     33  0.914992    0.0      False       1\n",
      "7     35  0.173616    1.0      False       0\n",
      "8     40  0.186704    1.0      False       0\n",
      "10    51  0.917398    0.0      False       1\n",
      "16    85  0.927687    0.0      False       1\n",
      "41    32  0.418049    1.0      False       0\n",
      "42    38  0.441249    1.0      False       0\n",
      "46    57  0.140893    1.0      False       0\n",
      "49    81  0.694261    0.0      False       1\n",
      "62    63  0.479589    1.0      False       0\n",
      "66    88  0.783036    0.0      False       1\n",
      "71    10  0.386653    1.0      False       0\n",
      "              precision    recall  f1-score   support\n",
      "\n",
      " non-patient       0.88      0.87      0.87        60\n",
      "     patient       0.72      0.75      0.74        28\n",
      "\n",
      "    accuracy                           0.83        88\n",
      "   macro avg       0.80      0.81      0.81        88\n",
      "weighted avg       0.83      0.83      0.83        88\n",
      "\n",
      "sensitivuty:  0.75\n",
      "specificity:  0.8666666666666667\n",
      "AUC:  0.9160714285714286\n"
     ]
    },
    {
     "data": {
      "text/plain": [
       "<sklearn.metrics._plot.confusion_matrix.ConfusionMatrixDisplay at 0x1e4572cf0a0>"
      ]
     },
     "execution_count": 52,
     "metadata": {},
     "output_type": "execute_result"
    },
    {
     "data": {
      "image/png": "[encoded data removed]",
      "text/plain": [
       "<Figure size 640x480 with 2 Axes>"
      ]
     },
     "metadata": {},
     "output_type": "display_data"
    }
   ],
   "source": [
    "# with bert-v3\n",
    "fivefolds_bert_v3_15k = pd.read_csv('bert-v3-15k.csv')\n",
    "fivefolds_bert_v3_15k['result'] = np.where(fivefolds_bert_v3_15k['hyps'] >= 0.5,1,0)\n",
    "fivefolds_bert_v3_15k_wrong = fivefolds_bert_v3_15k.iloc[np.where(fivefolds_bert_v3_15k['ifcorrect'] == False)]\n",
    "print(fivefolds_bert_v3_15k_wrong)\n",
    "# print(fivefolds_whisper_WhisperForAudioClassification_v3_10k_2.head(20))\n",
    "fivefolds_bert_v3_15k_result = fivefolds_bert_v3_15k['result'].tolist()\n",
    "fivefolds_bert_v3_15k_hyps = fivefolds_bert_v3_15k['hyps'].tolist()\n",
    "fivefolds_bert_v3_15k_truth = [int(i) for i in fivefolds_bert_v3_15k['truth'].tolist()]\n",
    "print(classification_report(fivefolds_bert_v3_15k_truth, fivefolds_bert_v3_15k_result, target_names=target_names))\n",
    "tn, fp, fn, tp = confusion_matrix(fivefolds_bert_v3_15k_truth, fivefolds_bert_v3_15k_result).ravel()\n",
    "print('sensitivuty: ',tp / (fn+tp))\n",
    "print('specificity: ',tn / (fp+tn))\n",
    "fpr, tpr, thresholds = metrics.roc_curve(np.array(fivefolds_bert_v3_15k_truth), np.array(fivefolds_bert_v3_15k_hyps), pos_label=1)\n",
    "print('AUC: ',metrics.auc(fpr, tpr))\n",
    "y_test = [bool(int(x)) for x in fivefolds_bert_v3_15k_truth]\n",
    "y_pred = [bool(int(x)) for x in fivefolds_bert_v3_15k_result]\n",
    "ConfusionMatrixDisplay.from_predictions(y_test, y_pred, cmap=\"Blues\")"
   ]
  },
  {
   "cell_type": "markdown",
   "id": "090b213e",
   "metadata": {},
   "source": [
    "## ori"
   ]
  },
  {
   "cell_type": "code",
   "execution_count": 53,
   "id": "4c0545ae",
   "metadata": {},
   "outputs": [],
   "source": [
    "# inval = ['17CTT', '45CTT', '31CTT', '11CTT']\n",
    "# for i in inval:\n",
    "#     print(fivefolds_8k_1VGG_4LSTM.loc[lambda df: df['name'] == i ])"
   ]
  },
  {
   "cell_type": "code",
   "execution_count": 54,
   "id": "aa4a0d7e",
   "metadata": {},
   "outputs": [],
   "source": [
    "# inval_idx = [90,84,57,96]\n",
    "# print(fivefolds_8k_1VGG_4LSTM.iloc[inval_idx])\n",
    "# print(fivefolds_7k_1VGG_4LSTM.iloc[inval_idx])\n",
    "# print(fivefolds_11k4lstm.iloc[inval_idx])\n",
    "# print(fivefolds_10k4lstm.iloc[inval_idx])\n",
    "# print(fivefolds_9k4lstm.iloc[inval_idx])\n",
    "# print(fivefolds_8k4lstm.iloc[inval_idx])\n",
    "# print(fivefolds_7k4lstm.iloc[inval_idx])"
   ]
  },
  {
   "cell_type": "code",
   "execution_count": 55,
   "id": "universal-sheffield",
   "metadata": {},
   "outputs": [],
   "source": [
    "# best_acc = 0\n",
    "# best_auc = 0\n",
    "# best_acc_file = ''\n",
    "# best_auc_file = ''\n",
    "# for i in range(7, 13):\n",
    "#     if i == 11:\n",
    "#         continue\n",
    "#     fivefolds_12knew_4LSTM = pd.read_csv(f'5folds{i}knew_4LSTM.csv')\n",
    "#     print(f'5folds{i}knew_4LSTM.csv')\n",
    "#     fivefolds_12knew_4LSTM['result'] = np.where(fivefolds_10knew_4LSTM['hyps'] >= 0.5,1,0)\n",
    "#     #print(fivefolds_12knew_4LSTM.head(20))\n",
    "#     fivefolds_16_result = fivefolds_12knew_4LSTM['result'].tolist()\n",
    "#     fivefolds_16_hyps = fivefolds_12knew_4LSTM['hyps'].tolist()\n",
    "#     fivefolds_16_truth = [int(i) for i in fivefolds_12knew_4LSTM['truth'].tolist()]\n",
    "#     print(classification_report(fivefolds_16_truth, fivefolds_16_result, target_names=target_names))\n",
    "#     tn, fp, fn, tp = confusion_matrix(fivefolds_16_truth, fivefolds_16_result).ravel()\n",
    "#     print('sensitivuty: ',tp / (fn+tp))\n",
    "#     print('specificity: ',tn / (fp+tn))\n",
    "#     fpr, tpr, thresholds = metrics.roc_curve(np.array(fivefolds_16_truth), np.array(fivefolds_16_hyps), pos_label=1)\n",
    "#     auc = metrics.auc(fpr, tpr)\n",
    "#     print('AUC: ',auc)\n",
    "#     if auc > best_auc:\n",
    "#         best_auc = auc\n",
    "#         best_auc_file = f'5folds{i}knew_4LSTM.csv'\n",
    "#     acc = metrics.accuracy_score(fivefolds_16_truth, fivefolds_16_result)\n",
    "#     print('acc: ',acc)\n",
    "#     if acc > best_acc:\n",
    "#         best_acc = acc\n",
    "#         best_acc_file = f'5folds{i}knew_4LSTM.csv'\n",
    "#     CI(np.array(fivefolds_16_truth).astype(int), np.array(fivefolds_16_hyps))\n",
    "# print('best_acc', best_acc)\n",
    "# print('best_acc_file', best_acc_file)\n",
    "# print('best_auc', best_auc)\n",
    "# print('best_auc_file', best_auc_file)\n"
   ]
  },
  {
   "cell_type": "markdown",
   "id": "68580744",
   "metadata": {},
   "source": [
    "## combine"
   ]
  },
  {
   "cell_type": "markdown",
   "id": "6365e629",
   "metadata": {},
   "source": [
    "### 1, 2, 3"
   ]
  },
  {
   "cell_type": "code",
   "execution_count": 56,
   "id": "28a75960",
   "metadata": {},
   "outputs": [
    {
     "name": "stdout",
     "output_type": "stream",
     "text": [
      "        hyps  truth  result  ifcorrect\n",
      "0   0.510252      0       1      False\n",
      "2   0.868445      0       1      False\n",
      "5   0.795435      0       1      False\n",
      "7   0.238627      1       0      False\n",
      "10  0.729353      0       1      False\n",
      "22  0.457834      1       0      False\n",
      "24  0.338147      1       0      False\n",
      "37  0.378962      1       0      False\n",
      "41  0.290576      1       0      False\n",
      "42  0.345496      1       0      False\n",
      "45  0.624165      0       1      False\n",
      "46  0.137762      1       0      False\n",
      "62  0.439458      1       0      False\n",
      "71  0.380982      1       0      False\n",
      "79  0.477314      1       0      False\n",
      "              precision    recall  f1-score   support\n",
      "\n",
      " non-patient       0.85      0.92      0.88        60\n",
      "     patient       0.78      0.64      0.71        28\n",
      "\n",
      "    accuracy                           0.83        88\n",
      "   macro avg       0.81      0.78      0.79        88\n",
      "weighted avg       0.83      0.83      0.82        88\n",
      "\n",
      "sensitivuty:  0.6428571428571429\n",
      "specificity:  0.9166666666666666\n",
      "AUC:  0.7333333333333334 0.9875 0.8484848484848484 1.0 1.0\n",
      "AUC_avg:  0.9138636363636363\n"
     ]
    },
    {
     "data": {
      "text/plain": [
       "<sklearn.metrics._plot.confusion_matrix.ConfusionMatrixDisplay at 0x1e4575198b0>"
      ]
     },
     "execution_count": 56,
     "metadata": {},
     "output_type": "execute_result"
    },
    {
     "data": {
      "image/png": "[encoded data removed]",
      "text/plain": [
       "<Figure size 640x480 with 2 Axes>"
      ]
     },
     "metadata": {},
     "output_type": "display_data"
    }
   ],
   "source": [
    "# for 1, 2, 3\n",
    "whisper_v2_15k = pd.read_csv('whisper-WhisperForAudioClassification-v2-15k_2.csv')\n",
    "bert_v2_15k = pd.read_csv('bert-v2-15k-mean4.csv')\n",
    "llama_v2 = pd.read_csv('llama-v2.csv')\n",
    "\n",
    "w_w = 0.74\n",
    "b_w = 0.87\n",
    "l_w = 0.80\n",
    "weighted = w_w + b_w + l_w\n",
    "combine = pd.DataFrame()\n",
    "# combine['hyps'] = whisper_v2_15k['hyps']*w_w/weighted + bert_v2_15k['hyps']*b_w/weighted + llama_v2['hyps']*l_w/weighted\n",
    "combine['hyps'] = (whisper_v2_15k['hyps'] + bert_v2_15k['hyps'] + llama_v2['hyps']) / 3\n",
    "combine['truth'] = whisper_v2_15k['truth'].astype(int)\n",
    "combine['result'] = np.where(combine['hyps'] >= 0.5,1,0)\n",
    "combine['ifcorrect'] = combine['result'] == combine['truth']\n",
    "# combine\n",
    "combine_wrong = combine.iloc[np.where(combine['ifcorrect'] == False)]\n",
    "print(combine_wrong)\n",
    "# print(fivefolds_with10separate_10k.head(20))\n",
    "combine_result = combine['result'].tolist()\n",
    "combine_hyps = combine['hyps'].tolist()\n",
    "combine_truth = [int(i) for i in combine['truth'].tolist()]\n",
    "print(classification_report(combine_truth, combine_result, target_names=target_names))\n",
    "tn, fp, fn, tp = confusion_matrix(combine_truth, combine_result).ravel()\n",
    "print('sensitivuty: ',tp / (fn+tp))\n",
    "print('specificity: ',tn / (fp+tn))\n",
    "\n",
    "# fpr, tpr, thresholds = metrics.roc_curve(np.array(fivefolds_bert_v2_15k_mean4_truth), np.array(fivefolds_bert_v2_15k_mean4_hyps), pos_label=1)\n",
    "# print('AUC: ',metrics.auc(fpr, tpr))\n",
    "fpr1, tpr1, thresholds1 = metrics.roc_curve(np.array(combine_truth[0:19]), np.array(combine_hyps[0:19]), pos_label=1)\n",
    "auc1 = metrics.auc(fpr1, tpr1)\n",
    "fpr2, tpr2, thresholds2 = metrics.roc_curve(np.array(combine_truth[19:37]), np.array(combine_hyps[19:37]), pos_label=1)\n",
    "auc2 = metrics.auc(fpr2, tpr2)\n",
    "fpr3, tpr3, thresholds3 = metrics.roc_curve(np.array(combine_truth[37:54]), np.array(combine_hyps[37:54]), pos_label=1)\n",
    "auc3 = metrics.auc(fpr3, tpr3)\n",
    "fpr4, tpr4, thresholds4 = metrics.roc_curve(np.array(combine_truth[54:71]), np.array(combine_hyps[54:71]), pos_label=1)\n",
    "auc4 = metrics.auc(fpr4, tpr4)\n",
    "fpr5, tpr5, thresholds5 = metrics.roc_curve(np.array(combine_truth[71:88]), np.array(combine_hyps[71:88]), pos_label=1)\n",
    "auc5 = metrics.auc(fpr5, tpr5)\n",
    "print('AUC: ', auc1, auc2, auc3, auc4, auc5)\n",
    "print(\"AUC_avg: \", (auc1+auc2+auc3+auc4+auc5)/5)\n",
    "\n",
    "y_test = [bool(int(x)) for x in combine_truth]\n",
    "y_pred = [bool(int(x)) for x in combine_result]\n",
    "ConfusionMatrixDisplay.from_predictions(y_test, y_pred, cmap=\"Blues\")"
   ]
  },
  {
   "cell_type": "code",
   "execution_count": 57,
   "id": "4d28c42b",
   "metadata": {},
   "outputs": [
    {
     "name": "stdout",
     "output_type": "stream",
     "text": [
      "        hyps  truth  result  ifcorrect  new_pre  new_hyps\n",
      "0   0.510252      0       1      False        1  0.633003\n",
      "1   0.783190      1       1       True        1  0.995939\n",
      "2   0.868445      0       1      False        1  0.999998\n",
      "3   0.223576      0       0       True        0  0.009237\n",
      "4   0.705780      1       1       True        1  0.983591\n",
      "..       ...    ...     ...        ...      ...       ...\n",
      "83  0.125306      0       0       True        0  0.002108\n",
      "84  0.097957      0       0       True        0  0.001278\n",
      "85  0.219114      0       0       True        0  0.011737\n",
      "86  0.219115      0       0       True        0  0.011737\n",
      "87  0.132239      0       0       True        0  0.002393\n",
      "\n",
      "[88 rows x 6 columns]\n"
     ]
    }
   ],
   "source": [
    "from sklearn.svm import SVC\n",
    "from sklearn.pipeline import make_pipeline\n",
    "from sklearn.preprocessing import StandardScaler\n",
    "\n",
    "test_1 = combine_hyps[0:19]\n",
    "test_2 = combine_hyps[19:37]\n",
    "test_3 = combine_hyps[37:54]\n",
    "test_4 = combine_hyps[54:71]\n",
    "test_5 = combine_hyps[71:88]\n",
    "\n",
    "train_1 = combine_hyps[19:88]\n",
    "train_2 = combine_hyps[0:19] + combine_hyps[37:88]\n",
    "train_3 = combine_hyps[0:37] + combine_hyps[54:88]\n",
    "train_4 = combine_hyps[0:54] + combine_hyps[71:88]\n",
    "train_5 = combine_hyps[0:19]\n",
    "\n",
    "idx = [0, 19, 37, 54, 71, 88]\n",
    "\n",
    "for i in range(5):\n",
    "    svc = SVC(kernel='linear', probability=True, random_state=0)\n",
    "    clf = make_pipeline(StandardScaler(), svc)\n",
    "    # Fit the model to the data\n",
    "\n",
    "    train = np.array(combine_hyps[0:idx[i]]+combine_hyps[idx[i+1]:88]).reshape(-1, 1)\n",
    "    t_tra = np.array(combine_result[0:idx[i]]+combine_result[idx[i+1]:88]).reshape(-1, 1)\n",
    "    valid = np.array(combine_hyps[idx[i]:idx[i+1]]).reshape(-1, 1)\n",
    "    t_val = np.array(combine_result[idx[i]:idx[i+1]]).reshape(-1, 1)\n",
    "    # print(train.shape, valid.shape)\n",
    "\n",
    "    clf.fit(train, t_tra.ravel())\n",
    "    # print(train, t_tra)\n",
    "    #         print(reg.coef_)\n",
    "    y_predicted = clf.predict(train)\n",
    "    #         loss = mean_squared_error(t_tra, y_predicted)\n",
    "    y_predicted_val = clf.predict(valid)\n",
    "    y_predicted_val_pro = clf.predict_proba(valid)\n",
    "    y_predicted_val_pro = [row[1] for row in y_predicted_val_pro]\n",
    "\n",
    "    if  i == 0:\n",
    "        new_pre = y_predicted_val\n",
    "        new_pre_hys = y_predicted_val_pro\n",
    "    else:\n",
    "        new_pre = np.concatenate((new_pre, y_predicted_val))\n",
    "        new_pre_hys = np.concatenate((new_pre_hys, y_predicted_val_pro))\n",
    "    \n",
    "# new_pre = new_pre.reshape(-1, 1)\n",
    "# print(new_pre.shape, new_pre_hys.shape)\n",
    "\n",
    "new_df = pd.DataFrame(new_pre, columns=['new_pre'])\n",
    "new_h_df = pd.DataFrame(new_pre_hys, columns=['new_hyps'])\n",
    "combine = pd.concat([combine, new_df, new_h_df], axis=1)\n",
    "combine.to_csv(f'combine-v2.csv', index=False) \n",
    "print(combine)"
   ]
  },
  {
   "cell_type": "code",
   "execution_count": 58,
   "id": "e81efe9c",
   "metadata": {},
   "outputs": [
    {
     "name": "stdout",
     "output_type": "stream",
     "text": [
      "        hyps  truth  result  ifcorrect  new_pre  new_hyps\n",
      "0   0.510252      0       1      False        1  0.633003\n",
      "2   0.868445      0       1      False        1  0.999998\n",
      "5   0.795435      0       1      False        1  0.996748\n",
      "7   0.238627      1       0      False        0  0.012144\n",
      "10  0.729353      0       1      False        1  0.989253\n",
      "22  0.457834      1       0      False        0  0.383332\n",
      "24  0.338147      1       0      False        0  0.066912\n",
      "37  0.378962      1       0      False        0  0.123158\n",
      "41  0.290576      1       0      False        0  0.031072\n",
      "42  0.345496      1       0      False        0  0.073622\n",
      "45  0.624165      0       1      False        1  0.901268\n",
      "46  0.137762      1       0      False        0  0.002317\n",
      "62  0.439458      1       0      False        0  0.301238\n",
      "71  0.380982      1       0      False        0  0.185353\n",
      "79  0.477314      1       1      False        1  0.570587\n",
      "              precision    recall  f1-score   support\n",
      "\n",
      " non-patient       0.86      0.92      0.89        60\n",
      "     patient       0.79      0.68      0.73        28\n",
      "\n",
      "    accuracy                           0.84        88\n",
      "   macro avg       0.83      0.80      0.81        88\n",
      "weighted avg       0.84      0.84      0.84        88\n",
      "\n",
      "sensitivuty:  0.6785714285714286\n",
      "specificity:  0.9166666666666666\n",
      "AUC:  0.8857142857142857\n",
      "AUC:  0.7333333333333334 0.9875 0.8484848484848484 1.0 1.0\n",
      "AUC_avg:  0.9138636363636363\n"
     ]
    },
    {
     "data": {
      "text/plain": [
       "<sklearn.metrics._plot.confusion_matrix.ConfusionMatrixDisplay at 0x1e457478490>"
      ]
     },
     "execution_count": 58,
     "metadata": {},
     "output_type": "execute_result"
    },
    {
     "data": {
      "image/png": "[encoded data removed]",
      "text/plain": [
       "<Figure size 640x480 with 2 Axes>"
      ]
     },
     "metadata": {},
     "output_type": "display_data"
    }
   ],
   "source": [
    "# combine_v2\n",
    "combine_v2 = pd.read_csv('combine-v2.csv')\n",
    "combine_v2['result'] = combine_v2['new_pre']\n",
    "fivefolds_bert_v3_15k_wrong = combine_v2.iloc[np.where(combine_v2['ifcorrect'] == False)]\n",
    "print(fivefolds_bert_v3_15k_wrong)\n",
    "# print(fivefolds_whisper_WhisperForAudioClassification_v3_10k_2.head(20))\n",
    "combine_v2_result = combine_v2['result'].tolist()\n",
    "combine_v2_hyps = combine_v2['new_hyps'].tolist()\n",
    "combine_v2_truth = [int(i) for i in combine_v2['truth'].tolist()]\n",
    "print(classification_report(combine_v2_truth, combine_v2_result, target_names=target_names))\n",
    "tn, fp, fn, tp = confusion_matrix(combine_v2_truth, combine_v2_result).ravel()\n",
    "print('sensitivuty: ',tp / (fn+tp))\n",
    "print('specificity: ',tn / (fp+tn))\n",
    "\n",
    "fpr, tpr, thresholds = metrics.roc_curve(np.array(combine_v2_truth), np.array(combine_v2_hyps), pos_label=1)\n",
    "print('AUC: ',metrics.auc(fpr, tpr))\n",
    "fpr1, tpr1, thresholds1 = metrics.roc_curve(np.array(combine_v2_truth[0:19]), np.array(combine_v2_hyps[0:19]), pos_label=1)\n",
    "auc1 = metrics.auc(fpr1, tpr1)\n",
    "fpr2, tpr2, thresholds2 = metrics.roc_curve(np.array(combine_v2_truth[19:37]), np.array(combine_v2_hyps[19:37]), pos_label=1)\n",
    "auc2 = metrics.auc(fpr2, tpr2)\n",
    "fpr3, tpr3, thresholds3 = metrics.roc_curve(np.array(combine_v2_truth[37:54]), np.array(combine_v2_hyps[37:54]), pos_label=1)\n",
    "auc3 = metrics.auc(fpr3, tpr3)\n",
    "fpr4, tpr4, thresholds4 = metrics.roc_curve(np.array(combine_v2_truth[54:71]), np.array(combine_v2_hyps[54:71]), pos_label=1)\n",
    "auc4 = metrics.auc(fpr4, tpr4)\n",
    "fpr5, tpr5, thresholds5 = metrics.roc_curve(np.array(combine_v2_truth[71:88]), np.array(combine_v2_hyps[71:88]), pos_label=1)\n",
    "auc5 = metrics.auc(fpr5, tpr5)\n",
    "print('AUC: ', auc1, auc2, auc3, auc4, auc5)\n",
    "print(\"AUC_avg: \", (auc1+auc2+auc3+auc4+auc5)/5)\n",
    "\n",
    "y_test = [bool(int(x)) for x in combine_v2_truth]\n",
    "y_pred = [bool(int(x)) for x in combine_v2_result]\n",
    "ConfusionMatrixDisplay.from_predictions(y_test, y_pred, cmap=\"Blues\")"
   ]
  },
  {
   "cell_type": "markdown",
   "id": "b5a903b7",
   "metadata": {},
   "source": [
    "### 1, 2"
   ]
  },
  {
   "cell_type": "code",
   "execution_count": 59,
   "id": "cd0646af",
   "metadata": {},
   "outputs": [
    {
     "name": "stdout",
     "output_type": "stream",
     "text": [
      "        hyps  truth  result  ifcorrect\n",
      "0   0.525503      0       1      False\n",
      "2   0.831158      0       1      False\n",
      "5   0.912177      0       1      False\n",
      "7   0.186084      1       0      False\n",
      "10  0.737676      0       1      False\n",
      "22  0.436752      1       0      False\n",
      "24  0.437727      1       0      False\n",
      "41  0.309832      1       0      False\n",
      "42  0.376846      1       0      False\n",
      "45  0.575882      0       1      False\n",
      "46  0.080612      1       0      False\n",
      "71  0.399034      1       0      False\n",
      "              precision    recall  f1-score   support\n",
      "\n",
      " non-patient       0.89      0.92      0.90        60\n",
      "     patient       0.81      0.75      0.78        28\n",
      "\n",
      "    accuracy                           0.86        88\n",
      "   macro avg       0.85      0.83      0.84        88\n",
      "weighted avg       0.86      0.86      0.86        88\n",
      "\n",
      "sensitivuty:  0.75\n",
      "specificity:  0.9166666666666666\n",
      "AUC:  0.7666666666666666 1.0 0.8939393939393939 1.0 1.0\n",
      "AUC_avg:  0.932121212121212\n"
     ]
    },
    {
     "data": {
      "text/plain": [
       "<sklearn.metrics._plot.confusion_matrix.ConfusionMatrixDisplay at 0x1e45756bbb0>"
      ]
     },
     "execution_count": 59,
     "metadata": {},
     "output_type": "execute_result"
    },
    {
     "data": {
      "image/png": "[encoded data removed]",
      "text/plain": [
       "<Figure size 640x480 with 2 Axes>"
      ]
     },
     "metadata": {},
     "output_type": "display_data"
    }
   ],
   "source": [
    "# for 1, 2\n",
    "whisper_v2_15k = pd.read_csv('whisper-WhisperForAudioClassification-v2-15k_2.csv')\n",
    "bert_v2_15k = pd.read_csv('bert-v2-15k-mean4.csv')\n",
    "llama_v2 = pd.read_csv('llama-v2.csv')\n",
    "\n",
    "w_w = 0.74\n",
    "b_w = 0.87\n",
    "l_w = 0.80\n",
    "weighted = w_w + b_w \n",
    "combine = pd.DataFrame()\n",
    "# combine['hyps'] = whisper_v2_15k['hyps']*w_w/weighted + bert_v2_15k['hyps']*b_w/weighted\n",
    "combine['hyps'] = (whisper_v2_15k['hyps'] + bert_v2_15k['hyps']) / 2\n",
    "combine['truth'] = whisper_v2_15k['truth'].astype(int)\n",
    "combine['result'] = np.where(combine['hyps'] >= 0.5,1,0)\n",
    "combine['ifcorrect'] = combine['result'] == combine['truth']\n",
    "# combine\n",
    "combine_wrong = combine.iloc[np.where(combine['ifcorrect'] == False)]\n",
    "print(combine_wrong)\n",
    "# print(fivefolds_with10separate_10k.head(20))\n",
    "combine_result = combine['result'].tolist()\n",
    "combine_hyps = combine['hyps'].tolist()\n",
    "combine_truth = [int(i) for i in combine['truth'].tolist()]\n",
    "print(classification_report(combine_truth, combine_result, target_names=target_names))\n",
    "tn, fp, fn, tp = confusion_matrix(combine_truth, combine_result).ravel()\n",
    "print('sensitivuty: ',tp / (fn+tp))\n",
    "print('specificity: ',tn / (fp+tn))\n",
    "\n",
    "# fpr, tpr, thresholds = metrics.roc_curve(np.array(fivefolds_bert_v2_15k_mean4_truth), np.array(fivefolds_bert_v2_15k_mean4_hyps), pos_label=1)\n",
    "# print('AUC: ',metrics.auc(fpr, tpr))\n",
    "fpr1, tpr1, thresholds1 = metrics.roc_curve(np.array(combine_truth[0:19]), np.array(combine_hyps[0:19]), pos_label=1)\n",
    "auc1 = metrics.auc(fpr1, tpr1)\n",
    "fpr2, tpr2, thresholds2 = metrics.roc_curve(np.array(combine_truth[19:37]), np.array(combine_hyps[19:37]), pos_label=1)\n",
    "auc2 = metrics.auc(fpr2, tpr2)\n",
    "fpr3, tpr3, thresholds3 = metrics.roc_curve(np.array(combine_truth[37:54]), np.array(combine_hyps[37:54]), pos_label=1)\n",
    "auc3 = metrics.auc(fpr3, tpr3)\n",
    "fpr4, tpr4, thresholds4 = metrics.roc_curve(np.array(combine_truth[54:71]), np.array(combine_hyps[54:71]), pos_label=1)\n",
    "auc4 = metrics.auc(fpr4, tpr4)\n",
    "fpr5, tpr5, thresholds5 = metrics.roc_curve(np.array(combine_truth[71:88]), np.array(combine_hyps[71:88]), pos_label=1)\n",
    "auc5 = metrics.auc(fpr5, tpr5)\n",
    "print('AUC: ', auc1, auc2, auc3, auc4, auc5)\n",
    "print(\"AUC_avg: \", (auc1+auc2+auc3+auc4+auc5)/5)\n",
    "\n",
    "y_test = [bool(int(x)) for x in combine_truth]\n",
    "y_pred = [bool(int(x)) for x in combine_result]\n",
    "ConfusionMatrixDisplay.from_predictions(y_test, y_pred, cmap=\"Blues\")"
   ]
  },
  {
   "cell_type": "code",
   "execution_count": 60,
   "id": "b3b6cbbc",
   "metadata": {},
   "outputs": [
    {
     "name": "stdout",
     "output_type": "stream",
     "text": [
      "        hyps  truth  result  ifcorrect  new_pre  new_hyps\n",
      "0   0.525503      0       1      False        1  0.645020\n",
      "1   0.914368      1       1       True        1  0.999984\n",
      "2   0.831158      0       1      False        1  0.992673\n",
      "3   0.286635      0       0       True        0  0.061465\n",
      "4   0.808670      1       1       True        1  0.989966\n",
      "..       ...    ...     ...        ...      ...       ...\n",
      "83  0.043454      0       0       True        0  0.003164\n",
      "84  0.056675      0       0       True        0  0.003783\n",
      "85  0.211641      0       0       True        0  0.030547\n",
      "86  0.175692      0       0       True        0  0.018848\n",
      "87  0.111195      0       0       True        0  0.007898\n",
      "\n",
      "[88 rows x 6 columns]\n"
     ]
    }
   ],
   "source": [
    "from sklearn.svm import SVC\n",
    "from sklearn.pipeline import make_pipeline\n",
    "from sklearn.preprocessing import StandardScaler\n",
    "\n",
    "test_1 = combine_hyps[0:19]\n",
    "test_2 = combine_hyps[19:37]\n",
    "test_3 = combine_hyps[37:54]\n",
    "test_4 = combine_hyps[54:71]\n",
    "test_5 = combine_hyps[71:88]\n",
    "\n",
    "train_1 = combine_hyps[19:88]\n",
    "train_2 = combine_hyps[0:19] + combine_hyps[37:88]\n",
    "train_3 = combine_hyps[0:37] + combine_hyps[54:88]\n",
    "train_4 = combine_hyps[0:54] + combine_hyps[71:88]\n",
    "train_5 = combine_hyps[0:19]\n",
    "\n",
    "idx = [0, 19, 37, 54, 71, 88]\n",
    "\n",
    "for i in range(5):\n",
    "    svc = SVC(kernel='linear', probability=True, random_state=0)\n",
    "    clf = make_pipeline(StandardScaler(), svc)\n",
    "    # Fit the model to the data\n",
    "\n",
    "    train = np.array(combine_hyps[0:idx[i]]+combine_hyps[idx[i+1]:88]).reshape(-1, 1)\n",
    "    t_tra = np.array(combine_result[0:idx[i]]+combine_result[idx[i+1]:88]).reshape(-1, 1)\n",
    "    valid = np.array(combine_hyps[idx[i]:idx[i+1]]).reshape(-1, 1)\n",
    "    t_val = np.array(combine_result[idx[i]:idx[i+1]]).reshape(-1, 1)\n",
    "    # print(train.shape, valid.shape)\n",
    "\n",
    "    clf.fit(train, t_tra.ravel())\n",
    "    # print(train, t_tra)\n",
    "    #         print(reg.coef_)\n",
    "    y_predicted = clf.predict(train)\n",
    "    #         loss = mean_squared_error(t_tra, y_predicted)\n",
    "    y_predicted_val = clf.predict(valid)\n",
    "    y_predicted_val_pro = clf.predict_proba(valid)\n",
    "    y_predicted_val_pro = [row[1] for row in y_predicted_val_pro]\n",
    "\n",
    "    if  i == 0:\n",
    "        new_pre = y_predicted_val\n",
    "        new_pre_hys = y_predicted_val_pro\n",
    "    else:\n",
    "        new_pre = np.concatenate((new_pre, y_predicted_val))\n",
    "        new_pre_hys = np.concatenate((new_pre_hys, y_predicted_val_pro))\n",
    "    \n",
    "# new_pre = new_pre.reshape(-1, 1)\n",
    "# print(new_pre.shape, new_pre_hys.shape)\n",
    "\n",
    "new_df = pd.DataFrame(new_pre, columns=['new_pre'])\n",
    "new_h_df = pd.DataFrame(new_pre_hys, columns=['new_hyps'])\n",
    "combine = pd.concat([combine, new_df, new_h_df], axis=1)\n",
    "combine.to_csv(f'combine-v2.csv', index=False) \n",
    "print(combine)"
   ]
  },
  {
   "cell_type": "code",
   "execution_count": 61,
   "id": "8db9fb90",
   "metadata": {},
   "outputs": [
    {
     "name": "stdout",
     "output_type": "stream",
     "text": [
      "        hyps  truth  result  ifcorrect  new_pre  new_hyps\n",
      "0   0.525503      0       1      False        1  0.645020\n",
      "2   0.831158      0       1      False        1  0.992673\n",
      "5   0.912177      0       1      False        1  0.999983\n",
      "7   0.186084      1       0      False        0  0.015119\n",
      "10  0.737676      0       1      False        1  0.973161\n",
      "22  0.436752      1       0      False        0  0.388217\n",
      "24  0.437727      1       0      False        0  0.391224\n",
      "41  0.309832      1       0      False        0  0.099372\n",
      "42  0.376846      1       0      False        0  0.204922\n",
      "45  0.575882      0       1      False        1  0.762064\n",
      "46  0.080612      1       0      False        0  0.006058\n",
      "71  0.399034      1       0      False        0  0.278291\n",
      "              precision    recall  f1-score   support\n",
      "\n",
      " non-patient       0.89      0.92      0.90        60\n",
      "     patient       0.81      0.75      0.78        28\n",
      "\n",
      "    accuracy                           0.86        88\n",
      "   macro avg       0.85      0.83      0.84        88\n",
      "weighted avg       0.86      0.86      0.86        88\n",
      "\n",
      "sensitivuty:  0.75\n",
      "specificity:  0.9166666666666666\n",
      "AUC:  0.9190476190476191\n",
      "AUC:  0.7666666666666666 1.0 0.8939393939393939 1.0 1.0\n",
      "AUC_avg:  0.932121212121212\n"
     ]
    },
    {
     "data": {
      "text/plain": [
       "<sklearn.metrics._plot.confusion_matrix.ConfusionMatrixDisplay at 0x1e45736efa0>"
      ]
     },
     "execution_count": 61,
     "metadata": {},
     "output_type": "execute_result"
    },
    {
     "data": {
      "image/png": "[encoded data removed]",
      "text/plain": [
       "<Figure size 640x480 with 2 Axes>"
      ]
     },
     "metadata": {},
     "output_type": "display_data"
    }
   ],
   "source": [
    "# combine_v2\n",
    "combine_v2 = pd.read_csv('combine-v2.csv')\n",
    "combine_v2['result'] = combine_v2['new_pre']\n",
    "fivefolds_bert_v3_15k_wrong = combine_v2.iloc[np.where(combine_v2['ifcorrect'] == False)]\n",
    "print(fivefolds_bert_v3_15k_wrong)\n",
    "# print(fivefolds_whisper_WhisperForAudioClassification_v3_10k_2.head(20))\n",
    "combine_v2_result = combine_v2['result'].tolist()\n",
    "combine_v2_hyps = combine_v2['new_hyps'].tolist()\n",
    "combine_v2_truth = [int(i) for i in combine_v2['truth'].tolist()]\n",
    "print(classification_report(combine_v2_truth, combine_v2_result, target_names=target_names))\n",
    "tn, fp, fn, tp = confusion_matrix(combine_v2_truth, combine_v2_result).ravel()\n",
    "print('sensitivuty: ',tp / (fn+tp))\n",
    "print('specificity: ',tn / (fp+tn))\n",
    "\n",
    "fpr, tpr, thresholds = metrics.roc_curve(np.array(combine_v2_truth), np.array(combine_v2_hyps), pos_label=1)\n",
    "print('AUC: ',metrics.auc(fpr, tpr))\n",
    "fpr1, tpr1, thresholds1 = metrics.roc_curve(np.array(combine_v2_truth[0:19]), np.array(combine_v2_hyps[0:19]), pos_label=1)\n",
    "auc1 = metrics.auc(fpr1, tpr1)\n",
    "fpr2, tpr2, thresholds2 = metrics.roc_curve(np.array(combine_v2_truth[19:37]), np.array(combine_v2_hyps[19:37]), pos_label=1)\n",
    "auc2 = metrics.auc(fpr2, tpr2)\n",
    "fpr3, tpr3, thresholds3 = metrics.roc_curve(np.array(combine_v2_truth[37:54]), np.array(combine_v2_hyps[37:54]), pos_label=1)\n",
    "auc3 = metrics.auc(fpr3, tpr3)\n",
    "fpr4, tpr4, thresholds4 = metrics.roc_curve(np.array(combine_v2_truth[54:71]), np.array(combine_v2_hyps[54:71]), pos_label=1)\n",
    "auc4 = metrics.auc(fpr4, tpr4)\n",
    "fpr5, tpr5, thresholds5 = metrics.roc_curve(np.array(combine_v2_truth[71:88]), np.array(combine_v2_hyps[71:88]), pos_label=1)\n",
    "auc5 = metrics.auc(fpr5, tpr5)\n",
    "print('AUC: ', auc1, auc2, auc3, auc4, auc5)\n",
    "print(\"AUC_avg: \", (auc1+auc2+auc3+auc4+auc5)/5)\n",
    "\n",
    "y_test = [bool(int(x)) for x in combine_v2_truth]\n",
    "y_pred = [bool(int(x)) for x in combine_v2_result]\n",
    "ConfusionMatrixDisplay.from_predictions(y_test, y_pred, cmap=\"Blues\")"
   ]
  },
  {
   "cell_type": "markdown",
   "id": "b721f032",
   "metadata": {},
   "source": [
    "### 2, 3"
   ]
  },
  {
   "cell_type": "code",
   "execution_count": 62,
   "id": "bb34e8d5",
   "metadata": {},
   "outputs": [
    {
     "name": "stdout",
     "output_type": "stream",
     "text": [
      "        hyps  truth  result  ifcorrect\n",
      "0   0.629925      0       1      False\n",
      "2   0.923303      0       1      False\n",
      "5   0.769516      0       1      False\n",
      "7   0.226393      1       0      False\n",
      "10  0.792338      0       1      False\n",
      "24  0.464870      1       0      False\n",
      "37  0.465854      1       0      False\n",
      "41  0.365116      1       0      False\n",
      "42  0.349555      1       0      False\n",
      "45  0.727583      0       1      False\n",
      "46  0.168171      1       0      False\n",
      "47  0.491987      1       0      False\n",
      "62  0.451067      1       0      False\n",
      "71  0.397729      1       0      False\n",
      "              precision    recall  f1-score   support\n",
      "\n",
      " non-patient       0.86      0.92      0.89        60\n",
      "     patient       0.79      0.68      0.73        28\n",
      "\n",
      "    accuracy                           0.84        88\n",
      "   macro avg       0.83      0.80      0.81        88\n",
      "weighted avg       0.84      0.84      0.84        88\n",
      "\n",
      "sensitivuty:  0.6785714285714286\n",
      "specificity:  0.9166666666666666\n",
      "AUC:  0.7166666666666667 1.0 0.8333333333333333 1.0 1.0\n",
      "AUC_avg:  0.9099999999999999\n"
     ]
    },
    {
     "data": {
      "text/plain": [
       "<sklearn.metrics._plot.confusion_matrix.ConfusionMatrixDisplay at 0x1e457557af0>"
      ]
     },
     "execution_count": 62,
     "metadata": {},
     "output_type": "execute_result"
    },
    {
     "data": {
      "image/png": "[encoded data removed]",
      "text/plain": [
       "<Figure size 640x480 with 2 Axes>"
      ]
     },
     "metadata": {},
     "output_type": "display_data"
    }
   ],
   "source": [
    "# for 2, 3\n",
    "whisper_v2_15k = pd.read_csv('whisper-WhisperForAudioClassification-v2-15k_2.csv')\n",
    "bert_v2_15k = pd.read_csv('bert-v2-15k-mean4.csv')\n",
    "llama_v2 = pd.read_csv('llama-v2.csv')\n",
    "\n",
    "w_w = 0.74\n",
    "b_w = 0.87\n",
    "l_w = 0.80\n",
    "weighted = b_w + l_w\n",
    "combine = pd.DataFrame()\n",
    "# combine['hyps'] = bert_v2_15k['hyps']*b_w/weighted + llama_v2['hyps']*l_w/weighted\n",
    "combine['hyps'] = (bert_v2_15k['hyps'] + llama_v2['hyps']) / 2\n",
    "combine['truth'] = whisper_v2_15k['truth'].astype(int)\n",
    "combine['result'] = np.where(combine['hyps'] >= 0.5,1,0)\n",
    "combine['ifcorrect'] = combine['result'] == combine['truth']\n",
    "# combine\n",
    "combine_wrong = combine.iloc[np.where(combine['ifcorrect'] == False)]\n",
    "print(combine_wrong)\n",
    "# print(fivefolds_with10separate_10k.head(20))\n",
    "combine_result = combine['result'].tolist()\n",
    "combine_hyps = combine['hyps'].tolist()\n",
    "combine_truth = [int(i) for i in combine['truth'].tolist()]\n",
    "print(classification_report(combine_truth, combine_result, target_names=target_names))\n",
    "tn, fp, fn, tp = confusion_matrix(combine_truth, combine_result).ravel()\n",
    "print('sensitivuty: ',tp / (fn+tp))\n",
    "print('specificity: ',tn / (fp+tn))\n",
    "\n",
    "# fpr, tpr, thresholds = metrics.roc_curve(np.array(fivefolds_bert_v2_15k_mean4_truth), np.array(fivefolds_bert_v2_15k_mean4_hyps), pos_label=1)\n",
    "# print('AUC: ',metrics.auc(fpr, tpr))\n",
    "fpr1, tpr1, thresholds1 = metrics.roc_curve(np.array(combine_truth[0:19]), np.array(combine_hyps[0:19]), pos_label=1)\n",
    "auc1 = metrics.auc(fpr1, tpr1)\n",
    "fpr2, tpr2, thresholds2 = metrics.roc_curve(np.array(combine_truth[19:37]), np.array(combine_hyps[19:37]), pos_label=1)\n",
    "auc2 = metrics.auc(fpr2, tpr2)\n",
    "fpr3, tpr3, thresholds3 = metrics.roc_curve(np.array(combine_truth[37:54]), np.array(combine_hyps[37:54]), pos_label=1)\n",
    "auc3 = metrics.auc(fpr3, tpr3)\n",
    "fpr4, tpr4, thresholds4 = metrics.roc_curve(np.array(combine_truth[54:71]), np.array(combine_hyps[54:71]), pos_label=1)\n",
    "auc4 = metrics.auc(fpr4, tpr4)\n",
    "fpr5, tpr5, thresholds5 = metrics.roc_curve(np.array(combine_truth[71:88]), np.array(combine_hyps[71:88]), pos_label=1)\n",
    "auc5 = metrics.auc(fpr5, tpr5)\n",
    "print('AUC: ', auc1, auc2, auc3, auc4, auc5)\n",
    "print(\"AUC_avg: \", (auc1+auc2+auc3+auc4+auc5)/5)\n",
    "\n",
    "y_test = [bool(int(x)) for x in combine_truth]\n",
    "y_pred = [bool(int(x)) for x in combine_result]\n",
    "ConfusionMatrixDisplay.from_predictions(y_test, y_pred, cmap=\"Blues\")"
   ]
  },
  {
   "cell_type": "code",
   "execution_count": 63,
   "id": "6a53d531",
   "metadata": {},
   "outputs": [
    {
     "name": "stdout",
     "output_type": "stream",
     "text": [
      "        hyps  truth  result  ifcorrect  new_pre  new_hyps\n",
      "0   0.629925      0       1      False        1  0.887720\n",
      "1   0.729365      1       1       True        1  0.974890\n",
      "2   0.923303      0       1      False        1  0.999996\n",
      "3   0.184282      0       0       True        0  0.006276\n",
      "4   0.696518      1       1       True        1  0.958255\n",
      "..       ...    ...     ...        ...      ...       ...\n",
      "83  0.164282      0       0       True        0  0.004484\n",
      "84  0.102525      0       0       True        0  0.001731\n",
      "85  0.144465      0       0       True        0  0.003304\n",
      "86  0.178538      0       0       True        0  0.005585\n",
      "87  0.099069      0       0       True        0  0.001641\n",
      "\n",
      "[88 rows x 6 columns]\n"
     ]
    }
   ],
   "source": [
    "from sklearn.svm import SVC\n",
    "from sklearn.pipeline import make_pipeline\n",
    "from sklearn.preprocessing import StandardScaler\n",
    "\n",
    "test_1 = combine_hyps[0:19]\n",
    "test_2 = combine_hyps[19:37]\n",
    "test_3 = combine_hyps[37:54]\n",
    "test_4 = combine_hyps[54:71]\n",
    "test_5 = combine_hyps[71:88]\n",
    "\n",
    "train_1 = combine_hyps[19:88]\n",
    "train_2 = combine_hyps[0:19] + combine_hyps[37:88]\n",
    "train_3 = combine_hyps[0:37] + combine_hyps[54:88]\n",
    "train_4 = combine_hyps[0:54] + combine_hyps[71:88]\n",
    "train_5 = combine_hyps[0:19]\n",
    "\n",
    "idx = [0, 19, 37, 54, 71, 88]\n",
    "\n",
    "for i in range(5):\n",
    "    svc = SVC(kernel='linear', probability=True, random_state=0)\n",
    "    clf = make_pipeline(StandardScaler(), svc)\n",
    "    # Fit the model to the data\n",
    "\n",
    "    train = np.array(combine_hyps[0:idx[i]]+combine_hyps[idx[i+1]:88]).reshape(-1, 1)\n",
    "    t_tra = np.array(combine_result[0:idx[i]]+combine_result[idx[i+1]:88]).reshape(-1, 1)\n",
    "    valid = np.array(combine_hyps[idx[i]:idx[i+1]]).reshape(-1, 1)\n",
    "    t_val = np.array(combine_result[idx[i]:idx[i+1]]).reshape(-1, 1)\n",
    "    # print(train.shape, valid.shape)\n",
    "\n",
    "    clf.fit(train, t_tra.ravel())\n",
    "    # print(train, t_tra)\n",
    "    #         print(reg.coef_)\n",
    "    y_predicted = clf.predict(train)\n",
    "    #         loss = mean_squared_error(t_tra, y_predicted)\n",
    "    y_predicted_val = clf.predict(valid)\n",
    "    y_predicted_val_pro = clf.predict_proba(valid)\n",
    "    y_predicted_val_pro = [row[1] for row in y_predicted_val_pro]\n",
    "\n",
    "    if  i == 0:\n",
    "        new_pre = y_predicted_val\n",
    "        new_pre_hys = y_predicted_val_pro\n",
    "    else:\n",
    "        new_pre = np.concatenate((new_pre, y_predicted_val))\n",
    "        new_pre_hys = np.concatenate((new_pre_hys, y_predicted_val_pro))\n",
    "    \n",
    "# new_pre = new_pre.reshape(-1, 1)\n",
    "# print(new_pre.shape, new_pre_hys.shape)\n",
    "\n",
    "new_df = pd.DataFrame(new_pre, columns=['new_pre'])\n",
    "new_h_df = pd.DataFrame(new_pre_hys, columns=['new_hyps'])\n",
    "combine = pd.concat([combine, new_df, new_h_df], axis=1)\n",
    "combine.to_csv(f'combine-v2.csv', index=False) \n",
    "print(combine)"
   ]
  },
  {
   "cell_type": "code",
   "execution_count": 64,
   "id": "77a30243",
   "metadata": {},
   "outputs": [
    {
     "name": "stdout",
     "output_type": "stream",
     "text": [
      "        hyps  truth  result  ifcorrect  new_pre  new_hyps\n",
      "0   0.629925      0       1      False        1  0.887720\n",
      "2   0.923303      0       1      False        1  0.999996\n",
      "5   0.769516      0       1      False        1  0.986637\n",
      "7   0.226393      1       0      False        0  0.012312\n",
      "10  0.792338      0       1      False        1  0.990689\n",
      "24  0.464870      1       0      False        0  0.355643\n",
      "37  0.465854      1       0      False        0  0.422728\n",
      "41  0.365116      1       0      False        0  0.109580\n",
      "42  0.349555      1       0      False        0  0.085458\n",
      "45  0.727583      0       1      False        1  0.986859\n",
      "46  0.168171      1       0      False        0  0.003773\n",
      "47  0.491987      1       1      False        1  0.537417\n",
      "62  0.451067      1       0      False        0  0.284508\n",
      "71  0.397729      1       0      False        0  0.140778\n",
      "              precision    recall  f1-score   support\n",
      "\n",
      " non-patient       0.87      0.92      0.89        60\n",
      "     patient       0.80      0.71      0.75        28\n",
      "\n",
      "    accuracy                           0.85        88\n",
      "   macro avg       0.84      0.82      0.82        88\n",
      "weighted avg       0.85      0.85      0.85        88\n",
      "\n",
      "sensitivuty:  0.7142857142857143\n",
      "specificity:  0.9166666666666666\n",
      "AUC:  0.8940476190476191\n",
      "AUC:  0.7166666666666667 1.0 0.8333333333333333 1.0 1.0\n",
      "AUC_avg:  0.9099999999999999\n"
     ]
    },
    {
     "data": {
      "text/plain": [
       "<sklearn.metrics._plot.confusion_matrix.ConfusionMatrixDisplay at 0x1e4587fe220>"
      ]
     },
     "execution_count": 64,
     "metadata": {},
     "output_type": "execute_result"
    },
    {
     "data": {
      "image/png": "[encoded data removed]",
      "text/plain": [
       "<Figure size 640x480 with 2 Axes>"
      ]
     },
     "metadata": {},
     "output_type": "display_data"
    }
   ],
   "source": [
    "# combine_v2\n",
    "combine_v2 = pd.read_csv('combine-v2.csv')\n",
    "combine_v2['result'] = combine_v2['new_pre']\n",
    "fivefolds_bert_v3_15k_wrong = combine_v2.iloc[np.where(combine_v2['ifcorrect'] == False)]\n",
    "print(fivefolds_bert_v3_15k_wrong)\n",
    "# print(fivefolds_whisper_WhisperForAudioClassification_v3_10k_2.head(20))\n",
    "combine_v2_result = combine_v2['result'].tolist()\n",
    "combine_v2_hyps = combine_v2['new_hyps'].tolist()\n",
    "combine_v2_truth = [int(i) for i in combine_v2['truth'].tolist()]\n",
    "print(classification_report(combine_v2_truth, combine_v2_result, target_names=target_names))\n",
    "tn, fp, fn, tp = confusion_matrix(combine_v2_truth, combine_v2_result).ravel()\n",
    "print('sensitivuty: ',tp / (fn+tp))\n",
    "print('specificity: ',tn / (fp+tn))\n",
    "\n",
    "fpr, tpr, thresholds = metrics.roc_curve(np.array(combine_v2_truth), np.array(combine_v2_hyps), pos_label=1)\n",
    "print('AUC: ',metrics.auc(fpr, tpr))\n",
    "fpr1, tpr1, thresholds1 = metrics.roc_curve(np.array(combine_v2_truth[0:19]), np.array(combine_v2_hyps[0:19]), pos_label=1)\n",
    "auc1 = metrics.auc(fpr1, tpr1)\n",
    "fpr2, tpr2, thresholds2 = metrics.roc_curve(np.array(combine_v2_truth[19:37]), np.array(combine_v2_hyps[19:37]), pos_label=1)\n",
    "auc2 = metrics.auc(fpr2, tpr2)\n",
    "fpr3, tpr3, thresholds3 = metrics.roc_curve(np.array(combine_v2_truth[37:54]), np.array(combine_v2_hyps[37:54]), pos_label=1)\n",
    "auc3 = metrics.auc(fpr3, tpr3)\n",
    "fpr4, tpr4, thresholds4 = metrics.roc_curve(np.array(combine_v2_truth[54:71]), np.array(combine_v2_hyps[54:71]), pos_label=1)\n",
    "auc4 = metrics.auc(fpr4, tpr4)\n",
    "fpr5, tpr5, thresholds5 = metrics.roc_curve(np.array(combine_v2_truth[71:88]), np.array(combine_v2_hyps[71:88]), pos_label=1)\n",
    "auc5 = metrics.auc(fpr5, tpr5)\n",
    "print('AUC: ', auc1, auc2, auc3, auc4, auc5)\n",
    "print(\"AUC_avg: \", (auc1+auc2+auc3+auc4+auc5)/5)\n",
    "\n",
    "y_test = [bool(int(x)) for x in combine_v2_truth]\n",
    "y_pred = [bool(int(x)) for x in combine_v2_result]\n",
    "ConfusionMatrixDisplay.from_predictions(y_test, y_pred, cmap=\"Blues\")"
   ]
  },
  {
   "cell_type": "markdown",
   "id": "0500a15e",
   "metadata": {},
   "source": [
    "### 1,3"
   ]
  },
  {
   "cell_type": "code",
   "execution_count": 65,
   "id": "873e44a4",
   "metadata": {},
   "outputs": [
    {
     "name": "stdout",
     "output_type": "stream",
     "text": [
      "        hyps  truth  result  ifcorrect\n",
      "2   0.850875      0       1      False\n",
      "5   0.704612      0       1      False\n",
      "7   0.303405      1       0      False\n",
      "8   0.452771      1       0      False\n",
      "10  0.658045      0       1      False\n",
      "16  0.554817      0       1      False\n",
      "19  0.336585      1       0      False\n",
      "20  0.450389      1       0      False\n",
      "22  0.375024      1       0      False\n",
      "23  0.467692      1       0      False\n",
      "24  0.111843      1       0      False\n",
      "25  0.407196      1       0      False\n",
      "27  0.452958      1       0      False\n",
      "37  0.153153      1       0      False\n",
      "39  0.315608      1       0      False\n",
      "41  0.196779      1       0      False\n",
      "42  0.310086      1       0      False\n",
      "45  0.569031      0       1      False\n",
      "46  0.164504      1       0      False\n",
      "55  0.432139      1       0      False\n",
      "62  0.347794      1       0      False\n",
      "70  0.291589      1       0      False\n",
      "71  0.346183      1       0      False\n",
      "75  0.468244      1       0      False\n",
      "79  0.310461      1       0      False\n",
      "              precision    recall  f1-score   support\n",
      "\n",
      " non-patient       0.73      0.92      0.81        60\n",
      "     patient       0.62      0.29      0.39        28\n",
      "\n",
      "    accuracy                           0.72        88\n",
      "   macro avg       0.67      0.60      0.60        88\n",
      "weighted avg       0.70      0.72      0.68        88\n",
      "\n",
      "sensitivuty:  0.2857142857142857\n",
      "specificity:  0.9166666666666666\n",
      "AUC:  0.7333333333333334 0.9000000000000001 0.7272727272727272 0.8833333333333333 0.8166666666666667\n",
      "AUC_avg:  0.8121212121212121\n"
     ]
    },
    {
     "data": {
      "text/plain": [
       "<sklearn.metrics._plot.confusion_matrix.ConfusionMatrixDisplay at 0x1e457394520>"
      ]
     },
     "execution_count": 65,
     "metadata": {},
     "output_type": "execute_result"
    },
    {
     "data": {
      "image/png": "[encoded data removed]",
      "text/plain": [
       "<Figure size 640x480 with 2 Axes>"
      ]
     },
     "metadata": {},
     "output_type": "display_data"
    }
   ],
   "source": [
    "# for 1, 3\n",
    "whisper_v2_15k = pd.read_csv('whisper-WhisperForAudioClassification-v2-15k_2.csv')\n",
    "bert_v2_15k = pd.read_csv('bert-v2-15k-mean4.csv')\n",
    "llama_v2 = pd.read_csv('llama-v2.csv')\n",
    "\n",
    "w_w = 0.74\n",
    "b_w = 0.87\n",
    "l_w = 0.80\n",
    "weighted = w_w + l_w\n",
    "combine = pd.DataFrame()\n",
    "# combine['hyps'] = whisper_v2_15k['hyps']*w_w/weighted + llama_v2['hyps']*l_w/weighted\n",
    "combine['hyps'] = (whisper_v2_15k['hyps'] + llama_v2['hyps']) / 2\n",
    "combine['truth'] = whisper_v2_15k['truth'].astype(int)\n",
    "combine['result'] = np.where(combine['hyps'] >= 0.5,1,0)\n",
    "combine['ifcorrect'] = combine['result'] == combine['truth']\n",
    "# combine\n",
    "combine_wrong = combine.iloc[np.where(combine['ifcorrect'] == False)]\n",
    "print(combine_wrong)\n",
    "# print(fivefolds_with10separate_10k.head(20))\n",
    "combine_result = combine['result'].tolist()\n",
    "combine_hyps = combine['hyps'].tolist()\n",
    "combine_truth = [int(i) for i in combine['truth'].tolist()]\n",
    "print(classification_report(combine_truth, combine_result, target_names=target_names))\n",
    "tn, fp, fn, tp = confusion_matrix(combine_truth, combine_result).ravel()\n",
    "print('sensitivuty: ',tp / (fn+tp))\n",
    "print('specificity: ',tn / (fp+tn))\n",
    "\n",
    "# fpr, tpr, thresholds = metrics.roc_curve(np.array(fivefolds_bert_v2_15k_mean4_truth), np.array(fivefolds_bert_v2_15k_mean4_hyps), pos_label=1)\n",
    "# print('AUC: ',metrics.auc(fpr, tpr))\n",
    "fpr1, tpr1, thresholds1 = metrics.roc_curve(np.array(combine_truth[0:19]), np.array(combine_hyps[0:19]), pos_label=1)\n",
    "auc1 = metrics.auc(fpr1, tpr1)\n",
    "fpr2, tpr2, thresholds2 = metrics.roc_curve(np.array(combine_truth[19:37]), np.array(combine_hyps[19:37]), pos_label=1)\n",
    "auc2 = metrics.auc(fpr2, tpr2)\n",
    "fpr3, tpr3, thresholds3 = metrics.roc_curve(np.array(combine_truth[37:54]), np.array(combine_hyps[37:54]), pos_label=1)\n",
    "auc3 = metrics.auc(fpr3, tpr3)\n",
    "fpr4, tpr4, thresholds4 = metrics.roc_curve(np.array(combine_truth[54:71]), np.array(combine_hyps[54:71]), pos_label=1)\n",
    "auc4 = metrics.auc(fpr4, tpr4)\n",
    "fpr5, tpr5, thresholds5 = metrics.roc_curve(np.array(combine_truth[71:88]), np.array(combine_hyps[71:88]), pos_label=1)\n",
    "auc5 = metrics.auc(fpr5, tpr5)\n",
    "print('AUC: ', auc1, auc2, auc3, auc4, auc5)\n",
    "print(\"AUC_avg: \", (auc1+auc2+auc3+auc4+auc5)/5)\n",
    "\n",
    "y_test = [bool(int(x)) for x in combine_truth]\n",
    "y_pred = [bool(int(x)) for x in combine_result]\n",
    "ConfusionMatrixDisplay.from_predictions(y_test, y_pred, cmap=\"Blues\")"
   ]
  },
  {
   "cell_type": "code",
   "execution_count": 66,
   "id": "47030e0f",
   "metadata": {},
   "outputs": [
    {
     "name": "stdout",
     "output_type": "stream",
     "text": [
      "        hyps  truth  result  ifcorrect  new_pre  new_hyps\n",
      "0   0.375327      0       0       True        0  0.039765\n",
      "1   0.705836      1       1       True        1  0.981138\n",
      "2   0.850875      0       1      False        1  0.999998\n",
      "3   0.199811      0       0       True        0  0.000890\n",
      "4   0.612151      1       1       True        1  0.872203\n",
      "..       ...    ...     ...        ...      ...       ...\n",
      "83  0.168183      0       0       True        0  0.001271\n",
      "84  0.134672      0       0       True        0  0.000690\n",
      "85  0.301238      0       0       True        0  0.014349\n",
      "86  0.303115      0       0       True        0  0.014847\n",
      "87  0.186454      0       0       True        0  0.001773\n",
      "\n",
      "[88 rows x 6 columns]\n"
     ]
    }
   ],
   "source": [
    "from sklearn.svm import SVC\n",
    "from sklearn.pipeline import make_pipeline\n",
    "from sklearn.preprocessing import StandardScaler\n",
    "\n",
    "test_1 = combine_hyps[0:19]\n",
    "test_2 = combine_hyps[19:37]\n",
    "test_3 = combine_hyps[37:54]\n",
    "test_4 = combine_hyps[54:71]\n",
    "test_5 = combine_hyps[71:88]\n",
    "\n",
    "train_1 = combine_hyps[19:88]\n",
    "train_2 = combine_hyps[0:19] + combine_hyps[37:88]\n",
    "train_3 = combine_hyps[0:37] + combine_hyps[54:88]\n",
    "train_4 = combine_hyps[0:54] + combine_hyps[71:88]\n",
    "train_5 = combine_hyps[0:19]\n",
    "\n",
    "idx = [0, 19, 37, 54, 71, 88]\n",
    "\n",
    "for i in range(5):\n",
    "    svc = SVC(kernel='linear', probability=True, random_state=0)\n",
    "    clf = make_pipeline(StandardScaler(), svc)\n",
    "    # Fit the model to the data\n",
    "\n",
    "    train = np.array(combine_hyps[0:idx[i]]+combine_hyps[idx[i+1]:88]).reshape(-1, 1)\n",
    "    t_tra = np.array(combine_result[0:idx[i]]+combine_result[idx[i+1]:88]).reshape(-1, 1)\n",
    "    valid = np.array(combine_hyps[idx[i]:idx[i+1]]).reshape(-1, 1)\n",
    "    t_val = np.array(combine_result[idx[i]:idx[i+1]]).reshape(-1, 1)\n",
    "    # print(train.shape, valid.shape)\n",
    "\n",
    "    clf.fit(train, t_tra.ravel())\n",
    "    # print(train, t_tra)\n",
    "    #         print(reg.coef_)\n",
    "    y_predicted = clf.predict(train)\n",
    "    #         loss = mean_squared_error(t_tra, y_predicted)\n",
    "    y_predicted_val = clf.predict(valid)\n",
    "    y_predicted_val_pro = clf.predict_proba(valid)\n",
    "    y_predicted_val_pro = [row[1] for row in y_predicted_val_pro]\n",
    "\n",
    "    if  i == 0:\n",
    "        new_pre = y_predicted_val\n",
    "        new_pre_hys = y_predicted_val_pro\n",
    "    else:\n",
    "        new_pre = np.concatenate((new_pre, y_predicted_val))\n",
    "        new_pre_hys = np.concatenate((new_pre_hys, y_predicted_val_pro))\n",
    "    \n",
    "# new_pre = new_pre.reshape(-1, 1)\n",
    "# print(new_pre.shape, new_pre_hys.shape)\n",
    "\n",
    "new_df = pd.DataFrame(new_pre, columns=['new_pre'])\n",
    "new_h_df = pd.DataFrame(new_pre_hys, columns=['new_hyps'])\n",
    "combine = pd.concat([combine, new_df, new_h_df], axis=1)\n",
    "combine.to_csv(f'combine-v2.csv', index=False) \n",
    "print(combine)"
   ]
  },
  {
   "cell_type": "code",
   "execution_count": 67,
   "id": "8ce16389",
   "metadata": {},
   "outputs": [
    {
     "name": "stdout",
     "output_type": "stream",
     "text": [
      "        hyps  truth  result  ifcorrect  new_pre  new_hyps\n",
      "2   0.850875      0       1      False        1  0.999998\n",
      "5   0.704612      0       1      False        1  0.980640\n",
      "7   0.303405      1       0      False        0  0.008415\n",
      "8   0.452771      1       0      False        0  0.176873\n",
      "10  0.658045      0       1      False        1  0.948628\n",
      "16  0.554817      0       1      False        1  0.662773\n",
      "19  0.336585      1       0      False        0  0.028302\n",
      "20  0.450389      1       0      False        0  0.216982\n",
      "22  0.375024      1       0      False        0  0.060320\n",
      "23  0.467692      1       0      False        0  0.281497\n",
      "24  0.111843      1       0      False        0  0.000316\n",
      "25  0.407196      1       0      False        0  0.104535\n",
      "27  0.452958      1       0      False        0  0.225845\n",
      "37  0.153153      1       0      False        0  0.001000\n",
      "39  0.315608      1       0      False        0  0.018868\n",
      "41  0.196779      1       0      False        0  0.002202\n",
      "42  0.310086      1       0      False        0  0.017079\n",
      "45  0.569031      0       1      False        1  0.649292\n",
      "46  0.164504      1       0      False        0  0.001228\n",
      "55  0.432139      1       0      False        0  0.153403\n",
      "62  0.347794      1       0      False        0  0.041182\n",
      "70  0.291589      1       0      False        0  0.015528\n",
      "71  0.346183      1       0      False        0  0.032423\n",
      "75  0.468244      1       0      False        0  0.231594\n",
      "79  0.310461      1       0      False        0  0.016969\n",
      "              precision    recall  f1-score   support\n",
      "\n",
      " non-patient       0.71      0.92      0.80        60\n",
      "     patient       0.55      0.21      0.31        28\n",
      "\n",
      "    accuracy                           0.69        88\n",
      "   macro avg       0.63      0.57      0.56        88\n",
      "weighted avg       0.66      0.69      0.65        88\n",
      "\n",
      "sensitivuty:  0.21428571428571427\n",
      "specificity:  0.9166666666666666\n",
      "AUC:  0.7589285714285715\n",
      "AUC:  0.7333333333333334 0.9000000000000001 0.7272727272727272 0.8833333333333333 0.8166666666666667\n",
      "AUC_avg:  0.8121212121212121\n"
     ]
    },
    {
     "data": {
      "text/plain": [
       "<sklearn.metrics._plot.confusion_matrix.ConfusionMatrixDisplay at 0x1e4587fe670>"
      ]
     },
     "execution_count": 67,
     "metadata": {},
     "output_type": "execute_result"
    },
    {
     "data": {
      "image/png": "[encoded data removed]",
      "text/plain": [
       "<Figure size 640x480 with 2 Axes>"
      ]
     },
     "metadata": {},
     "output_type": "display_data"
    }
   ],
   "source": [
    "# combine_v2\n",
    "combine_v2 = pd.read_csv('combine-v2.csv')\n",
    "combine_v2['result'] = combine_v2['new_pre']\n",
    "fivefolds_bert_v3_15k_wrong = combine_v2.iloc[np.where(combine_v2['ifcorrect'] == False)]\n",
    "print(fivefolds_bert_v3_15k_wrong)\n",
    "# print(fivefolds_whisper_WhisperForAudioClassification_v3_10k_2.head(20))\n",
    "combine_v2_result = combine_v2['result'].tolist()\n",
    "combine_v2_hyps = combine_v2['new_hyps'].tolist()\n",
    "combine_v2_truth = [int(i) for i in combine_v2['truth'].tolist()]\n",
    "print(classification_report(combine_v2_truth, combine_v2_result, target_names=target_names))\n",
    "tn, fp, fn, tp = confusion_matrix(combine_v2_truth, combine_v2_result).ravel()\n",
    "print('sensitivuty: ',tp / (fn+tp))\n",
    "print('specificity: ',tn / (fp+tn))\n",
    "\n",
    "fpr, tpr, thresholds = metrics.roc_curve(np.array(combine_v2_truth), np.array(combine_v2_hyps), pos_label=1)\n",
    "print('AUC: ',metrics.auc(fpr, tpr))\n",
    "fpr1, tpr1, thresholds1 = metrics.roc_curve(np.array(combine_v2_truth[0:19]), np.array(combine_v2_hyps[0:19]), pos_label=1)\n",
    "auc1 = metrics.auc(fpr1, tpr1)\n",
    "fpr2, tpr2, thresholds2 = metrics.roc_curve(np.array(combine_v2_truth[19:37]), np.array(combine_v2_hyps[19:37]), pos_label=1)\n",
    "auc2 = metrics.auc(fpr2, tpr2)\n",
    "fpr3, tpr3, thresholds3 = metrics.roc_curve(np.array(combine_v2_truth[37:54]), np.array(combine_v2_hyps[37:54]), pos_label=1)\n",
    "auc3 = metrics.auc(fpr3, tpr3)\n",
    "fpr4, tpr4, thresholds4 = metrics.roc_curve(np.array(combine_v2_truth[54:71]), np.array(combine_v2_hyps[54:71]), pos_label=1)\n",
    "auc4 = metrics.auc(fpr4, tpr4)\n",
    "fpr5, tpr5, thresholds5 = metrics.roc_curve(np.array(combine_v2_truth[71:88]), np.array(combine_v2_hyps[71:88]), pos_label=1)\n",
    "auc5 = metrics.auc(fpr5, tpr5)\n",
    "print('AUC: ', auc1, auc2, auc3, auc4, auc5)\n",
    "print(\"AUC_avg: \", (auc1+auc2+auc3+auc4+auc5)/5)\n",
    "\n",
    "y_test = [bool(int(x)) for x in combine_v2_truth]\n",
    "y_pred = [bool(int(x)) for x in combine_v2_result]\n",
    "ConfusionMatrixDisplay.from_predictions(y_test, y_pred, cmap=\"Blues\")"
   ]
  },
  {
   "cell_type": "code",
   "execution_count": 68,
   "id": "executed-october",
   "metadata": {},
   "outputs": [],
   "source": [
    "# whisper_WhisperForAudioClassification_v3 = pd.read_csv('whisper-WhisperForAudioClassification-v3-15k_2.csv')\n",
    "# whisper_v3_15k_with_id = pd.read_csv('whisper-v3-15k_with_id_2.csv')\n",
    "\n",
    "# combine = pd.DataFrame()\n",
    "# combine['hyps'] = (whisper_WhisperForAudioClassification_v3['hyps'] + whisper_v3_15k_with_id['hyps']) / 2\n",
    "# combine['truth'] = whisper_WhisperForAudioClassification_v3['truth'].astype(int)\n",
    "# combine['result'] = np.where(combine['hyps'] >= 0.5,1,0)\n",
    "# combine['ifcorrect'] = combine['result'] == combine['truth']\n",
    "# # combine\n",
    "# combine_wrong = combine.iloc[np.where(combine['ifcorrect'] == False)]\n",
    "# print(combine_wrong)\n",
    "# # print(fivefolds_with10separate_10k.head(20))\n",
    "# combine_result = combine['result'].tolist()\n",
    "# combine_hyps = combine['hyps'].tolist()\n",
    "# combine_truth = [int(i) for i in combine['truth'].tolist()]\n",
    "# print(classification_report(combine_truth, combine_result, target_names=target_names))\n",
    "# tn, fp, fn, tp = confusion_matrix(combine_truth, combine_result).ravel()\n",
    "# print('sensitivuty: ',tp / (fn+tp))\n",
    "# print('specificity: ',tn / (fp+tn))\n",
    "# fpr, tpr, thresholds = metrics.roc_curve(np.array(combine_truth), np.array(combine_hyps), pos_label=1)\n",
    "# print('AUC: ',metrics.auc(fpr, tpr))"
   ]
  },
  {
   "cell_type": "code",
   "execution_count": null,
   "id": "5cbc58e8",
   "metadata": {},
   "outputs": [],
   "source": []
  }
 ],
 "metadata": {
  "kernelspec": {
   "display_name": "Python 3",
   "language": "python",
   "name": "python3"
  },
  "language_info": {
   "codemirror_mode": {
    "name": "ipython",
    "version": 3
   },
   "file_extension": ".py",
   "mimetype": "text/x-python",
   "name": "python",
   "nbconvert_exporter": "python",
   "pygments_lexer": "ipython3",
   "version": "3.8.18"
  }
 },
 "nbformat": 4,
 "nbformat_minor": 5
}
